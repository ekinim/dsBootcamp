{
 "cells": [
  {
   "cell_type": "markdown",
   "metadata": {},
   "source": [
    "## Data Frame"
   ]
  },
  {
   "cell_type": "code",
   "execution_count": 91,
   "metadata": {},
   "outputs": [],
   "source": [
    "import pandas as pd\n",
    "import numpy as np\n",
    "import warnings\n",
    "warnings.filterwarnings(\"ignore\")"
   ]
  },
  {
   "cell_type": "code",
   "execution_count": 92,
   "metadata": {},
   "outputs": [
    {
     "data": {
      "text/html": [
       "<div>\n",
       "<style scoped>\n",
       "    .dataframe tbody tr th:only-of-type {\n",
       "        vertical-align: middle;\n",
       "    }\n",
       "\n",
       "    .dataframe tbody tr th {\n",
       "        vertical-align: top;\n",
       "    }\n",
       "\n",
       "    .dataframe thead th {\n",
       "        text-align: right;\n",
       "    }\n",
       "</style>\n",
       "<table border=\"1\" class=\"dataframe\">\n",
       "  <thead>\n",
       "    <tr style=\"text-align: right;\">\n",
       "      <th></th>\n",
       "      <th>Ad</th>\n",
       "      <th>Nüfus</th>\n",
       "      <th>Kod</th>\n",
       "    </tr>\n",
       "  </thead>\n",
       "  <tbody>\n",
       "    <tr>\n",
       "      <th>0</th>\n",
       "      <td>İstanbul</td>\n",
       "      <td>150229231</td>\n",
       "      <td>34</td>\n",
       "    </tr>\n",
       "    <tr>\n",
       "      <th>1</th>\n",
       "      <td>Ankara</td>\n",
       "      <td>5445026</td>\n",
       "      <td>06</td>\n",
       "    </tr>\n",
       "    <tr>\n",
       "      <th>2</th>\n",
       "      <td>İzmir</td>\n",
       "      <td>4279677</td>\n",
       "      <td>35</td>\n",
       "    </tr>\n",
       "    <tr>\n",
       "      <th>3</th>\n",
       "      <td>Bursa</td>\n",
       "      <td>2936803</td>\n",
       "      <td>16</td>\n",
       "    </tr>\n",
       "    <tr>\n",
       "      <th>4</th>\n",
       "      <td>Antalya</td>\n",
       "      <td>2364396</td>\n",
       "      <td>07</td>\n",
       "    </tr>\n",
       "  </tbody>\n",
       "</table>\n",
       "</div>"
      ],
      "text/plain": [
       "         Ad      Nüfus Kod\n",
       "0  İstanbul  150229231  34\n",
       "1    Ankara    5445026  06\n",
       "2     İzmir    4279677  35\n",
       "3     Bursa    2936803  16\n",
       "4   Antalya    2364396  07"
      ]
     },
     "execution_count": 92,
     "metadata": {},
     "output_type": "execute_result"
    }
   ],
   "source": [
    "df1 = pd.DataFrame({\"Ad\":[\"İstanbul\", \"Ankara\", \"İzmir\", \"Bursa\", \"Antalya\"], \n",
    "                   \"Nüfus\":[150229231, 5445026, 4279677, 2936803, 2364396],\n",
    "                   \"Kod\":[\"34\", \"06\", \"35\", \"16\", \"07\"]\n",
    "                  })\n",
    "df1\n",
    "# Kolonlar(Değişkenler/Variables)\n",
    "# Satırlar(Gözlemler/Observations)"
   ]
  },
  {
   "cell_type": "code",
   "execution_count": 93,
   "metadata": {},
   "outputs": [
    {
     "data": {
      "text/html": [
       "<div>\n",
       "<style scoped>\n",
       "    .dataframe tbody tr th:only-of-type {\n",
       "        vertical-align: middle;\n",
       "    }\n",
       "\n",
       "    .dataframe tbody tr th {\n",
       "        vertical-align: top;\n",
       "    }\n",
       "\n",
       "    .dataframe thead th {\n",
       "        text-align: right;\n",
       "    }\n",
       "</style>\n",
       "<table border=\"1\" class=\"dataframe\">\n",
       "  <thead>\n",
       "    <tr style=\"text-align: right;\">\n",
       "      <th></th>\n",
       "      <th>0</th>\n",
       "      <th>1</th>\n",
       "      <th>2</th>\n",
       "      <th>3</th>\n",
       "    </tr>\n",
       "  </thead>\n",
       "  <tbody>\n",
       "    <tr>\n",
       "      <th>0</th>\n",
       "      <td>0</td>\n",
       "      <td>1</td>\n",
       "      <td>2</td>\n",
       "      <td>3</td>\n",
       "    </tr>\n",
       "    <tr>\n",
       "      <th>1</th>\n",
       "      <td>4</td>\n",
       "      <td>5</td>\n",
       "      <td>6</td>\n",
       "      <td>7</td>\n",
       "    </tr>\n",
       "  </tbody>\n",
       "</table>\n",
       "</div>"
      ],
      "text/plain": [
       "   0  1  2  3\n",
       "0  0  1  2  3\n",
       "1  4  5  6  7"
      ]
     },
     "execution_count": 93,
     "metadata": {},
     "output_type": "execute_result"
    }
   ],
   "source": [
    "dizi1 = np.array([[0,1,2,3],[4,5,6,7]])\n",
    "df2 = pd.DataFrame(dizi1)\n",
    "df2"
   ]
  },
  {
   "cell_type": "code",
   "execution_count": 94,
   "metadata": {},
   "outputs": [
    {
     "data": {
      "text/html": [
       "<div>\n",
       "<style scoped>\n",
       "    .dataframe tbody tr th:only-of-type {\n",
       "        vertical-align: middle;\n",
       "    }\n",
       "\n",
       "    .dataframe tbody tr th {\n",
       "        vertical-align: top;\n",
       "    }\n",
       "\n",
       "    .dataframe thead th {\n",
       "        text-align: right;\n",
       "    }\n",
       "</style>\n",
       "<table border=\"1\" class=\"dataframe\">\n",
       "  <thead>\n",
       "    <tr style=\"text-align: right;\">\n",
       "      <th></th>\n",
       "      <th>Column 1</th>\n",
       "      <th>Column 2</th>\n",
       "      <th>Column 3</th>\n",
       "      <th>Column 4</th>\n",
       "    </tr>\n",
       "  </thead>\n",
       "  <tbody>\n",
       "    <tr>\n",
       "      <th>Row 1</th>\n",
       "      <td>0</td>\n",
       "      <td>1</td>\n",
       "      <td>2</td>\n",
       "      <td>3</td>\n",
       "    </tr>\n",
       "    <tr>\n",
       "      <th>Row 2</th>\n",
       "      <td>4</td>\n",
       "      <td>5</td>\n",
       "      <td>6</td>\n",
       "      <td>7</td>\n",
       "    </tr>\n",
       "  </tbody>\n",
       "</table>\n",
       "</div>"
      ],
      "text/plain": [
       "       Column 1  Column 2  Column 3  Column 4\n",
       "Row 1         0         1         2         3\n",
       "Row 2         4         5         6         7"
      ]
     },
     "execution_count": 94,
     "metadata": {},
     "output_type": "execute_result"
    }
   ],
   "source": [
    "df2.columns = [\"Column 1\", \"Column 2\", \"Column 3\", \"Column 4\"]\n",
    "df2.index = [\"Row 1\", \"Row 2\"]\n",
    "# veya   df2.pd.DataFrame(dizi1, columns=[\"Column 1\", ....], index=[\"Row 1\", ....])\n",
    "df2"
   ]
  },
  {
   "cell_type": "code",
   "execution_count": 95,
   "metadata": {},
   "outputs": [
    {
     "data": {
      "text/html": [
       "<div>\n",
       "<style scoped>\n",
       "    .dataframe tbody tr th:only-of-type {\n",
       "        vertical-align: middle;\n",
       "    }\n",
       "\n",
       "    .dataframe tbody tr th {\n",
       "        vertical-align: top;\n",
       "    }\n",
       "\n",
       "    .dataframe thead th {\n",
       "        text-align: right;\n",
       "    }\n",
       "</style>\n",
       "<table border=\"1\" class=\"dataframe\">\n",
       "  <thead>\n",
       "    <tr style=\"text-align: right;\">\n",
       "      <th></th>\n",
       "      <th>Column 1</th>\n",
       "      <th>Column 2</th>\n",
       "    </tr>\n",
       "  </thead>\n",
       "  <tbody>\n",
       "    <tr>\n",
       "      <th>Row 1</th>\n",
       "      <td>9</td>\n",
       "      <td>5</td>\n",
       "    </tr>\n",
       "    <tr>\n",
       "      <th>Row 2</th>\n",
       "      <td>8</td>\n",
       "      <td>4</td>\n",
       "    </tr>\n",
       "    <tr>\n",
       "      <th>Row 3</th>\n",
       "      <td>7</td>\n",
       "      <td>3</td>\n",
       "    </tr>\n",
       "    <tr>\n",
       "      <th>Row 4</th>\n",
       "      <td>6</td>\n",
       "      <td>2</td>\n",
       "    </tr>\n",
       "  </tbody>\n",
       "</table>\n",
       "</div>"
      ],
      "text/plain": [
       "       Column 1  Column 2\n",
       "Row 1         9         5\n",
       "Row 2         8         4\n",
       "Row 3         7         3\n",
       "Row 4         6         2"
      ]
     },
     "execution_count": 95,
     "metadata": {},
     "output_type": "execute_result"
    }
   ],
   "source": [
    "# boş veri çerçevesi oluşturup sonradan da ekleyebiliriz.\n",
    "df3 = pd.DataFrame()\n",
    "df3[\"Column 1\"] = [9,8,7,6]\n",
    "df3[\"Column 2\"] = [5,4,3,2]\n",
    "df3.index = [\"Row 1\", \"Row 2\", \"Row 3\", \"Row 4\"]\n",
    "df3"
   ]
  },
  {
   "cell_type": "markdown",
   "metadata": {},
   "source": [
    "## **Bu kısmı anlamadım:<br>**\n",
    "\"Pep8 ile ilgili küçük bir not: Muhtemelen iki yanında boşluk olan ” = “ i değer atama için, “==” i ise karşılaştırma için kullanıyorsunuz. Python'da, okunabilirliği geliştirmek ve argumanlar atamalarını değişken atamalarından ayırt etmeyi kolaylaştırmak için “=” in iki yanında boşluk kullanılmaması alışkanlığı yerleşmiştir.\""
   ]
  },
  {
   "cell_type": "code",
   "execution_count": 96,
   "metadata": {},
   "outputs": [
    {
     "data": {
      "text/html": [
       "<div>\n",
       "<style scoped>\n",
       "    .dataframe tbody tr th:only-of-type {\n",
       "        vertical-align: middle;\n",
       "    }\n",
       "\n",
       "    .dataframe tbody tr th {\n",
       "        vertical-align: top;\n",
       "    }\n",
       "\n",
       "    .dataframe thead th {\n",
       "        text-align: right;\n",
       "    }\n",
       "</style>\n",
       "<table border=\"1\" class=\"dataframe\">\n",
       "  <thead>\n",
       "    <tr style=\"text-align: right;\">\n",
       "      <th></th>\n",
       "    </tr>\n",
       "    <tr>\n",
       "      <th>Kod</th>\n",
       "    </tr>\n",
       "  </thead>\n",
       "  <tbody>\n",
       "    <tr>\n",
       "      <th>FR</th>\n",
       "    </tr>\n",
       "    <tr>\n",
       "      <th>GE</th>\n",
       "    </tr>\n",
       "    <tr>\n",
       "      <th>US</th>\n",
       "    </tr>\n",
       "    <tr>\n",
       "      <th>UK</th>\n",
       "    </tr>\n",
       "    <tr>\n",
       "      <th>CN</th>\n",
       "    </tr>\n",
       "  </tbody>\n",
       "</table>\n",
       "</div>"
      ],
      "text/plain": [
       "Empty DataFrame\n",
       "Columns: []\n",
       "Index: [FR, GE, US, UK, CN]"
      ]
     },
     "execution_count": 96,
     "metadata": {},
     "output_type": "execute_result"
    }
   ],
   "source": [
    "ulke_kod = ['FR', 'GE', 'US', 'UK', 'CN']\n",
    "ulkeler = pd.DataFrame(index=ulke_kod)\n",
    "ulkeler.index.name = \"Kod\"\n",
    "ulkeler"
   ]
  },
  {
   "cell_type": "code",
   "execution_count": 97,
   "metadata": {},
   "outputs": [
    {
     "data": {
      "text/html": [
       "<div>\n",
       "<style scoped>\n",
       "    .dataframe tbody tr th:only-of-type {\n",
       "        vertical-align: middle;\n",
       "    }\n",
       "\n",
       "    .dataframe tbody tr th {\n",
       "        vertical-align: top;\n",
       "    }\n",
       "\n",
       "    .dataframe thead th {\n",
       "        text-align: right;\n",
       "    }\n",
       "</style>\n",
       "<table border=\"1\" class=\"dataframe\">\n",
       "  <thead>\n",
       "    <tr style=\"text-align: right;\">\n",
       "      <th></th>\n",
       "      <th>Ülke</th>\n",
       "      <th>Nüfus</th>\n",
       "      <th>Yaşam Süresi</th>\n",
       "      <th>Toplam Gelir</th>\n",
       "      <th>Kıta</th>\n",
       "      <th>Yıl</th>\n",
       "    </tr>\n",
       "    <tr>\n",
       "      <th>Kod</th>\n",
       "      <th></th>\n",
       "      <th></th>\n",
       "      <th></th>\n",
       "      <th></th>\n",
       "      <th></th>\n",
       "      <th></th>\n",
       "    </tr>\n",
       "  </thead>\n",
       "  <tbody>\n",
       "    <tr>\n",
       "      <th>FR</th>\n",
       "      <td>Fransa</td>\n",
       "      <td>61083916</td>\n",
       "      <td>80.657</td>\n",
       "      <td>2657213249384</td>\n",
       "      <td>Avrupa</td>\n",
       "      <td>2007</td>\n",
       "    </tr>\n",
       "    <tr>\n",
       "      <th>GE</th>\n",
       "      <td>Almanya</td>\n",
       "      <td>82400996</td>\n",
       "      <td>79.406</td>\n",
       "      <td>3439953462907</td>\n",
       "      <td>Avrupa</td>\n",
       "      <td>2007</td>\n",
       "    </tr>\n",
       "    <tr>\n",
       "      <th>US</th>\n",
       "      <td>ABD</td>\n",
       "      <td>301139947</td>\n",
       "      <td>78.242</td>\n",
       "      <td>14477635000000</td>\n",
       "      <td>Amerika</td>\n",
       "      <td>2007</td>\n",
       "    </tr>\n",
       "    <tr>\n",
       "      <th>UK</th>\n",
       "      <td>İngiltere</td>\n",
       "      <td>60776238</td>\n",
       "      <td>79.425</td>\n",
       "      <td>3074359743897</td>\n",
       "      <td>Avrupa</td>\n",
       "      <td>2007</td>\n",
       "    </tr>\n",
       "    <tr>\n",
       "      <th>CN</th>\n",
       "      <td>Çin</td>\n",
       "      <td>1318683096</td>\n",
       "      <td>72.961</td>\n",
       "      <td>3552182311652</td>\n",
       "      <td>Asya</td>\n",
       "      <td>2007</td>\n",
       "    </tr>\n",
       "  </tbody>\n",
       "</table>\n",
       "</div>"
      ],
      "text/plain": [
       "          Ülke       Nüfus  Yaşam Süresi    Toplam Gelir     Kıta   Yıl\n",
       "Kod                                                                    \n",
       "FR      Fransa    61083916        80.657   2657213249384   Avrupa  2007\n",
       "GE     Almanya    82400996        79.406   3439953462907   Avrupa  2007\n",
       "US         ABD   301139947        78.242  14477635000000  Amerika  2007\n",
       "UK   İngiltere    60776238        79.425   3074359743897   Avrupa  2007\n",
       "CN         Çin  1318683096        72.961   3552182311652     Asya  2007"
      ]
     },
     "execution_count": 97,
     "metadata": {},
     "output_type": "execute_result"
    }
   ],
   "source": [
    "ulkeler[\"Ülke\"] = ['Fransa', 'Almanya', 'ABD', 'İngiltere', 'Çin']\n",
    "ulkeler[\"Nüfus\"] = [61083916, 82400996, 301139947, 60776238, 1318683096]\n",
    "ulkeler[\"Yaşam Süresi\"] = [80.657, 79.406, 78.242 ,79.425, 72.961]\n",
    "ulkeler[\"Toplam Gelir\"] = [2657213249384, 3439953462907, 14477635000000, 3074359743897, 3552182311652]\n",
    "ulkeler[\"Kıta\"] = ['Avrupa', 'Avrupa', 'Amerika', 'Avrupa', 'Asya']\n",
    "## \"Ort. Yaşam Süresi\" ismini değiştirdim fakat yeni bir sütun olarak geldi. Silemedim.\n",
    "## del ulkeler[\"Ort. Yaşam Süresi\"] yazınca oldu. Bu doğru bir yöntem mi? Arkasında bir data falan bıraktı mı? .drop\n",
    "ulkeler[\"Yıl\"] = 2007\n",
    "ulkeler"
   ]
  },
  {
   "cell_type": "code",
   "execution_count": 98,
   "metadata": {
    "scrolled": true
   },
   "outputs": [
    {
     "name": "stdout",
     "output_type": "stream",
     "text": [
      "Kod\n",
      "FR      61083916\n",
      "GE      82400996\n",
      "US     301139947\n",
      "UK      60776238\n",
      "CN    1318683096\n",
      "Name: Nüfus, dtype: int64 \n",
      "\n",
      "Kod\n",
      "FR      61083916\n",
      "GE      82400996\n",
      "US     301139947\n",
      "UK      60776238\n",
      "CN    1318683096\n",
      "Name: Nüfus, dtype: int64\n",
      "\n",
      "Type is:  <class 'pandas.core.series.Series'>\n"
     ]
    }
   ],
   "source": [
    "print(ulkeler[\"Nüfus\"], \"\\n\")    ## dot notation veya bracket notation. ikisi de olur\n",
    "print(ulkeler.Nüfus)             ## fakat sütun isminde boşluk varsa, patlar. [\"bu daha yaygın kullanılıyor\"]\n",
    "## bu altlardaki Name:  kısmını nasıl kaldırıyoruz?\n",
    "print(\"\\nType is: \", type(ulkeler.Nüfus))\n",
    "\n",
    "# Bu şekilde tek sutundan oluşan dataframe parçası karşımıza Seri (Series) olarak çıkacak.\n",
    "# Bu seri aynı zamanda tek boyutlu bir dizidir."
   ]
  },
  {
   "cell_type": "code",
   "execution_count": 99,
   "metadata": {
    "scrolled": false
   },
   "outputs": [
    {
     "name": "stdout",
     "output_type": "stream",
     "text": [
      "          Nüfus\n",
      "Kod            \n",
      "FR     61083916\n",
      "GE     82400996\n",
      "US    301139947\n",
      "UK     60776238\n",
      "CN   1318683096 \n",
      "\n",
      "Type is:  <class 'pandas.core.frame.DataFrame'>\n"
     ]
    }
   ],
   "source": [
    "print(ulkeler[[\"Nüfus\"]], \"\\n\")\n",
    "print(\"Type is: \", type(ulkeler[[\"Nüfus\"]]))"
   ]
  },
  {
   "cell_type": "code",
   "execution_count": 100,
   "metadata": {
    "scrolled": true
   },
   "outputs": [
    {
     "data": {
      "text/html": [
       "<div>\n",
       "<style scoped>\n",
       "    .dataframe tbody tr th:only-of-type {\n",
       "        vertical-align: middle;\n",
       "    }\n",
       "\n",
       "    .dataframe tbody tr th {\n",
       "        vertical-align: top;\n",
       "    }\n",
       "\n",
       "    .dataframe thead th {\n",
       "        text-align: right;\n",
       "    }\n",
       "</style>\n",
       "<table border=\"1\" class=\"dataframe\">\n",
       "  <thead>\n",
       "    <tr style=\"text-align: right;\">\n",
       "      <th></th>\n",
       "      <th>Ülke</th>\n",
       "      <th>Nüfus</th>\n",
       "      <th>Yaşam Süresi</th>\n",
       "      <th>Toplam Gelir</th>\n",
       "      <th>Kıta</th>\n",
       "      <th>Yıl</th>\n",
       "      <th>Kişi Başı Gelir</th>\n",
       "    </tr>\n",
       "    <tr>\n",
       "      <th>Kod</th>\n",
       "      <th></th>\n",
       "      <th></th>\n",
       "      <th></th>\n",
       "      <th></th>\n",
       "      <th></th>\n",
       "      <th></th>\n",
       "      <th></th>\n",
       "    </tr>\n",
       "  </thead>\n",
       "  <tbody>\n",
       "    <tr>\n",
       "      <th>FR</th>\n",
       "      <td>Fransa</td>\n",
       "      <td>61083916</td>\n",
       "      <td>80.657</td>\n",
       "      <td>2657213249384</td>\n",
       "      <td>Avrupa</td>\n",
       "      <td>2007</td>\n",
       "      <td>43501</td>\n",
       "    </tr>\n",
       "    <tr>\n",
       "      <th>GE</th>\n",
       "      <td>Almanya</td>\n",
       "      <td>82400996</td>\n",
       "      <td>79.406</td>\n",
       "      <td>3439953462907</td>\n",
       "      <td>Avrupa</td>\n",
       "      <td>2007</td>\n",
       "      <td>41746</td>\n",
       "    </tr>\n",
       "    <tr>\n",
       "      <th>US</th>\n",
       "      <td>ABD</td>\n",
       "      <td>301139947</td>\n",
       "      <td>78.242</td>\n",
       "      <td>14477635000000</td>\n",
       "      <td>Amerika</td>\n",
       "      <td>2007</td>\n",
       "      <td>48076</td>\n",
       "    </tr>\n",
       "    <tr>\n",
       "      <th>UK</th>\n",
       "      <td>İngiltere</td>\n",
       "      <td>60776238</td>\n",
       "      <td>79.425</td>\n",
       "      <td>3074359743897</td>\n",
       "      <td>Avrupa</td>\n",
       "      <td>2007</td>\n",
       "      <td>50584</td>\n",
       "    </tr>\n",
       "    <tr>\n",
       "      <th>CN</th>\n",
       "      <td>Çin</td>\n",
       "      <td>1318683096</td>\n",
       "      <td>72.961</td>\n",
       "      <td>3552182311652</td>\n",
       "      <td>Asya</td>\n",
       "      <td>2007</td>\n",
       "      <td>2693</td>\n",
       "    </tr>\n",
       "  </tbody>\n",
       "</table>\n",
       "</div>"
      ],
      "text/plain": [
       "          Ülke       Nüfus  Yaşam Süresi    Toplam Gelir     Kıta   Yıl  \\\n",
       "Kod                                                                       \n",
       "FR      Fransa    61083916        80.657   2657213249384   Avrupa  2007   \n",
       "GE     Almanya    82400996        79.406   3439953462907   Avrupa  2007   \n",
       "US         ABD   301139947        78.242  14477635000000  Amerika  2007   \n",
       "UK   İngiltere    60776238        79.425   3074359743897   Avrupa  2007   \n",
       "CN         Çin  1318683096        72.961   3552182311652     Asya  2007   \n",
       "\n",
       "     Kişi Başı Gelir  \n",
       "Kod                   \n",
       "FR             43501  \n",
       "GE             41746  \n",
       "US             48076  \n",
       "UK             50584  \n",
       "CN              2693  "
      ]
     },
     "execution_count": 100,
     "metadata": {},
     "output_type": "execute_result"
    }
   ],
   "source": [
    "ulkeler[\"Kişi Başı Gelir\"] = (ulkeler[\"Toplam Gelir\"] / ulkeler.Nüfus).astype(int)    # işlem yaparak yeni sütun oluşturma\n",
    "ulkeler"
   ]
  },
  {
   "cell_type": "markdown",
   "metadata": {},
   "source": [
    "## Satır/Sütun Seçme"
   ]
  },
  {
   "cell_type": "code",
   "execution_count": 101,
   "metadata": {
    "scrolled": true
   },
   "outputs": [
    {
     "data": {
      "text/html": [
       "<div>\n",
       "<style scoped>\n",
       "    .dataframe tbody tr th:only-of-type {\n",
       "        vertical-align: middle;\n",
       "    }\n",
       "\n",
       "    .dataframe tbody tr th {\n",
       "        vertical-align: top;\n",
       "    }\n",
       "\n",
       "    .dataframe thead th {\n",
       "        text-align: right;\n",
       "    }\n",
       "</style>\n",
       "<table border=\"1\" class=\"dataframe\">\n",
       "  <thead>\n",
       "    <tr style=\"text-align: right;\">\n",
       "      <th></th>\n",
       "      <th>Ülke</th>\n",
       "    </tr>\n",
       "    <tr>\n",
       "      <th>Kod</th>\n",
       "      <th></th>\n",
       "    </tr>\n",
       "  </thead>\n",
       "  <tbody>\n",
       "    <tr>\n",
       "      <th>FR</th>\n",
       "      <td>Fransa</td>\n",
       "    </tr>\n",
       "    <tr>\n",
       "      <th>GE</th>\n",
       "      <td>Almanya</td>\n",
       "    </tr>\n",
       "    <tr>\n",
       "      <th>US</th>\n",
       "      <td>ABD</td>\n",
       "    </tr>\n",
       "    <tr>\n",
       "      <th>UK</th>\n",
       "      <td>İngiltere</td>\n",
       "    </tr>\n",
       "    <tr>\n",
       "      <th>CN</th>\n",
       "      <td>Çin</td>\n",
       "    </tr>\n",
       "  </tbody>\n",
       "</table>\n",
       "</div>"
      ],
      "text/plain": [
       "          Ülke\n",
       "Kod           \n",
       "FR      Fransa\n",
       "GE     Almanya\n",
       "US         ABD\n",
       "UK   İngiltere\n",
       "CN         Çin"
      ]
     },
     "execution_count": 101,
     "metadata": {},
     "output_type": "execute_result"
    }
   ],
   "source": [
    "ulkeler[[\"Ülke\"]]\n",
    "# Bu tek sütunu seri ya da dizi almak istemiyorsak, yine veri çerçevesinde tutmak istiyorsak iki köşeli parantez kullanmalıyız."
   ]
  },
  {
   "cell_type": "code",
   "execution_count": 102,
   "metadata": {
    "scrolled": true
   },
   "outputs": [
    {
     "data": {
      "text/plain": [
       "Kod\n",
       "FR       Fransa\n",
       "GE      Almanya\n",
       "US          ABD\n",
       "UK    İngiltere\n",
       "CN          Çin\n",
       "Name: Ülke, dtype: object"
      ]
     },
     "execution_count": 102,
     "metadata": {},
     "output_type": "execute_result"
    }
   ],
   "source": [
    "ulkeler[\"Ülke\"]"
   ]
  },
  {
   "cell_type": "code",
   "execution_count": 103,
   "metadata": {},
   "outputs": [
    {
     "data": {
      "text/html": [
       "<div>\n",
       "<style scoped>\n",
       "    .dataframe tbody tr th:only-of-type {\n",
       "        vertical-align: middle;\n",
       "    }\n",
       "\n",
       "    .dataframe tbody tr th {\n",
       "        vertical-align: top;\n",
       "    }\n",
       "\n",
       "    .dataframe thead th {\n",
       "        text-align: right;\n",
       "    }\n",
       "</style>\n",
       "<table border=\"1\" class=\"dataframe\">\n",
       "  <thead>\n",
       "    <tr style=\"text-align: right;\">\n",
       "      <th></th>\n",
       "      <th>Ülke</th>\n",
       "      <th>Yaşam Süresi</th>\n",
       "    </tr>\n",
       "    <tr>\n",
       "      <th>Kod</th>\n",
       "      <th></th>\n",
       "      <th></th>\n",
       "    </tr>\n",
       "  </thead>\n",
       "  <tbody>\n",
       "    <tr>\n",
       "      <th>FR</th>\n",
       "      <td>Fransa</td>\n",
       "      <td>80.657</td>\n",
       "    </tr>\n",
       "    <tr>\n",
       "      <th>GE</th>\n",
       "      <td>Almanya</td>\n",
       "      <td>79.406</td>\n",
       "    </tr>\n",
       "    <tr>\n",
       "      <th>US</th>\n",
       "      <td>ABD</td>\n",
       "      <td>78.242</td>\n",
       "    </tr>\n",
       "    <tr>\n",
       "      <th>UK</th>\n",
       "      <td>İngiltere</td>\n",
       "      <td>79.425</td>\n",
       "    </tr>\n",
       "    <tr>\n",
       "      <th>CN</th>\n",
       "      <td>Çin</td>\n",
       "      <td>72.961</td>\n",
       "    </tr>\n",
       "  </tbody>\n",
       "</table>\n",
       "</div>"
      ],
      "text/plain": [
       "          Ülke  Yaşam Süresi\n",
       "Kod                         \n",
       "FR      Fransa        80.657\n",
       "GE     Almanya        79.406\n",
       "US         ABD        78.242\n",
       "UK   İngiltere        79.425\n",
       "CN         Çin        72.961"
      ]
     },
     "execution_count": 103,
     "metadata": {},
     "output_type": "execute_result"
    }
   ],
   "source": [
    "# Şekil olarak baktığımızda çok fark yokmuş gibi görünse de\n",
    "# sahip oldukları fonksiyonları ve metodları irdelemeye başlayınca farklarını göreceğiz.\n",
    "# Birden fazla sütun seçeceğimiz zaman ise iki köşeli parantez kesinlikle gerekli.\n",
    "\n",
    "ulkeler[[\"Ülke\", \"Yaşam Süresi\"]]"
   ]
  },
  {
   "cell_type": "code",
   "execution_count": 104,
   "metadata": {},
   "outputs": [
    {
     "data": {
      "text/html": [
       "<div>\n",
       "<style scoped>\n",
       "    .dataframe tbody tr th:only-of-type {\n",
       "        vertical-align: middle;\n",
       "    }\n",
       "\n",
       "    .dataframe tbody tr th {\n",
       "        vertical-align: top;\n",
       "    }\n",
       "\n",
       "    .dataframe thead th {\n",
       "        text-align: right;\n",
       "    }\n",
       "</style>\n",
       "<table border=\"1\" class=\"dataframe\">\n",
       "  <thead>\n",
       "    <tr style=\"text-align: right;\">\n",
       "      <th></th>\n",
       "      <th>Ülke</th>\n",
       "      <th>Nüfus</th>\n",
       "      <th>Yaşam Süresi</th>\n",
       "      <th>Toplam Gelir</th>\n",
       "      <th>Kıta</th>\n",
       "      <th>Yıl</th>\n",
       "      <th>Kişi Başı Gelir</th>\n",
       "    </tr>\n",
       "    <tr>\n",
       "      <th>Kod</th>\n",
       "      <th></th>\n",
       "      <th></th>\n",
       "      <th></th>\n",
       "      <th></th>\n",
       "      <th></th>\n",
       "      <th></th>\n",
       "      <th></th>\n",
       "    </tr>\n",
       "  </thead>\n",
       "  <tbody>\n",
       "    <tr>\n",
       "      <th>US</th>\n",
       "      <td>ABD</td>\n",
       "      <td>301139947</td>\n",
       "      <td>78.242</td>\n",
       "      <td>14477635000000</td>\n",
       "      <td>Amerika</td>\n",
       "      <td>2007</td>\n",
       "      <td>48076</td>\n",
       "    </tr>\n",
       "    <tr>\n",
       "      <th>UK</th>\n",
       "      <td>İngiltere</td>\n",
       "      <td>60776238</td>\n",
       "      <td>79.425</td>\n",
       "      <td>3074359743897</td>\n",
       "      <td>Avrupa</td>\n",
       "      <td>2007</td>\n",
       "      <td>50584</td>\n",
       "    </tr>\n",
       "  </tbody>\n",
       "</table>\n",
       "</div>"
      ],
      "text/plain": [
       "          Ülke      Nüfus  Yaşam Süresi    Toplam Gelir     Kıta   Yıl  \\\n",
       "Kod                                                                      \n",
       "US         ABD  301139947        78.242  14477635000000  Amerika  2007   \n",
       "UK   İngiltere   60776238        79.425   3074359743897   Avrupa  2007   \n",
       "\n",
       "     Kişi Başı Gelir  \n",
       "Kod                   \n",
       "US             48076  \n",
       "UK             50584  "
      ]
     },
     "execution_count": 104,
     "metadata": {},
     "output_type": "execute_result"
    }
   ],
   "source": [
    "ulkeler[2:4]"
   ]
  },
  {
   "cell_type": "code",
   "execution_count": 105,
   "metadata": {},
   "outputs": [
    {
     "data": {
      "text/html": [
       "<div>\n",
       "<style scoped>\n",
       "    .dataframe tbody tr th:only-of-type {\n",
       "        vertical-align: middle;\n",
       "    }\n",
       "\n",
       "    .dataframe tbody tr th {\n",
       "        vertical-align: top;\n",
       "    }\n",
       "\n",
       "    .dataframe thead th {\n",
       "        text-align: right;\n",
       "    }\n",
       "</style>\n",
       "<table border=\"1\" class=\"dataframe\">\n",
       "  <thead>\n",
       "    <tr style=\"text-align: right;\">\n",
       "      <th></th>\n",
       "      <th>Ülke</th>\n",
       "      <th>Nüfus</th>\n",
       "      <th>Yaşam Süresi</th>\n",
       "      <th>Toplam Gelir</th>\n",
       "      <th>Kıta</th>\n",
       "      <th>Yıl</th>\n",
       "      <th>Kişi Başı Gelir</th>\n",
       "    </tr>\n",
       "    <tr>\n",
       "      <th>Kod</th>\n",
       "      <th></th>\n",
       "      <th></th>\n",
       "      <th></th>\n",
       "      <th></th>\n",
       "      <th></th>\n",
       "      <th></th>\n",
       "      <th></th>\n",
       "    </tr>\n",
       "  </thead>\n",
       "  <tbody>\n",
       "    <tr>\n",
       "      <th>GE</th>\n",
       "      <td>Almanya</td>\n",
       "      <td>82400996</td>\n",
       "      <td>79.406</td>\n",
       "      <td>3439953462907</td>\n",
       "      <td>Avrupa</td>\n",
       "      <td>2007</td>\n",
       "      <td>41746</td>\n",
       "    </tr>\n",
       "  </tbody>\n",
       "</table>\n",
       "</div>"
      ],
      "text/plain": [
       "        Ülke     Nüfus  Yaşam Süresi   Toplam Gelir    Kıta   Yıl  \\\n",
       "Kod                                                                 \n",
       "GE   Almanya  82400996        79.406  3439953462907  Avrupa  2007   \n",
       "\n",
       "     Kişi Başı Gelir  \n",
       "Kod                   \n",
       "GE             41746  "
      ]
     },
     "execution_count": 105,
     "metadata": {},
     "output_type": "execute_result"
    }
   ],
   "source": [
    "ulkeler.loc[[\"GE\"]]\n",
    "# type(ulkeler.loc[[\"GE\"]])  --> <class 'pandas.core.frame.DataFrame'>"
   ]
  },
  {
   "cell_type": "code",
   "execution_count": 106,
   "metadata": {},
   "outputs": [
    {
     "data": {
      "text/plain": [
       "Ülke                     Almanya\n",
       "Nüfus                   82400996\n",
       "Yaşam Süresi              79.406\n",
       "Toplam Gelir       3439953462907\n",
       "Kıta                      Avrupa\n",
       "Yıl                         2007\n",
       "Kişi Başı Gelir            41746\n",
       "Name: GE, dtype: object"
      ]
     },
     "execution_count": 106,
     "metadata": {},
     "output_type": "execute_result"
    }
   ],
   "source": [
    "ulkeler.loc[\"GE\"]\n",
    "# type(ulkeler.loc[\"GE\"])  --> pandas.core.series.Series"
   ]
  },
  {
   "cell_type": "code",
   "execution_count": 107,
   "metadata": {
    "scrolled": true
   },
   "outputs": [
    {
     "data": {
      "text/html": [
       "<div>\n",
       "<style scoped>\n",
       "    .dataframe tbody tr th:only-of-type {\n",
       "        vertical-align: middle;\n",
       "    }\n",
       "\n",
       "    .dataframe tbody tr th {\n",
       "        vertical-align: top;\n",
       "    }\n",
       "\n",
       "    .dataframe thead th {\n",
       "        text-align: right;\n",
       "    }\n",
       "</style>\n",
       "<table border=\"1\" class=\"dataframe\">\n",
       "  <thead>\n",
       "    <tr style=\"text-align: right;\">\n",
       "      <th></th>\n",
       "      <th>Yaşam Süresi</th>\n",
       "      <th>Toplam Gelir</th>\n",
       "      <th>Kıta</th>\n",
       "      <th>Yıl</th>\n",
       "      <th>Kişi Başı Gelir</th>\n",
       "    </tr>\n",
       "    <tr>\n",
       "      <th>Kod</th>\n",
       "      <th></th>\n",
       "      <th></th>\n",
       "      <th></th>\n",
       "      <th></th>\n",
       "      <th></th>\n",
       "    </tr>\n",
       "  </thead>\n",
       "  <tbody>\n",
       "    <tr>\n",
       "      <th>US</th>\n",
       "      <td>78.242</td>\n",
       "      <td>14477635000000</td>\n",
       "      <td>Amerika</td>\n",
       "      <td>2007</td>\n",
       "      <td>48076</td>\n",
       "    </tr>\n",
       "    <tr>\n",
       "      <th>UK</th>\n",
       "      <td>79.425</td>\n",
       "      <td>3074359743897</td>\n",
       "      <td>Avrupa</td>\n",
       "      <td>2007</td>\n",
       "      <td>50584</td>\n",
       "    </tr>\n",
       "    <tr>\n",
       "      <th>CN</th>\n",
       "      <td>72.961</td>\n",
       "      <td>3552182311652</td>\n",
       "      <td>Asya</td>\n",
       "      <td>2007</td>\n",
       "      <td>2693</td>\n",
       "    </tr>\n",
       "  </tbody>\n",
       "</table>\n",
       "</div>"
      ],
      "text/plain": [
       "     Yaşam Süresi    Toplam Gelir     Kıta   Yıl  Kişi Başı Gelir\n",
       "Kod                                                              \n",
       "US         78.242  14477635000000  Amerika  2007            48076\n",
       "UK         79.425   3074359743897   Avrupa  2007            50584\n",
       "CN         72.961   3552182311652     Asya  2007             2693"
      ]
     },
     "execution_count": 107,
     "metadata": {},
     "output_type": "execute_result"
    }
   ],
   "source": [
    "ulkeler.loc[\"US\":,\"Yaşam Süresi\":]\n",
    "# type(ulkeler.loc[\"US\":,\"Yaşam Süresi\":])  --> pandas.core.frame.DataFrame"
   ]
  },
  {
   "cell_type": "code",
   "execution_count": 108,
   "metadata": {
    "scrolled": true
   },
   "outputs": [
    {
     "data": {
      "text/plain": [
       "Kod\n",
       "US    78.242\n",
       "UK    79.425\n",
       "CN    72.961\n",
       "Name: Yaşam Süresi, dtype: float64"
      ]
     },
     "execution_count": 108,
     "metadata": {},
     "output_type": "execute_result"
    }
   ],
   "source": [
    "ulkeler.loc[\"US\":, \"Yaşam Süresi\"]\n",
    "## print(type(ulkeler.loc[\"US\":,\"Yaşam Süresi\"]))  -->  <class 'pandas.core.series.Series'>"
   ]
  },
  {
   "cell_type": "code",
   "execution_count": 109,
   "metadata": {},
   "outputs": [
    {
     "data": {
      "text/plain": [
       "82400996"
      ]
     },
     "execution_count": 109,
     "metadata": {},
     "output_type": "execute_result"
    }
   ],
   "source": [
    "ulkeler.loc[\"GE\", \"Nüfus\"]    # almanya'nın nüfusunu seçtik\n",
    "## type(ulkeler.loc[\"GE\", \"Nüfus\"])  --> numpy.int64"
   ]
  },
  {
   "cell_type": "code",
   "execution_count": 110,
   "metadata": {},
   "outputs": [
    {
     "data": {
      "text/html": [
       "<div>\n",
       "<style scoped>\n",
       "    .dataframe tbody tr th:only-of-type {\n",
       "        vertical-align: middle;\n",
       "    }\n",
       "\n",
       "    .dataframe tbody tr th {\n",
       "        vertical-align: top;\n",
       "    }\n",
       "\n",
       "    .dataframe thead th {\n",
       "        text-align: right;\n",
       "    }\n",
       "</style>\n",
       "<table border=\"1\" class=\"dataframe\">\n",
       "  <thead>\n",
       "    <tr style=\"text-align: right;\">\n",
       "      <th></th>\n",
       "      <th>Nüfus</th>\n",
       "      <th>Yaşam Süresi</th>\n",
       "    </tr>\n",
       "    <tr>\n",
       "      <th>Kod</th>\n",
       "      <th></th>\n",
       "      <th></th>\n",
       "    </tr>\n",
       "  </thead>\n",
       "  <tbody>\n",
       "    <tr>\n",
       "      <th>US</th>\n",
       "      <td>301139947</td>\n",
       "      <td>78.242</td>\n",
       "    </tr>\n",
       "    <tr>\n",
       "      <th>UK</th>\n",
       "      <td>60776238</td>\n",
       "      <td>79.425</td>\n",
       "    </tr>\n",
       "  </tbody>\n",
       "</table>\n",
       "</div>"
      ],
      "text/plain": [
       "         Nüfus  Yaşam Süresi\n",
       "Kod                         \n",
       "US   301139947        78.242\n",
       "UK    60776238        79.425"
      ]
     },
     "execution_count": 110,
     "metadata": {},
     "output_type": "execute_result"
    }
   ],
   "source": [
    "ulkeler.iloc[2:4,1:3]"
   ]
  },
  {
   "cell_type": "markdown",
   "metadata": {},
   "source": [
    "## Koşullu Seçim"
   ]
  },
  {
   "cell_type": "code",
   "execution_count": 111,
   "metadata": {},
   "outputs": [
    {
     "data": {
      "text/html": [
       "<div>\n",
       "<style scoped>\n",
       "    .dataframe tbody tr th:only-of-type {\n",
       "        vertical-align: middle;\n",
       "    }\n",
       "\n",
       "    .dataframe tbody tr th {\n",
       "        vertical-align: top;\n",
       "    }\n",
       "\n",
       "    .dataframe thead th {\n",
       "        text-align: right;\n",
       "    }\n",
       "</style>\n",
       "<table border=\"1\" class=\"dataframe\">\n",
       "  <thead>\n",
       "    <tr style=\"text-align: right;\">\n",
       "      <th></th>\n",
       "      <th>Ülke</th>\n",
       "      <th>Nüfus</th>\n",
       "      <th>Yaşam Süresi</th>\n",
       "      <th>Toplam Gelir</th>\n",
       "      <th>Kıta</th>\n",
       "      <th>Yıl</th>\n",
       "      <th>Kişi Başı Gelir</th>\n",
       "    </tr>\n",
       "    <tr>\n",
       "      <th>Kod</th>\n",
       "      <th></th>\n",
       "      <th></th>\n",
       "      <th></th>\n",
       "      <th></th>\n",
       "      <th></th>\n",
       "      <th></th>\n",
       "      <th></th>\n",
       "    </tr>\n",
       "  </thead>\n",
       "  <tbody>\n",
       "    <tr>\n",
       "      <th>FR</th>\n",
       "      <td>Fransa</td>\n",
       "      <td>61083916</td>\n",
       "      <td>80.657</td>\n",
       "      <td>2657213249384</td>\n",
       "      <td>Avrupa</td>\n",
       "      <td>2007</td>\n",
       "      <td>43501</td>\n",
       "    </tr>\n",
       "    <tr>\n",
       "      <th>GE</th>\n",
       "      <td>Almanya</td>\n",
       "      <td>82400996</td>\n",
       "      <td>79.406</td>\n",
       "      <td>3439953462907</td>\n",
       "      <td>Avrupa</td>\n",
       "      <td>2007</td>\n",
       "      <td>41746</td>\n",
       "    </tr>\n",
       "    <tr>\n",
       "      <th>US</th>\n",
       "      <td>ABD</td>\n",
       "      <td>301139947</td>\n",
       "      <td>78.242</td>\n",
       "      <td>14477635000000</td>\n",
       "      <td>Amerika</td>\n",
       "      <td>2007</td>\n",
       "      <td>48076</td>\n",
       "    </tr>\n",
       "    <tr>\n",
       "      <th>UK</th>\n",
       "      <td>İngiltere</td>\n",
       "      <td>60776238</td>\n",
       "      <td>79.425</td>\n",
       "      <td>3074359743897</td>\n",
       "      <td>Avrupa</td>\n",
       "      <td>2007</td>\n",
       "      <td>50584</td>\n",
       "    </tr>\n",
       "    <tr>\n",
       "      <th>CN</th>\n",
       "      <td>Çin</td>\n",
       "      <td>1318683096</td>\n",
       "      <td>72.961</td>\n",
       "      <td>3552182311652</td>\n",
       "      <td>Asya</td>\n",
       "      <td>2007</td>\n",
       "      <td>2693</td>\n",
       "    </tr>\n",
       "  </tbody>\n",
       "</table>\n",
       "</div>"
      ],
      "text/plain": [
       "          Ülke       Nüfus  Yaşam Süresi    Toplam Gelir     Kıta   Yıl  \\\n",
       "Kod                                                                       \n",
       "FR      Fransa    61083916        80.657   2657213249384   Avrupa  2007   \n",
       "GE     Almanya    82400996        79.406   3439953462907   Avrupa  2007   \n",
       "US         ABD   301139947        78.242  14477635000000  Amerika  2007   \n",
       "UK   İngiltere    60776238        79.425   3074359743897   Avrupa  2007   \n",
       "CN         Çin  1318683096        72.961   3552182311652     Asya  2007   \n",
       "\n",
       "     Kişi Başı Gelir  \n",
       "Kod                   \n",
       "FR             43501  \n",
       "GE             41746  \n",
       "US             48076  \n",
       "UK             50584  \n",
       "CN              2693  "
      ]
     },
     "execution_count": 111,
     "metadata": {},
     "output_type": "execute_result"
    }
   ],
   "source": [
    "ulkeler"
   ]
  },
  {
   "cell_type": "code",
   "execution_count": 112,
   "metadata": {
    "scrolled": true
   },
   "outputs": [
    {
     "data": {
      "text/html": [
       "<div>\n",
       "<style scoped>\n",
       "    .dataframe tbody tr th:only-of-type {\n",
       "        vertical-align: middle;\n",
       "    }\n",
       "\n",
       "    .dataframe tbody tr th {\n",
       "        vertical-align: top;\n",
       "    }\n",
       "\n",
       "    .dataframe thead th {\n",
       "        text-align: right;\n",
       "    }\n",
       "</style>\n",
       "<table border=\"1\" class=\"dataframe\">\n",
       "  <thead>\n",
       "    <tr style=\"text-align: right;\">\n",
       "      <th></th>\n",
       "      <th>Ülke</th>\n",
       "      <th>Nüfus</th>\n",
       "      <th>Yaşam Süresi</th>\n",
       "      <th>Toplam Gelir</th>\n",
       "      <th>Kıta</th>\n",
       "      <th>Yıl</th>\n",
       "      <th>Kişi Başı Gelir</th>\n",
       "    </tr>\n",
       "    <tr>\n",
       "      <th>Kod</th>\n",
       "      <th></th>\n",
       "      <th></th>\n",
       "      <th></th>\n",
       "      <th></th>\n",
       "      <th></th>\n",
       "      <th></th>\n",
       "      <th></th>\n",
       "    </tr>\n",
       "  </thead>\n",
       "  <tbody>\n",
       "    <tr>\n",
       "      <th>US</th>\n",
       "      <td>ABD</td>\n",
       "      <td>301139947</td>\n",
       "      <td>78.242</td>\n",
       "      <td>14477635000000</td>\n",
       "      <td>Amerika</td>\n",
       "      <td>2007</td>\n",
       "      <td>48076</td>\n",
       "    </tr>\n",
       "    <tr>\n",
       "      <th>CN</th>\n",
       "      <td>Çin</td>\n",
       "      <td>1318683096</td>\n",
       "      <td>72.961</td>\n",
       "      <td>3552182311652</td>\n",
       "      <td>Asya</td>\n",
       "      <td>2007</td>\n",
       "      <td>2693</td>\n",
       "    </tr>\n",
       "  </tbody>\n",
       "</table>\n",
       "</div>"
      ],
      "text/plain": [
       "    Ülke       Nüfus  Yaşam Süresi    Toplam Gelir     Kıta   Yıl  \\\n",
       "Kod                                                                 \n",
       "US   ABD   301139947        78.242  14477635000000  Amerika  2007   \n",
       "CN   Çin  1318683096        72.961   3552182311652     Asya  2007   \n",
       "\n",
       "     Kişi Başı Gelir  \n",
       "Kod                   \n",
       "US             48076  \n",
       "CN              2693  "
      ]
     },
     "execution_count": 112,
     "metadata": {},
     "output_type": "execute_result"
    }
   ],
   "source": [
    "ulkeler.loc[lambda df: ulkeler[\"Nüfus\"]>1e8, :]    # .loc[] ve lambda ile koşullama"
   ]
  },
  {
   "cell_type": "code",
   "execution_count": 113,
   "metadata": {},
   "outputs": [
    {
     "data": {
      "text/html": [
       "<div>\n",
       "<style scoped>\n",
       "    .dataframe tbody tr th:only-of-type {\n",
       "        vertical-align: middle;\n",
       "    }\n",
       "\n",
       "    .dataframe tbody tr th {\n",
       "        vertical-align: top;\n",
       "    }\n",
       "\n",
       "    .dataframe thead th {\n",
       "        text-align: right;\n",
       "    }\n",
       "</style>\n",
       "<table border=\"1\" class=\"dataframe\">\n",
       "  <thead>\n",
       "    <tr style=\"text-align: right;\">\n",
       "      <th></th>\n",
       "      <th>Nüfus</th>\n",
       "      <th>Yaşam Süresi</th>\n",
       "      <th>Toplam Gelir</th>\n",
       "      <th>Kıta</th>\n",
       "    </tr>\n",
       "    <tr>\n",
       "      <th>Kod</th>\n",
       "      <th></th>\n",
       "      <th></th>\n",
       "      <th></th>\n",
       "      <th></th>\n",
       "    </tr>\n",
       "  </thead>\n",
       "  <tbody>\n",
       "    <tr>\n",
       "      <th>US</th>\n",
       "      <td>301139947</td>\n",
       "      <td>78.242</td>\n",
       "      <td>14477635000000</td>\n",
       "      <td>Amerika</td>\n",
       "    </tr>\n",
       "    <tr>\n",
       "      <th>CN</th>\n",
       "      <td>1318683096</td>\n",
       "      <td>72.961</td>\n",
       "      <td>3552182311652</td>\n",
       "      <td>Asya</td>\n",
       "    </tr>\n",
       "  </tbody>\n",
       "</table>\n",
       "</div>"
      ],
      "text/plain": [
       "          Nüfus  Yaşam Süresi    Toplam Gelir     Kıta\n",
       "Kod                                                   \n",
       "US    301139947        78.242  14477635000000  Amerika\n",
       "CN   1318683096        72.961   3552182311652     Asya"
      ]
     },
     "execution_count": 113,
     "metadata": {},
     "output_type": "execute_result"
    }
   ],
   "source": [
    "ulkeler.loc[ulkeler[\"Nüfus\"]>1e8, \"Nüfus\":\"Kıta\"]    # lambda kullanmadan koşullama"
   ]
  },
  {
   "cell_type": "code",
   "execution_count": 114,
   "metadata": {},
   "outputs": [
    {
     "data": {
      "text/html": [
       "<div>\n",
       "<style scoped>\n",
       "    .dataframe tbody tr th:only-of-type {\n",
       "        vertical-align: middle;\n",
       "    }\n",
       "\n",
       "    .dataframe tbody tr th {\n",
       "        vertical-align: top;\n",
       "    }\n",
       "\n",
       "    .dataframe thead th {\n",
       "        text-align: right;\n",
       "    }\n",
       "</style>\n",
       "<table border=\"1\" class=\"dataframe\">\n",
       "  <thead>\n",
       "    <tr style=\"text-align: right;\">\n",
       "      <th></th>\n",
       "      <th>Ülke</th>\n",
       "      <th>Nüfus</th>\n",
       "      <th>Yaşam Süresi</th>\n",
       "      <th>Toplam Gelir</th>\n",
       "      <th>Kıta</th>\n",
       "      <th>Yıl</th>\n",
       "      <th>Kişi Başı Gelir</th>\n",
       "    </tr>\n",
       "    <tr>\n",
       "      <th>Kod</th>\n",
       "      <th></th>\n",
       "      <th></th>\n",
       "      <th></th>\n",
       "      <th></th>\n",
       "      <th></th>\n",
       "      <th></th>\n",
       "      <th></th>\n",
       "    </tr>\n",
       "  </thead>\n",
       "  <tbody>\n",
       "    <tr>\n",
       "      <th>US</th>\n",
       "      <td>ABD</td>\n",
       "      <td>301139947</td>\n",
       "      <td>78.242</td>\n",
       "      <td>14477635000000</td>\n",
       "      <td>Amerika</td>\n",
       "      <td>2007</td>\n",
       "      <td>48076</td>\n",
       "    </tr>\n",
       "    <tr>\n",
       "      <th>CN</th>\n",
       "      <td>Çin</td>\n",
       "      <td>1318683096</td>\n",
       "      <td>72.961</td>\n",
       "      <td>3552182311652</td>\n",
       "      <td>Asya</td>\n",
       "      <td>2007</td>\n",
       "      <td>2693</td>\n",
       "    </tr>\n",
       "  </tbody>\n",
       "</table>\n",
       "</div>"
      ],
      "text/plain": [
       "    Ülke       Nüfus  Yaşam Süresi    Toplam Gelir     Kıta   Yıl  \\\n",
       "Kod                                                                 \n",
       "US   ABD   301139947        78.242  14477635000000  Amerika  2007   \n",
       "CN   Çin  1318683096        72.961   3552182311652     Asya  2007   \n",
       "\n",
       "     Kişi Başı Gelir  \n",
       "Kod                   \n",
       "US             48076  \n",
       "CN              2693  "
      ]
     },
     "execution_count": 114,
     "metadata": {},
     "output_type": "execute_result"
    }
   ],
   "source": [
    "ulkeler[ulkeler[\"Nüfus\"]>1e8]    # .loc[] ve lambda kullanmadan koşullama. ,\"Nüfus\":\"Kıta\" gibi column slicing yapamıyoruz"
   ]
  },
  {
   "cell_type": "markdown",
   "metadata": {},
   "source": [
    "## Gruplama"
   ]
  },
  {
   "cell_type": "code",
   "execution_count": 115,
   "metadata": {},
   "outputs": [
    {
     "data": {
      "text/plain": [
       "<pandas.core.groupby.generic.DataFrameGroupBy object at 0x0A269E68>"
      ]
     },
     "execution_count": 115,
     "metadata": {},
     "output_type": "execute_result"
    }
   ],
   "source": [
    "ulkeler.groupby(\"Kıta\")\n",
    "# \"Dikkat ettiyseniz, yukarıdaki satırı çalıştırdığımızda bize veri çerçevemiz içindeki verileri döndürmedi.\n",
    "# Gruplandırmayı temsil eden bir nesne döndürdü. Mantığı şu:\n",
    "# gruplandırma sonucunda bir veri döndürmek istiyorsak, o gruplarda bazı işlemler yapmamız gerekiyor.\""
   ]
  },
  {
   "cell_type": "code",
   "execution_count": 116,
   "metadata": {},
   "outputs": [
    {
     "data": {
      "text/html": [
       "<div>\n",
       "<style scoped>\n",
       "    .dataframe tbody tr th:only-of-type {\n",
       "        vertical-align: middle;\n",
       "    }\n",
       "\n",
       "    .dataframe tbody tr th {\n",
       "        vertical-align: top;\n",
       "    }\n",
       "\n",
       "    .dataframe thead th {\n",
       "        text-align: right;\n",
       "    }\n",
       "</style>\n",
       "<table border=\"1\" class=\"dataframe\">\n",
       "  <thead>\n",
       "    <tr style=\"text-align: right;\">\n",
       "      <th></th>\n",
       "      <th>Ülke</th>\n",
       "      <th>Nüfus</th>\n",
       "      <th>Yaşam Süresi</th>\n",
       "      <th>Toplam Gelir</th>\n",
       "      <th>Yıl</th>\n",
       "      <th>Kişi Başı Gelir</th>\n",
       "    </tr>\n",
       "    <tr>\n",
       "      <th>Kıta</th>\n",
       "      <th></th>\n",
       "      <th></th>\n",
       "      <th></th>\n",
       "      <th></th>\n",
       "      <th></th>\n",
       "      <th></th>\n",
       "    </tr>\n",
       "  </thead>\n",
       "  <tbody>\n",
       "    <tr>\n",
       "      <th>Amerika</th>\n",
       "      <td>1</td>\n",
       "      <td>1</td>\n",
       "      <td>1</td>\n",
       "      <td>1</td>\n",
       "      <td>1</td>\n",
       "      <td>1</td>\n",
       "    </tr>\n",
       "    <tr>\n",
       "      <th>Asya</th>\n",
       "      <td>1</td>\n",
       "      <td>1</td>\n",
       "      <td>1</td>\n",
       "      <td>1</td>\n",
       "      <td>1</td>\n",
       "      <td>1</td>\n",
       "    </tr>\n",
       "    <tr>\n",
       "      <th>Avrupa</th>\n",
       "      <td>3</td>\n",
       "      <td>3</td>\n",
       "      <td>3</td>\n",
       "      <td>3</td>\n",
       "      <td>3</td>\n",
       "      <td>3</td>\n",
       "    </tr>\n",
       "  </tbody>\n",
       "</table>\n",
       "</div>"
      ],
      "text/plain": [
       "         Ülke  Nüfus  Yaşam Süresi  Toplam Gelir  Yıl  Kişi Başı Gelir\n",
       "Kıta                                                                  \n",
       "Amerika     1      1             1             1    1                1\n",
       "Asya        1      1             1             1    1                1\n",
       "Avrupa      3      3             3             3    3                3"
      ]
     },
     "execution_count": 116,
     "metadata": {},
     "output_type": "execute_result"
    }
   ],
   "source": [
    "ulkeler.groupby(\"Kıta\").count()"
   ]
  },
  {
   "cell_type": "code",
   "execution_count": 117,
   "metadata": {
    "scrolled": true
   },
   "outputs": [
    {
     "data": {
      "text/html": [
       "<div>\n",
       "<style scoped>\n",
       "    .dataframe tbody tr th:only-of-type {\n",
       "        vertical-align: middle;\n",
       "    }\n",
       "\n",
       "    .dataframe tbody tr th {\n",
       "        vertical-align: top;\n",
       "    }\n",
       "\n",
       "    .dataframe thead th {\n",
       "        text-align: right;\n",
       "    }\n",
       "</style>\n",
       "<table border=\"1\" class=\"dataframe\">\n",
       "  <thead>\n",
       "    <tr style=\"text-align: right;\">\n",
       "      <th></th>\n",
       "      <th>Nüfus</th>\n",
       "      <th>Yaşam Süresi</th>\n",
       "      <th>Toplam Gelir</th>\n",
       "      <th>Yıl</th>\n",
       "      <th>Kişi Başı Gelir</th>\n",
       "    </tr>\n",
       "    <tr>\n",
       "      <th>Kıta</th>\n",
       "      <th></th>\n",
       "      <th></th>\n",
       "      <th></th>\n",
       "      <th></th>\n",
       "      <th></th>\n",
       "    </tr>\n",
       "  </thead>\n",
       "  <tbody>\n",
       "    <tr>\n",
       "      <th>Amerika</th>\n",
       "      <td>301139947</td>\n",
       "      <td>78.242000</td>\n",
       "      <td>14477635000000</td>\n",
       "      <td>2007</td>\n",
       "      <td>48076</td>\n",
       "    </tr>\n",
       "    <tr>\n",
       "      <th>Asya</th>\n",
       "      <td>1318683096</td>\n",
       "      <td>72.961000</td>\n",
       "      <td>3552182311652</td>\n",
       "      <td>2007</td>\n",
       "      <td>2693</td>\n",
       "    </tr>\n",
       "    <tr>\n",
       "      <th>Avrupa</th>\n",
       "      <td>68087050</td>\n",
       "      <td>79.829333</td>\n",
       "      <td>3057175485396</td>\n",
       "      <td>2007</td>\n",
       "      <td>45277</td>\n",
       "    </tr>\n",
       "  </tbody>\n",
       "</table>\n",
       "</div>"
      ],
      "text/plain": [
       "              Nüfus  Yaşam Süresi    Toplam Gelir   Yıl  Kişi Başı Gelir\n",
       "Kıta                                                                    \n",
       "Amerika   301139947     78.242000  14477635000000  2007            48076\n",
       "Asya     1318683096     72.961000   3552182311652  2007             2693\n",
       "Avrupa     68087050     79.829333   3057175485396  2007            45277"
      ]
     },
     "execution_count": 117,
     "metadata": {},
     "output_type": "execute_result"
    }
   ],
   "source": [
    "ulkeler.groupby(\"Kıta\").mean()\n",
    "# pandas.core.frame.DataFrame"
   ]
  },
  {
   "cell_type": "code",
   "execution_count": 118,
   "metadata": {
    "scrolled": false
   },
   "outputs": [
    {
     "data": {
      "text/plain": [
       "Kıta\n",
       "Amerika    48076\n",
       "Asya        2693\n",
       "Avrupa     45277\n",
       "Name: Kişi Başı Gelir, dtype: int32"
      ]
     },
     "execution_count": 118,
     "metadata": {},
     "output_type": "execute_result"
    }
   ],
   "source": [
    "ulkeler.groupby(\"Kıta\")[\"Kişi Başı Gelir\"].mean()\n",
    "# pandas.core.series.Series"
   ]
  },
  {
   "cell_type": "code",
   "execution_count": 119,
   "metadata": {
    "scrolled": true
   },
   "outputs": [
    {
     "data": {
      "text/html": [
       "<div>\n",
       "<style scoped>\n",
       "    .dataframe tbody tr th:only-of-type {\n",
       "        vertical-align: middle;\n",
       "    }\n",
       "\n",
       "    .dataframe tbody tr th {\n",
       "        vertical-align: top;\n",
       "    }\n",
       "\n",
       "    .dataframe thead th {\n",
       "        text-align: right;\n",
       "    }\n",
       "</style>\n",
       "<table border=\"1\" class=\"dataframe\">\n",
       "  <thead>\n",
       "    <tr style=\"text-align: right;\">\n",
       "      <th></th>\n",
       "      <th>Kişi Başı Gelir</th>\n",
       "    </tr>\n",
       "    <tr>\n",
       "      <th>Kıta</th>\n",
       "      <th></th>\n",
       "    </tr>\n",
       "  </thead>\n",
       "  <tbody>\n",
       "    <tr>\n",
       "      <th>Amerika</th>\n",
       "      <td>48076</td>\n",
       "    </tr>\n",
       "    <tr>\n",
       "      <th>Asya</th>\n",
       "      <td>2693</td>\n",
       "    </tr>\n",
       "    <tr>\n",
       "      <th>Avrupa</th>\n",
       "      <td>45277</td>\n",
       "    </tr>\n",
       "  </tbody>\n",
       "</table>\n",
       "</div>"
      ],
      "text/plain": [
       "         Kişi Başı Gelir\n",
       "Kıta                    \n",
       "Amerika            48076\n",
       "Asya                2693\n",
       "Avrupa             45277"
      ]
     },
     "execution_count": 119,
     "metadata": {},
     "output_type": "execute_result"
    }
   ],
   "source": [
    "pd.DataFrame(ulkeler.groupby(\"Kıta\")[\"Kişi Başı Gelir\"].mean()) # Data Frame olarak gösterebilir miyim diye merak ettim, oldu."
   ]
  },
  {
   "cell_type": "code",
   "execution_count": 120,
   "metadata": {},
   "outputs": [
    {
     "data": {
      "text/html": [
       "<div>\n",
       "<style scoped>\n",
       "    .dataframe tbody tr th:only-of-type {\n",
       "        vertical-align: middle;\n",
       "    }\n",
       "\n",
       "    .dataframe tbody tr th {\n",
       "        vertical-align: top;\n",
       "    }\n",
       "\n",
       "    .dataframe thead th {\n",
       "        text-align: right;\n",
       "    }\n",
       "</style>\n",
       "<table border=\"1\" class=\"dataframe\">\n",
       "  <thead>\n",
       "    <tr style=\"text-align: right;\">\n",
       "      <th></th>\n",
       "      <th>Nüfus</th>\n",
       "    </tr>\n",
       "    <tr>\n",
       "      <th>Kıta</th>\n",
       "      <th></th>\n",
       "    </tr>\n",
       "  </thead>\n",
       "  <tbody>\n",
       "    <tr>\n",
       "      <th>Amerika</th>\n",
       "      <td>301139947</td>\n",
       "    </tr>\n",
       "    <tr>\n",
       "      <th>Asya</th>\n",
       "      <td>1318683096</td>\n",
       "    </tr>\n",
       "    <tr>\n",
       "      <th>Avrupa</th>\n",
       "      <td>204261150</td>\n",
       "    </tr>\n",
       "  </tbody>\n",
       "</table>\n",
       "</div>"
      ],
      "text/plain": [
       "              Nüfus\n",
       "Kıta               \n",
       "Amerika   301139947\n",
       "Asya     1318683096\n",
       "Avrupa    204261150"
      ]
     },
     "execution_count": 120,
     "metadata": {},
     "output_type": "execute_result"
    }
   ],
   "source": [
    "pd.DataFrame( ulkeler.groupby(by=\"Kıta\")[\"Nüfus\"].sum() )    # by= ile bir şey değişmedi."
   ]
  },
  {
   "cell_type": "markdown",
   "metadata": {},
   "source": [
    "## Veri Çerçevelerini Bağlama/Birleştirme"
   ]
  },
  {
   "cell_type": "markdown",
   "metadata": {},
   "source": [
    "### Bağlama (Concatenation)"
   ]
  },
  {
   "cell_type": "code",
   "execution_count": 121,
   "metadata": {
    "scrolled": false
   },
   "outputs": [],
   "source": [
    "yeni_ulkeler = pd.DataFrame({\"Kod\":[\"IT\", \"IN\", \"JP\"]})\n",
    "yeni_ulkeler = pd.DataFrame({\"Ülke\":[\"İtalya\", \"Hindistan\", \"Japonya\"],\n",
    "                             \"Nüfus\":[58147733, 1110396331, 127467972],\n",
    "                             \"Yaşam Süresi\":[80.546, 64.698, 82.603],\n",
    "                            \"Toplam Gelir\":[2203053380782, 1201111768410, 4515264514430], \n",
    "                            \"Kıta\":[\"Avrupa\", \"Asya\", \"Asya\"], \n",
    "                            \"Kişi Başı Gelir\":[37887, 1081, 35422], \n",
    "                            \"Yıl\":[2007, 2007, 2007]}, index=yeni_ulkeler[\"Kod\"])\n",
    "\n",
    "# yeni_ulkeler = pd.read_csv(\"data/yeni_ulkeler.csv\", index_col=0)    # index_col, index'i 0 olan column'u index olarak seç demek.\n",
    "\n",
    "tum_ulkeler = pd.concat([ulkeler, yeni_ulkeler], ignore_index=True, axis=0)\n",
    "\n",
    "# aynı kolonlara (variables) sahip yeni ülkeleri, öncekiyle birleştirip yeni değere atadık.\n",
    "# ignore_index=True yazmazsak, iki DataFrame'i birleştirirken, index'ler birlikte geleceği için,\n",
    "# aynı index numaraları atanabilir, çakışabilir. Yukarıda IT, IN, JP gibi index isimleri verildiği için çakışma olmadı gerçi.\n",
    "# axis=0 satır (row) eklemesi yaparken, axis=1 sütun (column) eklemesi yapıyor. axis=0 yazmasak da olurdu. default zaten."
   ]
  },
  {
   "cell_type": "code",
   "execution_count": 122,
   "metadata": {},
   "outputs": [
    {
     "data": {
      "text/html": [
       "<div>\n",
       "<style scoped>\n",
       "    .dataframe tbody tr th:only-of-type {\n",
       "        vertical-align: middle;\n",
       "    }\n",
       "\n",
       "    .dataframe tbody tr th {\n",
       "        vertical-align: top;\n",
       "    }\n",
       "\n",
       "    .dataframe thead th {\n",
       "        text-align: right;\n",
       "    }\n",
       "</style>\n",
       "<table border=\"1\" class=\"dataframe\">\n",
       "  <thead>\n",
       "    <tr style=\"text-align: right;\">\n",
       "      <th></th>\n",
       "      <th>Ülke</th>\n",
       "      <th>Başkent</th>\n",
       "    </tr>\n",
       "  </thead>\n",
       "  <tbody>\n",
       "    <tr>\n",
       "      <th>JP</th>\n",
       "      <td>Japonya</td>\n",
       "      <td>Tokyo</td>\n",
       "    </tr>\n",
       "    <tr>\n",
       "      <th>FR</th>\n",
       "      <td>Fransa</td>\n",
       "      <td>Paris</td>\n",
       "    </tr>\n",
       "  </tbody>\n",
       "</table>\n",
       "</div>"
      ],
      "text/plain": [
       "       Ülke Başkent\n",
       "JP  Japonya   Tokyo\n",
       "FR   Fransa   Paris"
      ]
     },
     "execution_count": 122,
     "metadata": {},
     "output_type": "execute_result"
    }
   ],
   "source": [
    "# axis=1 için örnek:\n",
    "ulkeler_iki = pd.DataFrame({\"Ülke\": [\"Japonya\", \"Fransa\"]}, index=[\"JP\", \"FR\"])\n",
    "baskent_concat = pd.DataFrame({\"Başkent\": [\"Tokyo\", \"Paris\"]}, index=[\"JP\", \"FR\"])\n",
    "ulkeler_concat = pd.concat([ulkeler_iki, baskent_concat], axis=1)    # axis=0 yapıp ne değiştiğini görebilirsin.\n",
    "ulkeler_concat"
   ]
  },
  {
   "cell_type": "markdown",
   "metadata": {},
   "source": [
    "### Birleştirme (Merge)"
   ]
  },
  {
   "cell_type": "code",
   "execution_count": 123,
   "metadata": {
    "scrolled": true
   },
   "outputs": [
    {
     "data": {
      "text/html": [
       "<div>\n",
       "<style scoped>\n",
       "    .dataframe tbody tr th:only-of-type {\n",
       "        vertical-align: middle;\n",
       "    }\n",
       "\n",
       "    .dataframe tbody tr th {\n",
       "        vertical-align: top;\n",
       "    }\n",
       "\n",
       "    .dataframe thead th {\n",
       "        text-align: right;\n",
       "    }\n",
       "</style>\n",
       "<table border=\"1\" class=\"dataframe\">\n",
       "  <thead>\n",
       "    <tr style=\"text-align: right;\">\n",
       "      <th></th>\n",
       "      <th>Ülke</th>\n",
       "      <th>Kıta</th>\n",
       "      <th>Ad</th>\n",
       "      <th>Başkent</th>\n",
       "    </tr>\n",
       "  </thead>\n",
       "  <tbody>\n",
       "    <tr>\n",
       "      <th>0</th>\n",
       "      <td>Japonya</td>\n",
       "      <td>Asya</td>\n",
       "      <td>Japonya</td>\n",
       "      <td>Tokyo</td>\n",
       "    </tr>\n",
       "    <tr>\n",
       "      <th>1</th>\n",
       "      <td>Fransa</td>\n",
       "      <td>Avrupa</td>\n",
       "      <td>Fransa</td>\n",
       "      <td>Paris</td>\n",
       "    </tr>\n",
       "    <tr>\n",
       "      <th>2</th>\n",
       "      <td>Almanya</td>\n",
       "      <td>Avrupa</td>\n",
       "      <td>Almanya</td>\n",
       "      <td>Berlin</td>\n",
       "    </tr>\n",
       "  </tbody>\n",
       "</table>\n",
       "</div>"
      ],
      "text/plain": [
       "      Ülke    Kıta       Ad Başkent\n",
       "0  Japonya    Asya  Japonya   Tokyo\n",
       "1   Fransa  Avrupa   Fransa   Paris\n",
       "2  Almanya  Avrupa  Almanya  Berlin"
      ]
     },
     "execution_count": 123,
     "metadata": {},
     "output_type": "execute_result"
    }
   ],
   "source": [
    "# .concat() ile veri çerçeveleri birbirine eklenirken,\n",
    "# .merge() ile veri tabanlarında yapılan işlemlere benzer şekilde sütunları birleştirebiliriz.\n",
    "ulkeler_merge = pd.DataFrame({\"Ülke\":[\"Japonya\", \"Fransa\", \"Almanya\"], \"Kıta\":[\"Asya\", \"Avrupa\", \"Avrupa\"]})\n",
    "baskent_merge = pd.DataFrame({\"Ad\":[\"Japonya\", \"Fransa\", \"Almanya\"], \"Başkent\":[\"Tokyo\", \"Paris\", \"Berlin\"]})\n",
    "pd.merge(ulkeler_merge, baskent_merge, left_on=\"Ülke\", right_on=\"Ad\")\n",
    "## left_on ile right_on, .merge() içine eklenen df ile aynı sırada olmalı. \"Ülke\"yi sağa, \"Ad\"ı sola yazınca hata verdi."
   ]
  },
  {
   "cell_type": "code",
   "execution_count": 124,
   "metadata": {
    "scrolled": true
   },
   "outputs": [
    {
     "data": {
      "text/html": [
       "<div>\n",
       "<style scoped>\n",
       "    .dataframe tbody tr th:only-of-type {\n",
       "        vertical-align: middle;\n",
       "    }\n",
       "\n",
       "    .dataframe tbody tr th {\n",
       "        vertical-align: top;\n",
       "    }\n",
       "\n",
       "    .dataframe thead th {\n",
       "        text-align: right;\n",
       "    }\n",
       "</style>\n",
       "<table border=\"1\" class=\"dataframe\">\n",
       "  <thead>\n",
       "    <tr style=\"text-align: right;\">\n",
       "      <th></th>\n",
       "      <th>Ülke</th>\n",
       "      <th>Kıta</th>\n",
       "      <th>Ad</th>\n",
       "      <th>Başkent</th>\n",
       "    </tr>\n",
       "  </thead>\n",
       "  <tbody>\n",
       "    <tr>\n",
       "      <th>0</th>\n",
       "      <td>Japonya</td>\n",
       "      <td>Asya</td>\n",
       "      <td>Japonya</td>\n",
       "      <td>Tokyo</td>\n",
       "    </tr>\n",
       "    <tr>\n",
       "      <th>1</th>\n",
       "      <td>Fransa</td>\n",
       "      <td>Avrupa</td>\n",
       "      <td>Fransa</td>\n",
       "      <td>Paris</td>\n",
       "    </tr>\n",
       "    <tr>\n",
       "      <th>2</th>\n",
       "      <td>Almanya</td>\n",
       "      <td>Avrupa</td>\n",
       "      <td>Almanya</td>\n",
       "      <td>Berlin</td>\n",
       "    </tr>\n",
       "  </tbody>\n",
       "</table>\n",
       "</div>"
      ],
      "text/plain": [
       "      Ülke    Kıta       Ad Başkent\n",
       "0  Japonya    Asya  Japonya   Tokyo\n",
       "1   Fransa  Avrupa   Fransa   Paris\n",
       "2  Almanya  Avrupa  Almanya  Berlin"
      ]
     },
     "execution_count": 124,
     "metadata": {},
     "output_type": "execute_result"
    }
   ],
   "source": [
    "all_countries = pd.concat([ulkeler_merge, baskent_merge], axis=1)\n",
    "all_countries"
   ]
  },
  {
   "cell_type": "markdown",
   "metadata": {},
   "source": [
    "## Dosyalarla Çalışmak"
   ]
  },
  {
   "cell_type": "markdown",
   "metadata": {},
   "source": [
    "Bir csv dosyası oluşturmak ve veri çerçevenizi aktarmak için **df.to_csv()** metodunu kullanırız.\n",
    "\n",
    "**pd.read_csv()** gibi json dosyaları da **df=pd.read_json('data/Ulke_Bilgileri.json', encoding='utf8')** ile açılabilir.\n",
    "\n",
    "Daha fazla bilgi için dökümantasyona ve iç içe (nested) json’u normalize etmek için **pandas.io.json.json_normalize()** metoduna bakabilirsiniz. \n",
    "\n",
    "Veri çerçevelerinizi dosyalara yazmak için mümkünse **csv**'yi tercih etmelisiniz, ancak **.to_json()** u bir veri çerçevesini json dosyası olarak yazmak için **df.to_json('dosyam.json')** olarak da kullanabilirsiniz.\n",
    "\n",
    "**Encoding hakkında birkaç not:** _Unicode ve UTF-8_. Python 3'teki tüm stringler unicode’dur ve utf-8 mümkün olduğunda Python'un kullandığı varsayılan kodlamadır. Eğer dosyanızın kodlamasını manuel olarak belirleyemediyseniz **Chardet** ile istatistiksel bir saptamayı deneyebilirsiniz. Unicode, bilgisayar tarihine yakından bağlı olan derin bir konudur. Eğer unicode’un hızlı bir pratiğiyle ve geçmişine genel bakış ile ilgileniyorsanız Python belgelerinde bulunan Unicode HOWTO bölümü bunun için biçilmiş kaftandır."
   ]
  }
 ],
 "metadata": {
  "kernelspec": {
   "display_name": "Python 3",
   "language": "python",
   "name": "python3"
  },
  "language_info": {
   "codemirror_mode": {
    "name": "ipython",
    "version": 3
   },
   "file_extension": ".py",
   "mimetype": "text/x-python",
   "name": "python",
   "nbconvert_exporter": "python",
   "pygments_lexer": "ipython3",
   "version": "3.8.2"
  }
 },
 "nbformat": 4,
 "nbformat_minor": 4
}

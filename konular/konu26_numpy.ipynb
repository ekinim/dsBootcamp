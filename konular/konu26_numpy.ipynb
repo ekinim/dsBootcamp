{
 "cells": [
  {
   "cell_type": "markdown",
   "metadata": {},
   "source": [
    "# numpy"
   ]
  },
  {
   "cell_type": "code",
   "execution_count": 2,
   "metadata": {},
   "outputs": [
    {
     "data": {
      "text/plain": [
       "array([0, 1, 2, 3])"
      ]
     },
     "execution_count": 2,
     "metadata": {},
     "output_type": "execute_result"
    }
   ],
   "source": [
    "import numpy as np\n",
    "\n",
    "dizi = np.array([0, 1, 2, 3])\n",
    "dizi"
   ]
  },
  {
   "cell_type": "code",
   "execution_count": 22,
   "metadata": {},
   "outputs": [
    {
     "name": "stdout",
     "output_type": "stream",
     "text": [
      "(10,)\n",
      "(10,)\n",
      "(10,)\n"
     ]
    }
   ],
   "source": [
    "yas_dizi = np.array([18, 25, 22, 34, 26, 27, 19, 28, 30, 24])\n",
    "boy_dizi = np.array([1.81, 1.67, 1.71, 1.89, 1.79, 1.75, 1.80, 1.78, 1.89, 1.82])\n",
    "agirlik_dizi = np.array([81, 72, 74, 88, 82, 77, 78, 70, 90, 85])\n",
    "\n",
    "print(yas_dizi.shape)\n",
    "print(boy_dizi.shape)\n",
    "print(agirlik_dizi.shape)"
   ]
  },
  {
   "cell_type": "code",
   "execution_count": 23,
   "metadata": {},
   "outputs": [
    {
     "name": "stdout",
     "output_type": "stream",
     "text": [
      "['False' 'Ali' '13' 'True']\n"
     ]
    }
   ],
   "source": [
    "Listem = [False, 'Ali', 13, True]\n",
    "Dizi = np.array(Listem)\n",
    "\n",
    "print(Dizi)    # array elemanları tek tipe dönüştü"
   ]
  },
  {
   "cell_type": "code",
   "execution_count": 29,
   "metadata": {},
   "outputs": [
    {
     "name": "stdout",
     "output_type": "stream",
     "text": [
      "[18 25 22 34 26 27 19 99 99 99]\n"
     ]
    }
   ],
   "source": [
    "yas_dizi[-3:] = np.array([99])\n",
    "print(yas_dizi)"
   ]
  },
  {
   "cell_type": "code",
   "execution_count": 38,
   "metadata": {},
   "outputs": [
    {
     "name": "stdout",
     "output_type": "stream",
     "text": [
      "[ 18  25  22  34  26  27  19  99  99  99 100 101 102 100 101 102 200]\n"
     ]
    }
   ],
   "source": [
    "yas_dizi = np.append(yas_dizi, 200)\n",
    "print(yas_dizi)"
   ]
  },
  {
   "cell_type": "code",
   "execution_count": 44,
   "metadata": {},
   "outputs": [
    {
     "name": "stdout",
     "output_type": "stream",
     "text": [
      "[[0 1 2 3]\n",
      " [4 5 6 7]]\n"
     ]
    }
   ],
   "source": [
    "y = np.arange(8).reshape(2,4)\n",
    "print(y)"
   ]
  },
  {
   "cell_type": "code",
   "execution_count": 68,
   "metadata": {},
   "outputs": [
    {
     "name": "stdout",
     "output_type": "stream",
     "text": [
      "[[18.   25.   22.   34.   26.   27.   19.   28.   30.   24.  ]\n",
      " [ 1.81  1.67  1.71  1.89  1.79  1.75  1.8   1.78  1.89  1.82]\n",
      " [81.   72.   74.   88.   82.   77.   78.   70.   90.   85.  ]]\n",
      "Shape:  (3, 10)\n",
      "( [1][3] ) 2'nin 4'ü:  1.89 \n",
      "( [1,3] ) 2'nin 4'ü:  1.89\n"
     ]
    }
   ],
   "source": [
    "basketbol_takimi = np.array([[18, 25, 22, 34, 26, 27, 19, 28, 30, 24],\n",
    "                             [1.81, 1.67, 1.71, 1.89, 1.79, 1.75, 1.80, 1.78, 1.89, 1.82],\n",
    "                             [81, 72, 74, 88, 82, 77, 78, 70, 90, 85]])\n",
    "print(basketbol_takimi)\n",
    "print(\"Shape: \", basketbol_takimi.shape)    #.shape tuple yaratıyor. İçindeki elemanı alabiliyorsun yani.\n",
    "print(\"( [1][3] ) 2'nin 4'ü: \", basketbol_takimi[1][3], \"\\n( [1,3] ) 2'nin 4'ü: \", basketbol_takimi[1,3])"
   ]
  },
  {
   "cell_type": "code",
   "execution_count": 69,
   "metadata": {},
   "outputs": [
    {
     "name": "stdout",
     "output_type": "stream",
     "text": [
      "[18. 25. 22. 34. 26. 27. 19. 28. 30. 24.]\n",
      "[18. 25. 22. 34. 26. 27. 19. 28. 30. 24.]\n",
      "[28.    1.78 70.  ]\n",
      "[[27.   19.  ]\n",
      " [ 1.75  1.8 ]]\n"
     ]
    }
   ],
   "source": [
    "print(basketbol_takimi[0])\n",
    "print(basketbol_takimi[0,])\n",
    "print(basketbol_takimi[:,7])\n",
    "print(basketbol_takimi[0:2,5:7])"
   ]
  },
  {
   "cell_type": "markdown",
   "metadata": {},
   "source": [
    "### Değişik dizi oluşturma yöntemleri:"
   ]
  },
  {
   "cell_type": "code",
   "execution_count": 70,
   "metadata": {},
   "outputs": [
    {
     "data": {
      "text/plain": [
       "array([[0., 0., 0., 0., 0.],\n",
       "       [0., 0., 0., 0., 0.],\n",
       "       [0., 0., 0., 0., 0.],\n",
       "       [0., 0., 0., 0., 0.],\n",
       "       [0., 0., 0., 0., 0.]])"
      ]
     },
     "execution_count": 70,
     "metadata": {},
     "output_type": "execute_result"
    }
   ],
   "source": [
    "np.zeros([5,5])"
   ]
  },
  {
   "cell_type": "code",
   "execution_count": 75,
   "metadata": {},
   "outputs": [
    {
     "data": {
      "text/plain": [
       "array([[1., 1., 1., 1., 1., 1., 1., 1., 1.],\n",
       "       [1., 1., 1., 1., 1., 1., 1., 1., 1.],\n",
       "       [1., 1., 1., 1., 1., 1., 1., 1., 1.]])"
      ]
     },
     "execution_count": 75,
     "metadata": {},
     "output_type": "execute_result"
    }
   ],
   "source": [
    "np.ones([3,9])"
   ]
  },
  {
   "cell_type": "code",
   "execution_count": 79,
   "metadata": {},
   "outputs": [
    {
     "data": {
      "text/plain": [
       "array([[19, 19],\n",
       "       [19, 19],\n",
       "       [19, 19],\n",
       "       [19, 19],\n",
       "       [19, 19],\n",
       "       [19, 19],\n",
       "       [19, 19]])"
      ]
     },
     "execution_count": 79,
     "metadata": {},
     "output_type": "execute_result"
    }
   ],
   "source": [
    "np.full([7,2],19)"
   ]
  },
  {
   "cell_type": "code",
   "execution_count": 89,
   "metadata": {},
   "outputs": [
    {
     "data": {
      "text/plain": [
       "array([ 4.,  6.,  8., 10., 12.])"
      ]
     },
     "execution_count": 89,
     "metadata": {},
     "output_type": "execute_result"
    }
   ],
   "source": [
    "np.linspace(4,12,5)    # 4 ve 12 dahil, eşit aralıklı 5 eleman"
   ]
  },
  {
   "cell_type": "code",
   "execution_count": 95,
   "metadata": {},
   "outputs": [
    {
     "data": {
      "text/plain": [
       "array([[1., 0., 0., 0.],\n",
       "       [0., 1., 0., 0.],\n",
       "       [0., 0., 1., 0.],\n",
       "       [0., 0., 0., 1.]])"
      ]
     },
     "execution_count": 95,
     "metadata": {},
     "output_type": "execute_result"
    }
   ],
   "source": [
    "np.eye(4) # Identity Matrix"
   ]
  },
  {
   "cell_type": "markdown",
   "metadata": {},
   "source": [
    "### Her bir eleman (element-wise) üzerinde çalışan fonksiyonlar:"
   ]
  },
  {
   "cell_type": "code",
   "execution_count": 104,
   "metadata": {},
   "outputs": [
    {
     "name": "stdout",
     "output_type": "stream",
     "text": [
      "[[0 1 2 3]\n",
      " [4 5 6 7]]\n",
      "\n",
      "Shape of y:  (2, 4)\n"
     ]
    }
   ],
   "source": [
    "print(y)    # y neydi, bir bakalım\n",
    "print(\"\\nShape of y: \", y.shape)"
   ]
  },
  {
   "cell_type": "code",
   "execution_count": 105,
   "metadata": {},
   "outputs": [
    {
     "name": "stdout",
     "output_type": "stream",
     "text": [
      "[[ 0  1  4  9]\n",
      " [16 25 36 49]]\n"
     ]
    }
   ],
   "source": [
    "print(np.square(y))    # her bir elemanın karesini alıyor."
   ]
  },
  {
   "cell_type": "code",
   "execution_count": 110,
   "metadata": {},
   "outputs": [
    {
     "name": "stdout",
     "output_type": "stream",
     "text": [
      "[[0.         1.         1.41421356 1.73205081]\n",
      " [2.         2.23606798 2.44948974 2.64575131]]\n"
     ]
    }
   ],
   "source": [
    "print(np.sqrt(y))    # her bir elemanın karekökünü alıyor."
   ]
  },
  {
   "cell_type": "code",
   "execution_count": 112,
   "metadata": {},
   "outputs": [
    {
     "name": "stdout",
     "output_type": "stream",
     "text": [
      "[[ 0.          0.84147098  0.90929743  0.14112001]\n",
      " [-0.7568025  -0.95892427 -0.2794155   0.6569866 ]]\n",
      "[[ 1.          0.54030231 -0.41614684 -0.9899925 ]\n",
      " [-0.65364362  0.28366219  0.96017029  0.75390225]]\n",
      "[[ 0.          1.55740772 -2.18503986 -0.14254654]\n",
      " [ 1.15782128 -3.38051501 -0.29100619  0.87144798]]\n"
     ]
    }
   ],
   "source": [
    "# trigonometrik işlemler ile her bir eleman üzerinde işlem yapıyoruz:\n",
    "print(np.sin(y))\n",
    "print(np.cos(y))\n",
    "print(np.tan(y))"
   ]
  },
  {
   "cell_type": "markdown",
   "metadata": {},
   "source": [
    "### Toplayıcı (Aggregator) fonksiyonlar:"
   ]
  },
  {
   "cell_type": "code",
   "execution_count": 136,
   "metadata": {},
   "outputs": [
    {
     "name": "stdout",
     "output_type": "stream",
     "text": [
      "yas max:  200\n",
      "ağırlık max:  90\n",
      "boy max:  1.89\n",
      "\n",
      "yas min:  18\n",
      "ağırlık min:  70\n",
      "boy min:  1.67\n",
      "\n",
      "yas ort:  74.94117647058823\n",
      "ağırlık ort:  79.7\n",
      "boy ort:  1.791\n",
      "\n",
      "yas standart sapma:  48.198694866678814\n",
      "ağırlık standart sapma:  6.372597586541928\n",
      "boy standart sapma:  0.06624952830020753\n"
     ]
    }
   ],
   "source": [
    "print(\"yas max: \", np.max(yas_dizi))    # yas_dizi'ye append ile değişik rakamlar eklemiştik.\n",
    "print(\"ağırlık max: \", np.max(agirlik_dizi))\n",
    "print(\"boy max: \", np.max(boy_dizi))\n",
    "print(\"\\nyas min: \", np.min(yas_dizi))\n",
    "print(\"ağırlık min: \", np.min(agirlik_dizi))\n",
    "print(\"boy min: \", np.min(boy_dizi))\n",
    "print(\"\\nyas ort: \", np.mean(yas_dizi))\n",
    "print(\"ağırlık ort: \", np.mean(agirlik_dizi))\n",
    "print(\"boy ort: \", np.mean(boy_dizi))\n",
    "print(\"\\nyas standart sapma: \", np.std(yas_dizi))\n",
    "print(\"ağırlık standart sapma: \", np.std(agirlik_dizi))\n",
    "print(\"boy standart sapma: \", np.std(boy_dizi))"
   ]
  }
 ],
 "metadata": {
  "kernelspec": {
   "display_name": "Python 3",
   "language": "python",
   "name": "python3"
  },
  "language_info": {
   "codemirror_mode": {
    "name": "ipython",
    "version": 3
   },
   "file_extension": ".py",
   "mimetype": "text/x-python",
   "name": "python",
   "nbconvert_exporter": "python",
   "pygments_lexer": "ipython3",
   "version": "3.8.1"
  }
 },
 "nbformat": 4,
 "nbformat_minor": 4
}

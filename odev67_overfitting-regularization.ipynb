{
 "cells": [
  {
   "cell_type": "code",
   "execution_count": null,
   "metadata": {},
   "outputs": [],
   "source": []
  },
  {
   "cell_type": "markdown",
   "metadata": {},
   "source": [
    "***\n",
    "# (not completed)\n",
    "***"
   ]
  },
  {
   "cell_type": "code",
   "execution_count": null,
   "metadata": {},
   "outputs": [],
   "source": []
  },
  {
   "cell_type": "markdown",
   "metadata": {},
   "source": [
    "# 6.7 - Regresyon Problemleri ve Lineer Regresyon Modeli: Aşırı Uyumluluk ve Regularizasyon"
   ]
  },
  {
   "cell_type": "markdown",
   "metadata": {},
   "source": [
    "# Ev fiyatları modeli\n",
    "## Model 1: OLS Regresyonu\n",
    "Bir önceki derste en iyi açıklama yüzdesine sahip model kullanılacaktır.<br>\n",
    "Değişkenler: **[\"TotalBsmtSF\", \"OverallQual\", \"GrLivArea\", \"YearBuilt\"]**"
   ]
  },
  {
   "cell_type": "code",
   "execution_count": 9,
   "metadata": {
    "scrolled": false
   },
   "outputs": [],
   "source": [
    "import pandas as pd\n",
    "import numpy as np\n",
    "import matplotlib.pyplot as plt\n",
    "import seaborn as sns\n",
    "\n",
    "from sklearn.model_selection import train_test_split\n",
    "from sklearn.metrics import mean_absolute_error\n",
    "from sklearn.linear_model import LinearRegression\n",
    "from sklearn.linear_model import Ridge, Lasso, ElasticNet\n",
    "    # https://scikit-learn.org/stable/modules/generated/sklearn.linear_model.Ridge.html\n",
    "    # https://scikit-learn.org/stable/modules/generated/sklearn.linear_model.Lasso.html\n",
    "    # https://scikit-learn.org/stable/modules/generated/sklearn.linear_model.ElasticNet.html\n",
    "from sklearn.model_selection import KFold\n",
    "    # https://scikit-learn.org/stable/modules/generated/sklearn.model_selection.KFold.html\n",
    "\n",
    "import statsmodels.api as sm\n",
    "from statsmodels.tools.eval_measures import mse, rmse\n",
    "\n",
    "%matplotlib inline\n",
    "sns.set(style = \"whitegrid\")\n",
    "plt.rcParams[\"figure.figsize\"] = (10, 6)\n",
    "\n",
    "title_font = {\"family\":\"arial\", \"weight\":\"bold\", \"color\":\"darkred\", \"size\":16}\n",
    "axis_font = {\"family\":\"sans\", \"weight\":\"normal\", \"color\":\"darkblue\", \"size\":14}\n",
    "\n",
    "house = pd.read_csv(\"house_prices.csv\")"
   ]
  },
  {
   "cell_type": "code",
   "execution_count": 10,
   "metadata": {},
   "outputs": [],
   "source": [
    "# Modelimizi oluşturalım:\n",
    "x1 = house[[\"TotalBsmtSF\", \"OverallQual\", \"GrLivArea\", \"YearBuilt\"]]\n",
    "y1 = house[\"SalePrice\"]"
   ]
  },
  {
   "cell_type": "code",
   "execution_count": 11,
   "metadata": {
    "scrolled": false
   },
   "outputs": [
    {
     "name": "stdout",
     "output_type": "stream",
     "text": [
      "\n",
      "Eğitim kümesindeki gözlem sayısı : 1168\n",
      "Test kümesindeki gözlem sayısı   : 292\n",
      "\n",
      "Eğitim verilerinin ayarlanmış R-kare değeri: 0.746\n",
      "Test verilerinin ayarlanmış R-kare değeri: 0.805\n",
      "\n",
      "---------Test Kümesi Hata İstatistikleri---------\n",
      "Ortalama Mutlak Hata (MAE)        : 26194.64\n",
      "Ortalama Kare Hata (MSE)          : 1472604879.26\n",
      "Kök Ortalama Kare Hata (RMSE)     : 38374.53\n",
      "Ortalama Mutlak Yüzde Hata (MAPE) : %16.61\n",
      "\n",
      "Eğitim kümesindeki gözlem sayısı : 1168\n",
      "Test kümesindeki gözlem sayısı   : 292\n",
      "\n",
      "Eğitim verilerinin ayarlanmış R-kare değeri: 0.739\n",
      "Test verilerinin ayarlanmış R-kare değeri: 0.838\n",
      "\n",
      "---------Test Kümesi Hata İstatistikleri---------\n",
      "Ortalama Mutlak Hata (MAE)        : 23668.95\n",
      "Ortalama Kare Hata (MSE)          : 1083929130.91\n",
      "Kök Ortalama Kare Hata (RMSE)     : 32923.08\n",
      "Ortalama Mutlak Yüzde Hata (MAPE) : %14.02\n",
      "\n",
      "Eğitim kümesindeki gözlem sayısı : 1168\n",
      "Test kümesindeki gözlem sayısı   : 292\n",
      "\n",
      "Eğitim verilerinin ayarlanmış R-kare değeri: 0.813\n",
      "Test verilerinin ayarlanmış R-kare değeri: 0.621\n",
      "\n",
      "---------Test Kümesi Hata İstatistikleri---------\n",
      "Ortalama Mutlak Hata (MAE)        : 29163.44\n",
      "Ortalama Kare Hata (MSE)          : 2066977242.80\n",
      "Kök Ortalama Kare Hata (RMSE)     : 45464.02\n",
      "Ortalama Mutlak Yüzde Hata (MAPE) : %16.72\n",
      "\n",
      "Eğitim kümesindeki gözlem sayısı : 1168\n",
      "Test kümesindeki gözlem sayısı   : 292\n",
      "\n",
      "Eğitim verilerinin ayarlanmış R-kare değeri: 0.747\n",
      "Test verilerinin ayarlanmış R-kare değeri: 0.801\n",
      "\n",
      "---------Test Kümesi Hata İstatistikleri---------\n",
      "Ortalama Mutlak Hata (MAE)        : 24536.23\n",
      "Ortalama Kare Hata (MSE)          : 1232844613.70\n",
      "Kök Ortalama Kare Hata (RMSE)     : 35111.89\n",
      "Ortalama Mutlak Yüzde Hata (MAPE) : %15.51\n",
      "\n",
      "Eğitim kümesindeki gözlem sayısı : 1168\n",
      "Test kümesindeki gözlem sayısı   : 292\n",
      "\n",
      "Eğitim verilerinin ayarlanmış R-kare değeri: 0.748\n",
      "Test verilerinin ayarlanmış R-kare değeri: 0.806\n",
      "\n",
      "---------Test Kümesi Hata İstatistikleri---------\n",
      "Ortalama Mutlak Hata (MAE)        : 23104.19\n",
      "Ortalama Kare Hata (MSE)          : 997500081.30\n",
      "Kök Ortalama Kare Hata (RMSE)     : 31583.22\n",
      "Ortalama Mutlak Yüzde Hata (MAPE) : %14.07\n"
     ]
    }
   ],
   "source": [
    "kFold = KFold(5, shuffle=True, random_state=42)\n",
    "for train, test in kFold.split(x1, y1): \n",
    "    x1_train = x1.iloc[train]\n",
    "    x1_test = x1.iloc[test]\n",
    "    y1_train = y1.iloc[train]\n",
    "    y1_test = y1.iloc[test]\n",
    "    \n",
    "    print(f\"\\nEğitim kümesindeki gözlem sayısı : {x1_train.shape[0]}\")\n",
    "    print(f\"Test kümesindeki gözlem sayısı   : {x1_test.shape[0]}\\n\")\n",
    "\n",
    "    # Eğitim verilerinin R-kare değeri\n",
    "    x1_train = sm.add_constant(x1_train)\n",
    "    results1_model = sm.OLS(y1_train, x1_train)\n",
    "    results1 = results1_model.fit()\n",
    "    print(f\"Eğitim verilerinin ayarlanmış R-kare değeri: {results1.rsquared_adj:.3f}\")\n",
    "\n",
    "    # Test verilerinin R-kare değeri\n",
    "    x1_test = sm.add_constant(x1_test)\n",
    "    results1_model = sm.OLS(y1_test, x1_test)\n",
    "    results1 = results1_model.fit()\n",
    "    print(f\"Test verilerinin ayarlanmış R-kare değeri: {results1.rsquared_adj:.3f}\")\n",
    "\n",
    "    y1_predict = results1.predict(x1_test)\n",
    "\n",
    "    mae1 = mean_absolute_error(y1_test, y1_predict)\n",
    "    mse1 = mse(y1_test, y1_predict)\n",
    "    rmse1 = rmse(y1_test, y1_predict)\n",
    "    mape1 = (abs((y1_test - y1_predict)) / y1_test).mean() * 100\n",
    "\n",
    "    print(\"\\n---------Test Kümesi Hata İstatistikleri---------\")\n",
    "    print(f\"Ortalama Mutlak Hata (MAE)        : {mae1:.2f}\")\n",
    "    print(f\"Ortalama Kare Hata (MSE)          : {mse1:.2f}\")\n",
    "    print(f\"Kök Ortalama Kare Hata (RMSE)     : {rmse1:.2f}\")\n",
    "    print(f\"Ortalama Mutlak Yüzde Hata (MAPE) : %{mape1:.2f}\")"
   ]
  },
  {
   "cell_type": "markdown",
   "metadata": {},
   "source": [
    "***\n",
    "## Model 2: Ridge Regresyonu"
   ]
  },
  {
   "cell_type": "code",
   "execution_count": 12,
   "metadata": {},
   "outputs": [
    {
     "name": "stdout",
     "output_type": "stream",
     "text": [
      "Eğitim verilerinin ayarlanmış R-kare değeri: 0.732\n",
      "Test verilerinin ayarlanmış R-kare değeri: 0.794\n",
      "\n",
      "---------Test Kümesi Hata İstatistikleri---------\n",
      "Ortalama Mutlak Hata (MAE)        : 23670.89\n",
      "Ortalama Kare Hata (MSE)          : 1076105833.14\n",
      "Kök Ortalama Kare Hata (RMSE)     : 32804.05\n",
      "Ortalama Mutlak Yüzde Hata (MAPE) : %13.95\n"
     ]
    }
   ],
   "source": [
    "ridge_reg = Ridge(alpha = 1000)\n",
    "ridge_reg.fit(x1_train, y1_train)\n",
    "\n",
    "#y_train_predict = ridge_reg.predict(x1_train)\n",
    "y_test_predict = ridge_reg.predict(x1_test)\n",
    "\n",
    "print(f\"Eğitim verilerinin ayarlanmış R-kare değeri: {ridge_reg.score(x1_train, y1_train):.3f}\")\n",
    "print(f\"Test verilerinin ayarlanmış R-kare değeri: {ridge_reg.score(x1_test, y1_test):.3f}\")\n",
    "\n",
    "mae2 = mean_absolute_error(y1_test, y_test_predict)\n",
    "mse2 = mse(y1_test, y_test_predict)\n",
    "rmse2 = rmse(y1_test, y_test_predict)\n",
    "mape2 = (abs((y1_test - y_test_predict)) / y1_test).mean() * 100\n",
    "\n",
    "print(\"\\n---------Test Kümesi Hata İstatistikleri---------\")\n",
    "print(f\"Ortalama Mutlak Hata (MAE)        : {mae2:.2f}\")\n",
    "print(f\"Ortalama Kare Hata (MSE)          : {mse2:.2f}\")\n",
    "print(f\"Kök Ortalama Kare Hata (RMSE)     : {rmse2:.2f}\")\n",
    "print(f\"Ortalama Mutlak Yüzde Hata (MAPE) : %{mape2:.2f}\")"
   ]
  },
  {
   "cell_type": "markdown",
   "metadata": {},
   "source": [
    "***\n",
    "## Model 3: Lasso Regresyonu"
   ]
  },
  {
   "cell_type": "code",
   "execution_count": 13,
   "metadata": {
    "scrolled": true
   },
   "outputs": [
    {
     "name": "stdout",
     "output_type": "stream",
     "text": [
      "Eğitim verilerinin ayarlanmış R-kare değeri: 0.749\n",
      "Test verilerinin ayarlanmış R-kare değeri: 0.801\n",
      "\n",
      "---------Test Kümesi Hata İstatistikleri---------\n",
      "Ortalama Mutlak Hata (MAE)        : 23301.33\n",
      "Ortalama Kare Hata (MSE)          : 1041657362.34\n",
      "Kök Ortalama Kare Hata (RMSE)     : 32274.72\n",
      "Ortalama Mutlak Yüzde Hata (MAPE) : %13.90\n"
     ]
    }
   ],
   "source": [
    "lasso_reg = Lasso(alpha = 1000)\n",
    "lasso_reg.fit(x1_train, y1_train)\n",
    "\n",
    "#y_train_predict = ridge_reg.predict(x1_train)\n",
    "y_test_predict = lasso_reg.predict(x1_test)\n",
    "\n",
    "print(f\"Eğitim verilerinin ayarlanmış R-kare değeri: {lasso_reg.score(x1_train, y1_train):.3f}\")\n",
    "print(f\"Test verilerinin ayarlanmış R-kare değeri: {lasso_reg.score(x1_test, y1_test):.3f}\")\n",
    "\n",
    "mae3 = mean_absolute_error(y1_test, y_test_predict)\n",
    "mse3 = mse(y1_test, y_test_predict)\n",
    "rmse3 = rmse(y1_test, y_test_predict)\n",
    "mape3 = (abs((y1_test - y_test_predict)) / y1_test).mean() * 100\n",
    "\n",
    "print(\"\\n---------Test Kümesi Hata İstatistikleri---------\")\n",
    "print(f\"Ortalama Mutlak Hata (MAE)        : {mae3:.2f}\")\n",
    "print(f\"Ortalama Kare Hata (MSE)          : {mse3:.2f}\")\n",
    "print(f\"Kök Ortalama Kare Hata (RMSE)     : {rmse3:.2f}\")\n",
    "print(f\"Ortalama Mutlak Yüzde Hata (MAPE) : %{mape3:.2f}\")"
   ]
  },
  {
   "cell_type": "markdown",
   "metadata": {},
   "source": [
    "***\n",
    "## Model 4: ElasticNet Regresyonu"
   ]
  },
  {
   "cell_type": "code",
   "execution_count": 14,
   "metadata": {
    "scrolled": true
   },
   "outputs": [
    {
     "name": "stdout",
     "output_type": "stream",
     "text": [
      "Eğitim verilerinin ayarlanmış R-kare değeri: 0.672\n",
      "Test verilerinin ayarlanmış R-kare değeri: 0.742\n",
      "\n",
      "---------Test Kümesi Hata İstatistikleri---------\n",
      "Ortalama Mutlak Hata (MAE)        : 25693.55\n",
      "Ortalama Kare Hata (MSE)          : 1346336875.48\n",
      "Kök Ortalama Kare Hata (RMSE)     : 36692.46\n",
      "Ortalama Mutlak Yüzde Hata (MAPE) : %15.20\n"
     ]
    }
   ],
   "source": [
    "elasticNet_reg = ElasticNet(alpha = 1000, l1_ratio=0.5)\n",
    "elasticNet_reg.fit(x1_train, y1_train)\n",
    "\n",
    "#y_train_predict = ridge_reg.predict(x1_train)\n",
    "y_test_predict = elasticNet_reg.predict(x1_test)\n",
    "\n",
    "print(f\"Eğitim verilerinin ayarlanmış R-kare değeri: {elasticNet_reg.score(x1_train, y1_train):.3f}\")\n",
    "print(f\"Test verilerinin ayarlanmış R-kare değeri: {elasticNet_reg.score(x1_test, y1_test):.3f}\")\n",
    "\n",
    "mae4 = mean_absolute_error(y1_test, y_test_predict)\n",
    "mse4 = mse(y1_test, y_test_predict)\n",
    "rmse4 = rmse(y1_test, y_test_predict)\n",
    "mape4 = (abs((y1_test - y_test_predict)) / y1_test).mean() * 100\n",
    "\n",
    "print(\"\\n---------Test Kümesi Hata İstatistikleri---------\")\n",
    "print(f\"Ortalama Mutlak Hata (MAE)        : {mae4:.2f}\")\n",
    "print(f\"Ortalama Kare Hata (MSE)          : {mse4:.2f}\")\n",
    "print(f\"Kök Ortalama Kare Hata (RMSE)     : {rmse4:.2f}\")\n",
    "print(f\"Ortalama Mutlak Yüzde Hata (MAPE) : %{mape4:.2f}\")"
   ]
  },
  {
   "cell_type": "code",
   "execution_count": null,
   "metadata": {},
   "outputs": [],
   "source": []
  },
  {
   "cell_type": "code",
   "execution_count": null,
   "metadata": {},
   "outputs": [],
   "source": []
  },
  {
   "cell_type": "code",
   "execution_count": null,
   "metadata": {},
   "outputs": [],
   "source": []
  },
  {
   "cell_type": "code",
   "execution_count": null,
   "metadata": {},
   "outputs": [],
   "source": []
  },
  {
   "cell_type": "code",
   "execution_count": null,
   "metadata": {},
   "outputs": [],
   "source": [
    "\"\"\"## Yorumlar:\n",
    "### Model 1:\n",
    "* **$Adjusted R^2$ değeri** : 0.746\n",
    "* **F-testi** : 857.3\n",
    "* **Akaike Information Criterion (AIC)** : 28,010\n",
    "* **Bayesian Information Criterion (BIC)** : 28,040\n",
    "\n",
    "### Model 2:\n",
    "* **$Adjusted R^2$ değeri** : 0.760\n",
    "* **F-testi** : 528\n",
    "* **Akaike Information Criterion (AIC)** : 27,950\n",
    "* **Bayesian Information Criterion (BIC)** : 27,990\"\"\""
   ]
  },
  {
   "cell_type": "code",
   "execution_count": null,
   "metadata": {},
   "outputs": [],
   "source": [
    "\"\"\"## Sonuç:\n",
    "* Model 1'in eğitim seti, tek başına yeterince başarılı bir sonuç ortaya koymakta, \"Satış Fiyatı\" varyansının %74.6'sını açıklamaktadır fakat %76'lık bir oranla Model 2'nin başarısı daha yüksektir. Ayrıca, $R^2$, AIC & BIC değerlerini dikkate aldığımızda, Model 2 yine başarısını ortaya koymaktadır.\n",
    "* Her iki model de, düşük \"Satış Fiyatı\" değerlerinde, yüksek değerlerden daha iyi tahminler sergilemektedir. Veriler, çizginin düşük değerleri etrafında daha sık toplanmaktadır.\n",
    "* Grafiklerde, her iki modelin de tahmin performansı neredeyse aynı gözükmektedir. Yine de metriklerden anlayabileceğimiz üzere, az da olsa Model 2'nin tahminlerindeki hata oranları daha düşüktür. \\## 1) Metrikleri yorumlamak, 2 model arasında karşılaştırma yaparken kolay oluyor. Peki tek başlarına bir anlam ifade ediyorlar mı? 2) Bu %3, %5 hata azaltma değerleri önemli sayılabilir mi yoksa pek bir iyileştirme sağlamıyor mu?\"\"\""
   ]
  }
 ],
 "metadata": {
  "kernelspec": {
   "display_name": "Python 3",
   "language": "python",
   "name": "python3"
  },
  "language_info": {
   "codemirror_mode": {
    "name": "ipython",
    "version": 3
   },
   "file_extension": ".py",
   "mimetype": "text/x-python",
   "name": "python",
   "nbconvert_exporter": "python",
   "pygments_lexer": "ipython3",
   "version": "3.8.2"
  }
 },
 "nbformat": 4,
 "nbformat_minor": 4
}

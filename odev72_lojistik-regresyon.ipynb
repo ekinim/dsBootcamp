{
 "cells": [
  {
   "cell_type": "markdown",
   "metadata": {},
   "source": [
    "# 7.2 - Sınıflandırma Problemler: Lojistik Regresyon ile Sınıflandırma\n",
    "1) Bu ödevde, modelinizi kullanarak Titanic faciasında hayatta kalma durumunu tahmin edeceksiniz. Bu ödevi tamamlamak için, aşağıdaki görevlerin çözümlerini içeren bir Jupyter not defterini link olarak gönderin. Kafanıza takılan konuları mentörünüzle konuşabilir ya da ofis saatinde Slack üzerinden sorabilirsiniz.\n",
    "* [Titanic](https://www.kaggle.com/c/titanic/data) verilerini Kaggle'dan indirin. Buradaki train.csv dosyasındaki veriler ihtiyacınızı görecektir.\n",
    "* Verilerinizi eğitim ve test kümelerine ayırın.\n",
    "* Modelinizi oluşturarak ayırdığınız test kümesindeki verilere göre hayatta kalma durumlarını tahmin edin\n",
    "* Modelinizin performansı tatmin edici mi? Açıklayın.\n",
    "* Bazı değişkenleri ekleyerek veya çıkararak modelinizi tahmin performansı açısından geliştirmeye çalışın.\n",
    "\n",
    "2) Lojistik Regresyon'un avantaj ve dezavantajlarını araştırın ve mentörünüzle tartışın."
   ]
  },
  {
   "cell_type": "code",
   "execution_count": 1,
   "metadata": {},
   "outputs": [],
   "source": [
    "import numpy as np\n",
    "import pandas as pd\n",
    "import matplotlib.pyplot as plt\n",
    "import seaborn as sns\n",
    "#import warnings; warnings.filterwarnings(\"ignore\")\n",
    "from sklearn.linear_model import LogisticRegression\n",
    "from sklearn.model_selection import train_test_split\n",
    "from sklearn.preprocessing import scale, PolynomialFeatures\n",
    "\n",
    "%matplotlib inline\n",
    "sns.set(style=\"whitegrid\")\n",
    "plt.rcParams[\"figure.figsize\"] = (10, 6)\n",
    "\n",
    "title_font = {\"family\":\"arial\", \"color\":\"black\", \"weight\":\"bold\", \"size\":16}\n",
    "axis_font = {\"family\":\"serif\", \"color\":\"gray\", \"weight\":\"normal\", \"size\":14}\n",
    "\n",
    "train_data = pd.read_csv(\"titanic_train.csv\")\n",
    "test_data = pd.read_csv(\"titanic_test.csv\")"
   ]
  },
  {
   "cell_type": "code",
   "execution_count": 2,
   "metadata": {},
   "outputs": [
    {
     "data": {
      "text/html": [
       "<div>\n",
       "<style scoped>\n",
       "    .dataframe tbody tr th:only-of-type {\n",
       "        vertical-align: middle;\n",
       "    }\n",
       "\n",
       "    .dataframe tbody tr th {\n",
       "        vertical-align: top;\n",
       "    }\n",
       "\n",
       "    .dataframe thead th {\n",
       "        text-align: right;\n",
       "    }\n",
       "</style>\n",
       "<table border=\"1\" class=\"dataframe\">\n",
       "  <thead>\n",
       "    <tr style=\"text-align: right;\">\n",
       "      <th></th>\n",
       "      <th>PassengerId</th>\n",
       "      <th>Survived</th>\n",
       "      <th>Pclass</th>\n",
       "      <th>Name</th>\n",
       "      <th>Sex</th>\n",
       "      <th>Age</th>\n",
       "      <th>SibSp</th>\n",
       "      <th>Parch</th>\n",
       "      <th>Ticket</th>\n",
       "      <th>Fare</th>\n",
       "      <th>Cabin</th>\n",
       "      <th>Embarked</th>\n",
       "    </tr>\n",
       "  </thead>\n",
       "  <tbody>\n",
       "    <tr>\n",
       "      <th>0</th>\n",
       "      <td>1</td>\n",
       "      <td>0</td>\n",
       "      <td>3</td>\n",
       "      <td>Braund, Mr. Owen Harris</td>\n",
       "      <td>male</td>\n",
       "      <td>22.0</td>\n",
       "      <td>1</td>\n",
       "      <td>0</td>\n",
       "      <td>A/5 21171</td>\n",
       "      <td>7.2500</td>\n",
       "      <td>NaN</td>\n",
       "      <td>S</td>\n",
       "    </tr>\n",
       "    <tr>\n",
       "      <th>1</th>\n",
       "      <td>2</td>\n",
       "      <td>1</td>\n",
       "      <td>1</td>\n",
       "      <td>Cumings, Mrs. John Bradley (Florence Briggs Th...</td>\n",
       "      <td>female</td>\n",
       "      <td>38.0</td>\n",
       "      <td>1</td>\n",
       "      <td>0</td>\n",
       "      <td>PC 17599</td>\n",
       "      <td>71.2833</td>\n",
       "      <td>C85</td>\n",
       "      <td>C</td>\n",
       "    </tr>\n",
       "    <tr>\n",
       "      <th>2</th>\n",
       "      <td>3</td>\n",
       "      <td>1</td>\n",
       "      <td>3</td>\n",
       "      <td>Heikkinen, Miss. Laina</td>\n",
       "      <td>female</td>\n",
       "      <td>26.0</td>\n",
       "      <td>0</td>\n",
       "      <td>0</td>\n",
       "      <td>STON/O2. 3101282</td>\n",
       "      <td>7.9250</td>\n",
       "      <td>NaN</td>\n",
       "      <td>S</td>\n",
       "    </tr>\n",
       "    <tr>\n",
       "      <th>3</th>\n",
       "      <td>4</td>\n",
       "      <td>1</td>\n",
       "      <td>1</td>\n",
       "      <td>Futrelle, Mrs. Jacques Heath (Lily May Peel)</td>\n",
       "      <td>female</td>\n",
       "      <td>35.0</td>\n",
       "      <td>1</td>\n",
       "      <td>0</td>\n",
       "      <td>113803</td>\n",
       "      <td>53.1000</td>\n",
       "      <td>C123</td>\n",
       "      <td>S</td>\n",
       "    </tr>\n",
       "    <tr>\n",
       "      <th>4</th>\n",
       "      <td>5</td>\n",
       "      <td>0</td>\n",
       "      <td>3</td>\n",
       "      <td>Allen, Mr. William Henry</td>\n",
       "      <td>male</td>\n",
       "      <td>35.0</td>\n",
       "      <td>0</td>\n",
       "      <td>0</td>\n",
       "      <td>373450</td>\n",
       "      <td>8.0500</td>\n",
       "      <td>NaN</td>\n",
       "      <td>S</td>\n",
       "    </tr>\n",
       "    <tr>\n",
       "      <th>5</th>\n",
       "      <td>6</td>\n",
       "      <td>0</td>\n",
       "      <td>3</td>\n",
       "      <td>Moran, Mr. James</td>\n",
       "      <td>male</td>\n",
       "      <td>NaN</td>\n",
       "      <td>0</td>\n",
       "      <td>0</td>\n",
       "      <td>330877</td>\n",
       "      <td>8.4583</td>\n",
       "      <td>NaN</td>\n",
       "      <td>Q</td>\n",
       "    </tr>\n",
       "  </tbody>\n",
       "</table>\n",
       "</div>"
      ],
      "text/plain": [
       "   PassengerId  Survived  Pclass  \\\n",
       "0            1         0       3   \n",
       "1            2         1       1   \n",
       "2            3         1       3   \n",
       "3            4         1       1   \n",
       "4            5         0       3   \n",
       "5            6         0       3   \n",
       "\n",
       "                                                Name     Sex   Age  SibSp  \\\n",
       "0                            Braund, Mr. Owen Harris    male  22.0      1   \n",
       "1  Cumings, Mrs. John Bradley (Florence Briggs Th...  female  38.0      1   \n",
       "2                             Heikkinen, Miss. Laina  female  26.0      0   \n",
       "3       Futrelle, Mrs. Jacques Heath (Lily May Peel)  female  35.0      1   \n",
       "4                           Allen, Mr. William Henry    male  35.0      0   \n",
       "5                                   Moran, Mr. James    male   NaN      0   \n",
       "\n",
       "   Parch            Ticket     Fare Cabin Embarked  \n",
       "0      0         A/5 21171   7.2500   NaN        S  \n",
       "1      0          PC 17599  71.2833   C85        C  \n",
       "2      0  STON/O2. 3101282   7.9250   NaN        S  \n",
       "3      0            113803  53.1000  C123        S  \n",
       "4      0            373450   8.0500   NaN        S  \n",
       "5      0            330877   8.4583   NaN        Q  "
      ]
     },
     "execution_count": 2,
     "metadata": {},
     "output_type": "execute_result"
    }
   ],
   "source": [
    "# train data\n",
    "train_data.head(6)"
   ]
  },
  {
   "cell_type": "markdown",
   "metadata": {},
   "source": [
    "***\n",
    "# Soru:"
   ]
  },
  {
   "cell_type": "code",
   "execution_count": 3,
   "metadata": {
    "scrolled": true
   },
   "outputs": [
    {
     "name": "stdout",
     "output_type": "stream",
     "text": [
      "Veri: nan\n",
      "Veri tipi: <class 'numpy.float64'> \n",
      "\n",
      "NaN mı: False\n"
     ]
    }
   ],
   "source": [
    "print(\"Veri:\", train_data.Age[5])\n",
    "print(\"Veri tipi:\", type(train_data.Age[5]), \"\\n\")\n",
    "\n",
    "## aşağıdaki neden False oluyor?\n",
    "print(\"NaN mı:\", train_data.Age[5] == np.nan)"
   ]
  },
  {
   "cell_type": "markdown",
   "metadata": {},
   "source": [
    "***"
   ]
  },
  {
   "cell_type": "code",
   "execution_count": 4,
   "metadata": {
    "scrolled": false
   },
   "outputs": [
    {
     "data": {
      "text/html": [
       "<div>\n",
       "<style scoped>\n",
       "    .dataframe tbody tr th:only-of-type {\n",
       "        vertical-align: middle;\n",
       "    }\n",
       "\n",
       "    .dataframe tbody tr th {\n",
       "        vertical-align: top;\n",
       "    }\n",
       "\n",
       "    .dataframe thead th {\n",
       "        text-align: right;\n",
       "    }\n",
       "</style>\n",
       "<table border=\"1\" class=\"dataframe\">\n",
       "  <thead>\n",
       "    <tr style=\"text-align: right;\">\n",
       "      <th></th>\n",
       "      <th>PassengerId</th>\n",
       "      <th>Pclass</th>\n",
       "      <th>Name</th>\n",
       "      <th>Sex</th>\n",
       "      <th>Age</th>\n",
       "      <th>SibSp</th>\n",
       "      <th>Parch</th>\n",
       "      <th>Ticket</th>\n",
       "      <th>Fare</th>\n",
       "      <th>Cabin</th>\n",
       "      <th>Embarked</th>\n",
       "    </tr>\n",
       "  </thead>\n",
       "  <tbody>\n",
       "    <tr>\n",
       "      <th>0</th>\n",
       "      <td>892</td>\n",
       "      <td>3</td>\n",
       "      <td>Kelly, Mr. James</td>\n",
       "      <td>male</td>\n",
       "      <td>34.5</td>\n",
       "      <td>0</td>\n",
       "      <td>0</td>\n",
       "      <td>330911</td>\n",
       "      <td>7.8292</td>\n",
       "      <td>NaN</td>\n",
       "      <td>Q</td>\n",
       "    </tr>\n",
       "    <tr>\n",
       "      <th>1</th>\n",
       "      <td>893</td>\n",
       "      <td>3</td>\n",
       "      <td>Wilkes, Mrs. James (Ellen Needs)</td>\n",
       "      <td>female</td>\n",
       "      <td>47.0</td>\n",
       "      <td>1</td>\n",
       "      <td>0</td>\n",
       "      <td>363272</td>\n",
       "      <td>7.0000</td>\n",
       "      <td>NaN</td>\n",
       "      <td>S</td>\n",
       "    </tr>\n",
       "    <tr>\n",
       "      <th>2</th>\n",
       "      <td>894</td>\n",
       "      <td>2</td>\n",
       "      <td>Myles, Mr. Thomas Francis</td>\n",
       "      <td>male</td>\n",
       "      <td>62.0</td>\n",
       "      <td>0</td>\n",
       "      <td>0</td>\n",
       "      <td>240276</td>\n",
       "      <td>9.6875</td>\n",
       "      <td>NaN</td>\n",
       "      <td>Q</td>\n",
       "    </tr>\n",
       "    <tr>\n",
       "      <th>3</th>\n",
       "      <td>895</td>\n",
       "      <td>3</td>\n",
       "      <td>Wirz, Mr. Albert</td>\n",
       "      <td>male</td>\n",
       "      <td>27.0</td>\n",
       "      <td>0</td>\n",
       "      <td>0</td>\n",
       "      <td>315154</td>\n",
       "      <td>8.6625</td>\n",
       "      <td>NaN</td>\n",
       "      <td>S</td>\n",
       "    </tr>\n",
       "    <tr>\n",
       "      <th>4</th>\n",
       "      <td>896</td>\n",
       "      <td>3</td>\n",
       "      <td>Hirvonen, Mrs. Alexander (Helga E Lindqvist)</td>\n",
       "      <td>female</td>\n",
       "      <td>22.0</td>\n",
       "      <td>1</td>\n",
       "      <td>1</td>\n",
       "      <td>3101298</td>\n",
       "      <td>12.2875</td>\n",
       "      <td>NaN</td>\n",
       "      <td>S</td>\n",
       "    </tr>\n",
       "  </tbody>\n",
       "</table>\n",
       "</div>"
      ],
      "text/plain": [
       "   PassengerId  Pclass                                          Name     Sex  \\\n",
       "0          892       3                              Kelly, Mr. James    male   \n",
       "1          893       3              Wilkes, Mrs. James (Ellen Needs)  female   \n",
       "2          894       2                     Myles, Mr. Thomas Francis    male   \n",
       "3          895       3                              Wirz, Mr. Albert    male   \n",
       "4          896       3  Hirvonen, Mrs. Alexander (Helga E Lindqvist)  female   \n",
       "\n",
       "    Age  SibSp  Parch   Ticket     Fare Cabin Embarked  \n",
       "0  34.5      0      0   330911   7.8292   NaN        Q  \n",
       "1  47.0      1      0   363272   7.0000   NaN        S  \n",
       "2  62.0      0      0   240276   9.6875   NaN        Q  \n",
       "3  27.0      0      0   315154   8.6625   NaN        S  \n",
       "4  22.0      1      1  3101298  12.2875   NaN        S  "
      ]
     },
     "execution_count": 4,
     "metadata": {},
     "output_type": "execute_result"
    }
   ],
   "source": [
    "# test data\n",
    "test_data.head()"
   ]
  },
  {
   "cell_type": "code",
   "execution_count": 5,
   "metadata": {
    "scrolled": false
   },
   "outputs": [],
   "source": [
    "# Kategorik değişkenleri numerik yapalım.\n",
    "for data in (train_data, test_data):\n",
    "    # Cinsiyet değişkenini ikili değere dönüştürdük.\n",
    "    is_male_series = pd.get_dummies(data[\"Sex\"], drop_first=True)\n",
    "    data.insert(loc=4, column=\"is_male\", value=is_male_series)\n",
    "    data.drop(labels=\"Sex\", axis=1, inplace=True)\n",
    "    \n",
    "    # 3 farklı biniş limanını sayısal değere dönüştürdük\n",
    "    data.Embarked = data.Embarked.replace(\"S\", 3)    # S = Southampton\n",
    "    data.Embarked = data.Embarked.replace(\"Q\", 2)    # Q = Queenstown\n",
    "    data.Embarked = data.Embarked.replace(\"C\", 1)    # C = Cherbourg\n",
    "    data.Embarked = data.Embarked.replace(np.nan, 0)\n",
    "    \n",
    "    # Sayısal değere dönüşen sütunun veri tipini güncelledik.\n",
    "    data.Embarked = data.Embarked.astype(\"uint8\")"
   ]
  },
  {
   "cell_type": "code",
   "execution_count": 6,
   "metadata": {
    "scrolled": true
   },
   "outputs": [],
   "source": [
    "# \"Age\" değişkenindeki boş değerleri, cinsiyet ortalamalarıyla değiştirdik.\n",
    "temp_index = 0\n",
    "for age in (train_data.Age):\n",
    "    if np.isnan(age):\n",
    "        mean_age_by_sex = train_data.Age.groupby(by=train_data.is_male).mean()\n",
    "        train_data.loc[temp_index, \"Age\"] = mean_age_by_sex[train_data.is_male[temp_index]]\n",
    "    temp_index +=1    \n",
    "del temp_index"
   ]
  },
  {
   "cell_type": "code",
   "execution_count": 7,
   "metadata": {
    "scrolled": true
   },
   "outputs": [],
   "source": [
    "# Modelimizin bağımsız ve bağımlı değişkenlerini tanımlayalım.\n",
    "# Ayrıca, bağımsız değişkenleri standartlaştırarak olası katsayı ağırlık farklarını düşürelim.\n",
    "X_train = scale(train_data[[\"Pclass\", \"is_male\", \"Fare\", \"Age\", \"SibSp\", \"Parch\", \"Embarked\"]])\n",
    "Y_train = train_data[\"Survived\"]"
   ]
  },
  {
   "cell_type": "code",
   "execution_count": 8,
   "metadata": {},
   "outputs": [],
   "source": [
    "# Kuracağımız modelde, farklı C değerleri deneyeceğiz.\n",
    "# C: Inverse of regularization strength \n",
    "C_values = np.logspace(-10, 10, 500)"
   ]
  },
  {
   "cell_type": "code",
   "execution_count": 9,
   "metadata": {},
   "outputs": [],
   "source": [
    "accuracy_values = pd.DataFrame(columns=[\"C Values\", \"Train Accuracy\"])\n",
    "for c in C_values:\n",
    "    logistic_reg = LogisticRegression(penalty=\"l2\", \n",
    "                                      solver=\"lbfgs\", \n",
    "                                      multi_class=\"multinomial\", \n",
    "                                      C=c, \n",
    "                                      max_iter=1000)\n",
    "    logistic_reg.fit(X_train, Y_train)\n",
    "    score = logistic_reg.score(X_train, Y_train)\n",
    "    \n",
    "    accuracy_values = accuracy_values.append({\"C Values\":c, \"Train Accuracy\":score}, \n",
    "                                             ignore_index=True)"
   ]
  },
  {
   "cell_type": "code",
   "execution_count": 10,
   "metadata": {
    "scrolled": false
   },
   "outputs": [
    {
     "name": "stdout",
     "output_type": "stream",
     "text": [
      "Bazı C değerlerinin doğruluk oranları:\n"
     ]
    },
    {
     "data": {
      "text/html": [
       "<div>\n",
       "<style scoped>\n",
       "    .dataframe tbody tr th:only-of-type {\n",
       "        vertical-align: middle;\n",
       "    }\n",
       "\n",
       "    .dataframe tbody tr th {\n",
       "        vertical-align: top;\n",
       "    }\n",
       "\n",
       "    .dataframe thead th {\n",
       "        text-align: right;\n",
       "    }\n",
       "</style>\n",
       "<table border=\"1\" class=\"dataframe\">\n",
       "  <thead>\n",
       "    <tr style=\"text-align: right;\">\n",
       "      <th></th>\n",
       "      <th>C Values</th>\n",
       "      <th>Train Accuracy</th>\n",
       "    </tr>\n",
       "  </thead>\n",
       "  <tbody>\n",
       "    <tr>\n",
       "      <th>0</th>\n",
       "      <td>1.000000e-10</td>\n",
       "      <td>0.616162</td>\n",
       "    </tr>\n",
       "    <tr>\n",
       "      <th>100</th>\n",
       "      <td>1.018629e-06</td>\n",
       "      <td>0.616162</td>\n",
       "    </tr>\n",
       "    <tr>\n",
       "      <th>200</th>\n",
       "      <td>1.037605e-02</td>\n",
       "      <td>0.804714</td>\n",
       "    </tr>\n",
       "    <tr>\n",
       "      <th>300</th>\n",
       "      <td>1.056935e+02</td>\n",
       "      <td>0.801347</td>\n",
       "    </tr>\n",
       "    <tr>\n",
       "      <th>400</th>\n",
       "      <td>1.076624e+06</td>\n",
       "      <td>0.801347</td>\n",
       "    </tr>\n",
       "  </tbody>\n",
       "</table>\n",
       "</div>"
      ],
      "text/plain": [
       "         C Values  Train Accuracy\n",
       "0    1.000000e-10        0.616162\n",
       "100  1.018629e-06        0.616162\n",
       "200  1.037605e-02        0.804714\n",
       "300  1.056935e+02        0.801347\n",
       "400  1.076624e+06        0.801347"
      ]
     },
     "execution_count": 10,
     "metadata": {},
     "output_type": "execute_result"
    }
   ],
   "source": [
    "print(\"Bazı C değerlerinin doğruluk oranları:\")\n",
    "accuracy_values.iloc[0:500:100]"
   ]
  },
  {
   "cell_type": "code",
   "execution_count": 11,
   "metadata": {
    "scrolled": true
   },
   "outputs": [
    {
     "name": "stdout",
     "output_type": "stream",
     "text": [
      "En yüksek skorun (0.816) C değeri: 0.004123\n"
     ]
    }
   ],
   "source": [
    "index_of_max = accuracy_values.index[accuracy_values[\"Train Accuracy\"] \n",
    "                      == accuracy_values[\"Train Accuracy\"].max()][0]\n",
    "\n",
    "accuracy_of_max = accuracy_values[\"Train Accuracy\"][index_of_max]\n",
    "c_of_max = accuracy_values[\"C Values\"][index_of_max]\n",
    "\n",
    "print(f\"En yüksek skorun ({accuracy_of_max:.3f}) C değeri: {c_of_max:.4g}\")"
   ]
  },
  {
   "cell_type": "code",
   "execution_count": 12,
   "metadata": {
    "scrolled": false
   },
   "outputs": [
    {
     "name": "stdout",
     "output_type": "stream",
     "text": [
      "İlk modelimizin performansı: 0.8159\n"
     ]
    }
   ],
   "source": [
    "log_reg = LogisticRegression(solver=\"lbfgs\", \n",
    "                             multi_class=\"multinomial\", \n",
    "                             C=c_of_max, \n",
    "                             max_iter=1000)\n",
    "\n",
    "log_reg.fit(X_train, Y_train)\n",
    "print(\"İlk modelimizin performansı: {:.4f}\".format(log_reg.score(X_train, Y_train)))"
   ]
  },
  {
   "cell_type": "code",
   "execution_count": 13,
   "metadata": {},
   "outputs": [],
   "source": [
    "# \"polynomial features\" ile değişkenlerimizin etkileşimini gözlemleyeceğiz\n",
    "poly_model = PolynomialFeatures(degree=5, interaction_only=False, order=\"C\")\n",
    "X_train_poly = poly_model.fit_transform(X_train)"
   ]
  },
  {
   "cell_type": "code",
   "execution_count": 14,
   "metadata": {},
   "outputs": [
    {
     "name": "stdout",
     "output_type": "stream",
     "text": [
      "Polinom etkileşimi ile denen ilk modelin performansı: 0.8653\n"
     ]
    }
   ],
   "source": [
    "# Uygulanan model: \n",
    "# log_reg = LogisticRegression(solver=\"lbfgs\", multi_class=\"multinomial\", C=c_of_max, max_iter=1000)\n",
    "\n",
    "log_reg.fit(X_train_poly, Y_train)\n",
    "print(\"Polinom etkileşimi ile denen ilk modelin performansı: {:.4f}\".format(log_reg.score(X_train_poly, Y_train)))"
   ]
  },
  {
   "cell_type": "code",
   "execution_count": 15,
   "metadata": {
    "scrolled": true
   },
   "outputs": [],
   "source": [
    "# Kabin sütununu da dummy değişkenleriyle güncelleyerek performanstaki değişime bakalım.\n",
    "train_data = pd.concat([train_data, pd.get_dummies(train_data[\"Cabin\"], drop_first=True)], axis=1)\n",
    "train_data.drop(labels=[\"Cabin\", \"PassengerId\", \"Name\", \"Ticket\"], axis=1, inplace=True)"
   ]
  },
  {
   "cell_type": "code",
   "execution_count": 16,
   "metadata": {},
   "outputs": [],
   "source": [
    "X_train = scale(train_data.iloc[:,1:])\n",
    "Y_train = train_data[\"Survived\"]"
   ]
  },
  {
   "cell_type": "code",
   "execution_count": 17,
   "metadata": {
    "scrolled": true
   },
   "outputs": [
    {
     "name": "stdout",
     "output_type": "stream",
     "text": [
      "Kabin sütunu düzenlemesinin ardından modelimizin performansı: 0.8530\n"
     ]
    }
   ],
   "source": [
    "log_reg.fit(X_train, Y_train)\n",
    "print(\"Kabin sütunu düzenlemesinin ardından modelimizin performansı: {:.4f}\".format(log_reg.score(X_train, Y_train)))"
   ]
  },
  {
   "cell_type": "code",
   "execution_count": 18,
   "metadata": {},
   "outputs": [
    {
     "name": "stdout",
     "output_type": "stream",
     "text": [
      "2. derece polinom etkileşimi ile denen modelin performansı: 0.8754\n"
     ]
    }
   ],
   "source": [
    "# polynomial features\n",
    "poly_model = PolynomialFeatures(degree=2, interaction_only=True, order=\"C\")\n",
    "X_train_poly = poly_model.fit_transform(X_train)\n",
    "\n",
    "# LogisticRegression(solver=\"lbfgs\", multi_class=\"multinomial\", C=c_of_max, max_iter=1000)\n",
    "\n",
    "log_reg.fit(X_train_poly, Y_train)\n",
    "print(\"2. derece polinom etkileşimi ile denen modelin performansı: {:.4f}\".format(log_reg.score(X_train_poly, Y_train)))"
   ]
  },
  {
   "cell_type": "code",
   "execution_count": 19,
   "metadata": {},
   "outputs": [
    {
     "name": "stdout",
     "output_type": "stream",
     "text": [
      "3. derece polinom etkileşimi ile denen modelin performansı: 0.8765\n"
     ]
    }
   ],
   "source": [
    "# polynomial features\n",
    "poly_model = PolynomialFeatures(degree=3, interaction_only=True, order=\"C\")\n",
    "X_train_poly = poly_model.fit_transform(X_train)\n",
    "\n",
    "# LogisticRegression(solver=\"lbfgs\", multi_class=\"multinomial\", C=c_of_max, max_iter=1000)\n",
    "\n",
    "log_reg.fit(X_train_poly, Y_train)\n",
    "print(\"3. derece polinom etkileşimi ile denen modelin performansı: {:.4f}\".format(log_reg.score(X_train_poly, Y_train)))"
   ]
  },
  {
   "cell_type": "code",
   "execution_count": 21,
   "metadata": {},
   "outputs": [
    {
     "name": "stdout",
     "output_type": "stream",
     "text": [
      "3. derece ve tam polinom etkileşimi ile denen modelin performansı: 0.8810\n"
     ]
    }
   ],
   "source": [
    "# polynomial features\n",
    "poly_model = PolynomialFeatures(degree=3, interaction_only=False, order=\"C\")\n",
    "X_train_poly = poly_model.fit_transform(X_train)\n",
    "\n",
    "# LogisticRegression(solver=\"lbfgs\", multi_class=\"multinomial\", C=c_of_max, max_iter=1000)\n",
    "\n",
    "log_reg.fit(X_train_poly, Y_train)\n",
    "print(\"3. derece ve tam polinom etkileşimi ile denen modelin performansı: {:.4f}\".format(log_reg.score(X_train_poly, Y_train)))"
   ]
  },
  {
   "cell_type": "markdown",
   "metadata": {},
   "source": [
    "# Sonuç:\n",
    "Modelimizin performansını yükselten faktörler: <br>\n",
    "* Yaş sütunundaki NaN değerlerin, ilgili verinin cinsiyetinin yaş ortalaması ile değiştirilmesi.\n",
    "* Lojistik regresyondaki C değerinin değiştirilmesi\n",
    "* Lojistik regresyondaki maksimum iterasyonun yükseltilmesi\n",
    "* Değişkenlerin hepsinin kullanılması\n",
    "    * \"Pclass\", \"is_male\", \"Fare\", \"Age\" vb.\n",
    "* Polynomial Features kullanılarak değişkenlerin birbirleriyle etkileşim sağlanması\n",
    "* Ve son olarak \"Cabin\" değişkeninin dummy değişkenine dönüştürülerek yüksek dereceli polinom etkileşimine sokulması\n",
    "***"
   ]
  },
  {
   "cell_type": "code",
   "execution_count": 23,
   "metadata": {},
   "outputs": [
    {
     "data": {
      "image/png": "[encoded data removed]",
      "text/plain": [
       "<Figure size 720x432 with 2 Axes>"
      ]
     },
     "metadata": {},
     "output_type": "display_data"
    }
   ],
   "source": [
    "train_data = pd.read_csv(\"titanic_train.csv\")\n",
    "train_data_corr = train_data.corr()\n",
    "\n",
    "sns.heatmap(train_data_corr[abs(train_data_corr)>0.2], \n",
    "            annot=True, \n",
    "            linecolor=\"black\", linewidth=0.1, \n",
    "            vmin=-1, vmax=1, \n",
    "            cmap=\"inferno\")\n",
    "plt.yticks(rotation=0, weight=\"bold\")\n",
    "plt.xticks(rotation=30, weight=\"bold\")\n",
    "plt.title(\"Korelasyon Matrisi\", fontdict = title_font, size=26)\n",
    "plt.show()"
   ]
  },
  {
   "cell_type": "code",
   "execution_count": 31,
   "metadata": {},
   "outputs": [
    {
     "data": {
      "image/png": "[encoded data removed]",
      "text/plain": [
       "<Figure size 720x432 with 1 Axes>"
      ]
     },
     "metadata": {},
     "output_type": "display_data"
    }
   ],
   "source": [
    "scatter_data = train_data[[\"Pclass\", \"Fare\", \"Age\", \"SibSp\", \"Parch\"]]\n",
    "\n",
    "sns.scatterplot(data=scatter_data, \n",
    "                s=100, \n",
    "                hue = train_data.Survived, \n",
    "                palette = 'viridis')\n",
    "\n",
    "plt.show()"
   ]
  }
 ],
 "metadata": {
  "kernelspec": {
   "display_name": "Python 3",
   "language": "python",
   "name": "python3"
  },
  "language_info": {
   "codemirror_mode": {
    "name": "ipython",
    "version": 3
   },
   "file_extension": ".py",
   "mimetype": "text/x-python",
   "name": "python",
   "nbconvert_exporter": "python",
   "pygments_lexer": "ipython3",
   "version": "3.8.1"
  }
 },
 "nbformat": 4,
 "nbformat_minor": 4
}

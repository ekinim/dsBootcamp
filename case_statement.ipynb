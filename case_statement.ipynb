{
 "cells": [
  {
   "cell_type": "markdown",
   "metadata": {},
   "source": [
    "### Returning Single Value"
   ]
  },
  {
   "cell_type": "code",
   "execution_count": 67,
   "metadata": {},
   "outputs": [
    {
     "data": {
      "text/plain": [
       "'Monday'"
      ]
     },
     "execution_count": 67,
     "metadata": {},
     "output_type": "execute_result"
    }
   ],
   "source": [
    "days={\n",
    "    1:\"Sunday\",\n",
    "    2:\"Monday\",\n",
    "    3:\"Tuesday\",\n",
    "    4:\"Wednesday\",\n",
    "    5:\"Thursday\",\n",
    "    6:\"Friday\",\n",
    "    7:\"Saturday\"\n",
    "    }\n",
    "\n",
    "day=days.get(2) # True kullanmadan değeri alma. (Boolean ifade ile çalışmaz.)\n",
    "\n",
    "day"
   ]
  },
  {
   "cell_type": "code",
   "execution_count": 64,
   "metadata": {},
   "outputs": [
    {
     "data": {
      "text/plain": [
       "'B'"
      ]
     },
     "execution_count": 64,
     "metadata": {},
     "output_type": "execute_result"
    }
   ],
   "source": [
    "val=80 # e.g.Points held from an exam.\n",
    "\n",
    "points={\n",
    "    val>=90:\"A\",\n",
    "    val>=85 and val<90:\"B+\",\n",
    "    val>=80 and val<84:\"B\",\n",
    "    val>=75 and val<79:\"C+\",\n",
    "    val>=70 and val<74:\"C\",\n",
    "    val>=65 and val<69:\"D+\",\n",
    "    val>=60 and val<64:\"D\",\n",
    "    val>=50 and val<59:\"E\",\n",
    "    val<49:\"F\",\n",
    "    }\n",
    "\n",
    "points[True]"
   ]
  },
  {
   "cell_type": "code",
   "execution_count": 69,
   "metadata": {},
   "outputs": [
    {
     "data": {
      "text/plain": [
       "'B+'"
      ]
     },
     "execution_count": 69,
     "metadata": {},
     "output_type": "execute_result"
    }
   ],
   "source": [
    "def grader(val):\n",
    "    \n",
    "    points={\n",
    "        val>=90:\"A\",\n",
    "        val>=85 and val<90:\"B+\",\n",
    "        val>=80 and val<84:\"B\",\n",
    "        val>=75 and val<79:\"C+\",\n",
    "        val>=70 and val<74:\"C\",\n",
    "        val>=65 and val<69:\"D+\",\n",
    "        val>=60 and val<64:\"D\",\n",
    "        val>=50 and val<59:\"E\",\n",
    "        val<49:\"F\",\n",
    "        }\n",
    "\n",
    "    return points[True]\n",
    "\n",
    "grader(87)"
   ]
  },
  {
   "cell_type": "markdown",
   "metadata": {},
   "source": [
    "### Returning a Function"
   ]
  },
  {
   "cell_type": "code",
   "execution_count": 26,
   "metadata": {},
   "outputs": [],
   "source": [
    "def A(): return \"A\"\n",
    "    \n",
    "def Bplus(): return \"B+\"\n",
    "\n",
    "def B(): return \"B\"\n",
    "    \n",
    "def Cplus(): return \"C+\"\n",
    "    \n",
    "def C(): return \"C\"\n",
    "    \n",
    "def Dplus(): return \"D+\"\n",
    "    \n",
    "def D(): return \"D\"\n",
    "    \n",
    "def E(): return \"E\"\n",
    "    \n",
    "def F(): return \"F\""
   ]
  },
  {
   "cell_type": "markdown",
   "metadata": {},
   "source": [
    "#### Usage Outside a Function"
   ]
  },
  {
   "cell_type": "code",
   "execution_count": 27,
   "metadata": {},
   "outputs": [
    {
     "data": {
      "text/plain": [
       "'C'"
      ]
     },
     "execution_count": 27,
     "metadata": {},
     "output_type": "execute_result"
    }
   ],
   "source": [
    "val=70 # e.g.Points held from an exam\n",
    "\n",
    "points={\n",
    "    val>=90:A, # Function names without parentheses.\n",
    "    val>=85 and val<90:Bplus,\n",
    "    val>=80 and val<84:B,\n",
    "    val>=75 and val<79:Cplus,\n",
    "    val>=70 and val<74:C,\n",
    "    val>=65 and val<69:Dplus,\n",
    "    val>=60 and val<64:D,\n",
    "    val>=50 and val<59:E,\n",
    "    val<49:F,\n",
    "    }\n",
    "\n",
    "grade=points[True]\n",
    "\n",
    "grade() # Use with parentheses to get the result."
   ]
  },
  {
   "cell_type": "markdown",
   "metadata": {},
   "source": [
    "#### Usage Inside a Function"
   ]
  },
  {
   "cell_type": "code",
   "execution_count": 62,
   "metadata": {},
   "outputs": [
    {
     "data": {
      "text/plain": [
       "'B'"
      ]
     },
     "execution_count": 62,
     "metadata": {},
     "output_type": "execute_result"
    }
   ],
   "source": [
    "def grader(val):\n",
    "    \n",
    "    points={\n",
    "        val>=90:A, # Function names without parentheses.\n",
    "        val>=85 and val<90:Bplus,\n",
    "        val>=80 and val<84:B,\n",
    "        val>=75 and val<79:Cplus,\n",
    "        val>=70 and val<74:C,\n",
    "        val>=65 and val<69:Dplus,\n",
    "        val>=60 and val<64:D,\n",
    "        val>=50 and val<59:E,\n",
    "        val<49:F,\n",
    "        }\n",
    "    \n",
    "    grade=points[True]\n",
    "\n",
    "    return grade()\n",
    "    \n",
    "grader(80)"
   ]
  }
 ],
 "metadata": {
  "kernelspec": {
   "display_name": "Python 3",
   "language": "python",
   "name": "python3"
  },
  "language_info": {
   "codemirror_mode": {
    "name": "ipython",
    "version": 3
   },
   "file_extension": ".py",
   "mimetype": "text/x-python",
   "name": "python",
   "nbconvert_exporter": "python",
   "pygments_lexer": "ipython3",
   "version": "3.7.3"
  }
 },
 "nbformat": 4,
 "nbformat_minor": 2
}

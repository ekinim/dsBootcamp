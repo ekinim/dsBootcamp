{
 "cells": [
  {
   "cell_type": "markdown",
   "metadata": {},
   "source": [
    "## değişken ve türleri"
   ]
  },
  {
   "cell_type": "markdown",
   "metadata": {},
   "source": [
    "**nicel değişken:** sayılarla ifade edilebilinen değişkenlerdir <br>\n",
    "**nitel değişken:** sayısal olarak ifade edilemeyen, sembollerle ifade edilen değişkenlerdir <br>\n",
    "**sürekli değişken:** sonsuz sayıda olan değişkenlerdir. örneğin 0 ve 1 arasındaki sonsuz sayıdaki rasyonel sayılar <br>\n",
    "**süreksiz değişken:** belli bir sayıda, sınırlı sayıda değer alabilen değişkenlerdir. örneğin bir insanın 1 dakikada atladığı ip sayısı <br>"
   ]
  },
  {
   "cell_type": "code",
   "execution_count": 1,
   "metadata": {},
   "outputs": [
    {
     "name": "stdout",
     "output_type": "stream",
     "text": [
      "0    a\n",
      "1    b\n",
      "2    c\n",
      "3    d\n",
      "dtype: category\n",
      "Categories (4, object): [a, b, c, d]\n",
      "0    1\n",
      "1    3\n",
      "2    5\n",
      "3    7\n",
      "4    9\n",
      "dtype: int64\n"
     ]
    }
   ],
   "source": [
    "# uygulama\n",
    "import pandas as pd\n",
    "\n",
    "nitel = pd.Series([\"a\",\"b\",\"c\",\"d\"], dtype=\"category\")\n",
    "print(nitel)\n",
    "\n",
    "nicel = pd.Series([1,3,5,7,9])\n",
    "print(nicel)"
   ]
  },
  {
   "cell_type": "markdown",
   "metadata": {},
   "source": [
    "## merkezi eğilim ölçüleri"
   ]
  },
  {
   "cell_type": "markdown",
   "metadata": {},
   "source": [
    "**En temel merkezi eğilim ölçüleri:** average/mean, median, mod <br>\n",
    "**En sık kul. dağılım ölçüleri:** varyans(variance), standart sapma(st. deviation), standart hata(st. error) <br>"
   ]
  },
  {
   "cell_type": "code",
   "execution_count": 2,
   "metadata": {},
   "outputs": [
    {
     "name": "stdout",
     "output_type": "stream",
     "text": [
      "[66.11736308 70.14089073 71.6947306  64.2239558  63.48861137 57.5796816\n",
      " 61.96054626 63.5018062  75.51983589 59.63490564 59.58379741 63.02081606\n",
      " 72.44596437 77.89112868 68.22998207 73.06851356 70.67545945 60.26007235\n",
      " 78.91833565 65.99991278 87.39957558 68.96084032 65.81562893 64.88221549\n",
      " 61.71937029 66.5225746  56.96644036 79.22669438 66.94539715 57.77903932\n",
      " 70.47584201 66.3790751  66.27336082 81.13080037 69.33201715 67.98871712\n",
      " 68.7155582  66.26480781 71.54707006 68.70707586 62.12564555 69.7335466\n",
      " 70.14235223 84.24887669 61.20677451 64.08067938 76.90808391 70.26986004\n",
      " 76.65192838 60.58133814 73.32065957 79.29047389 56.44758037 71.27572485\n",
      " 71.76159308 77.314233   71.78543417 67.66615654 84.08788616 66.30345103\n",
      " 64.54474453 66.34982105 72.90088817 64.03921093 76.71639935 85.24368481\n",
      " 70.99109227 76.20788879 63.20791803 82.57100965 72.31887889 57.51901548\n",
      " 62.04063248 59.26087224 85.77924151 80.26114196 67.817987   63.19304289\n",
      " 74.38705005 63.95031667 66.7112384  66.01888045 58.13829051 67.44844544\n",
      " 79.43847151 74.9263436  74.93231178 68.59337732 66.88614873 77.14747992\n",
      " 72.65658913 65.43972344 59.50085613 72.24434229 65.26593009 73.53956902\n",
      " 65.8012757  63.55904291 81.80483812 74.06681707 63.62327983 77.49410355\n",
      " 72.87219696 72.2115642  66.03677921 64.11175278 67.05946957 63.75907502\n",
      " 65.65170689 53.17862979 67.74952302 63.43073907 55.23165554 64.87978094\n",
      " 66.29364051 54.87339475 61.84529913 61.42775701 57.71508431 68.95121103\n",
      " 58.95810926 73.3411518  64.24553662 66.63980217 70.0898859  65.04156133\n",
      " 66.97200387 59.95491122 65.36210475 72.12264    64.58779006 66.69813574\n",
      " 62.21040113 65.86284758 74.42977511 61.48991111 60.9294713  61.12462396\n",
      " 53.50219699 64.42376469 62.52908276 56.6117264  63.1015308  65.89289282\n",
      " 70.29512485 60.06874665 61.49983638 63.96662294 58.61609399 66.01479711\n",
      " 56.2731308  63.41671288 70.14985787 63.05697911 54.49604046 61.43695892\n",
      " 70.63661577 63.4964404  71.79750221 63.68641625 63.35395667 69.95125866\n",
      " 65.46691446 65.51079693 67.3536518  67.20059437 61.04891576 59.88307849\n",
      " 66.6813624  78.3392123  64.47425951 67.77467058 72.07652986 65.58873086\n",
      " 60.1386233  57.59524383 64.29907587 70.63743463 57.91111334 75.75008439\n",
      " 64.47193293 62.01877074 66.46341882 61.34740871 64.2305577  62.6731017\n",
      " 67.13020352 54.16157603 63.8997034  73.70573103 60.57668266 62.26077188\n",
      " 62.44054292 62.04283787 60.69889897 65.46459252 66.01143165 63.24342021\n",
      " 71.83592434 63.20425029]\n"
     ]
    }
   ],
   "source": [
    "import numpy as np\n",
    "\n",
    "df = pd.DataFrame()\n",
    "\n",
    "df[\"age\"] = [28, 42, 27, 24, 35, 54, 35, 37]\n",
    "\n",
    "rassal = np.append(np.random.normal(69, 8, 100), np.random.normal(64, 5, 100))\n",
    "\n",
    "print(rassal)"
   ]
  },
  {
   "cell_type": "code",
   "execution_count": 3,
   "metadata": {},
   "outputs": [
    {
     "name": "stdout",
     "output_type": "stream",
     "text": [
      "Python mean for \"age\":  35.25\n",
      "Python mean for \"rassal\":  66.93977569885537\n",
      "\n",
      "Numpy mean for \"age\":  35.25\n",
      "Numpy mean for \"rassal\":  66.93977569885541\n"
     ]
    }
   ],
   "source": [
    "# mean\n",
    "print(\"Python mean for \\\"age\\\": \", sum(df[\"age\"]) / len(df[\"age\"]))\n",
    "print(\"Python mean for \\\"rassal\\\": \", sum(rassal) / len(rassal))\n",
    "\n",
    "print(\"\\nNumpy mean for \\\"age\\\": \", np.mean(df[\"age\"]))\n",
    "print(\"Numpy mean for \\\"rassal\\\": \", np.mean(rassal))"
   ]
  },
  {
   "cell_type": "code",
   "execution_count": 4,
   "metadata": {},
   "outputs": [
    {
     "name": "stdout",
     "output_type": "stream",
     "text": [
      "35.0\n",
      "35.0\n"
     ]
    }
   ],
   "source": [
    "# median\n",
    "import statistics    # Python'un istatistik modülü\n",
    "\n",
    "print(statistics.median(df[\"age\"]))\n",
    "print(np.median(df[\"age\"]))"
   ]
  },
  {
   "cell_type": "code",
   "execution_count": 5,
   "metadata": {},
   "outputs": [
    {
     "name": "stdout",
     "output_type": "stream",
     "text": [
      "35\n"
     ]
    }
   ],
   "source": [
    "# mode:\n",
    "# Mod değerler arasında en sık geçen değeri gösterir.\n",
    "# Diğer bir değişle, mod analizi ile veride birden fazla kümelenme olup olmadığı tespit edilir.\n",
    "# Eğer iki veya daha fazla değer aynı sayıda tekrar ederse çift mod oluşacaktır.\n",
    "# Aşağıdaki kodu çift mod içeren bir veri ile çalıştırsaydınız hata alabilirdiniz.\n",
    "# Aşağıdaki kod istisnalar oluşturmadan çift modlu verileri ele alabilecektir, fakat siz ilk modu alacaksınız.\n",
    "\n",
    "print(statistics.mode(df[\"age\"]))"
   ]
  },
  {
   "cell_type": "code",
   "execution_count": 6,
   "metadata": {},
   "outputs": [
    {
     "name": "stdout",
     "output_type": "stream",
     "text": [
      "values : [24 27 28 35 37 42 54]\n",
      "count : [1 1 1 2 1 1 1]\n",
      "indx : 3\n",
      "values[indx] : 35\n"
     ]
    }
   ],
   "source": [
    "(values, counts) = np.unique(df[\"age\"], return_counts=True, return_index=False)\n",
    "\n",
    "indx = np.argmax(counts)    # Returns the indices of the maximum values along an axis.\n",
    "\n",
    "print(\"values :\", values)\n",
    "print(\"count :\", counts)\n",
    "print(\"indx :\", indx)\n",
    "print(\"values[indx] :\", values[indx])    # The most frequent element.\n"
   ]
  },
  {
   "cell_type": "markdown",
   "metadata": {},
   "source": [
    "**Yanlılık (bias) hakkında bir not:** Örneklemden hesaplanan ortalama, medyan ve mod popülasyon hakkında tarafsız (yanlı olmayan) bir tahmin olarak düşünülür. Bir tahmin tarafsız ise, örnek popülasyonu en iyi şekilde temsil eder. Taraflı bir gözlem ise popülasyon değerinin ya üstünde ya da altında bir değere yaklaşım gösterecektir. Yanlılık kısaca şu şekilde ifade edilebilir:\n",
    "\n",
    "***Yanlılık = Örneklem Ortalaması - Popülasyon Ortalaması***\n",
    "\n",
    "Tarafsız tahmin kullanışlıdır, daha büyük bir grup hakkında genelleme yapabilmek için küçük bir grup üzerinde gözlem yapabilmemizi sağlar. Bu derste gösterdiğimiz uygulamalar aslında örneklem üzerinde yapılmış çalışmalar. Örneklem ve popülasyon üzerinde bu bölümün son dersinde duracağımız için bu küçük notu kısa kesiyoruz."
   ]
  },
  {
   "cell_type": "markdown",
   "metadata": {},
   "source": [
    "## dağılım ölçüleri"
   ]
  },
  {
   "cell_type": "markdown",
   "metadata": {},
   "source": [
    "**En temel merkezi eğilim ölçüleri:** average/mean, median, mod <br>\n",
    "**En sık kul. dağılım ölçüleri:** varyans(variance), standart sapma(st. deviation), standart hata(st. error) <br>\n"
   ]
  },
  {
   "cell_type": "markdown",
   "metadata": {},
   "source": [
    "### variance\n",
    "![variance](variance.jpg)\n",
    "Varyans, her bir veri noktasının ortalamaya olan farkının karelerinin toplamının, gözlem sayısının bir eksiğine bölümü ile bulunur. <br>\n",
    "Birçok insan ortalamayı bulup onun üzerinde çalışma yaparken, veri bilimciler genellikle varyans üzerinde çalışırlar. Çünkü veri bilimciler araştırma konusu değişkenin neden birbirinden farklı davrandığını anlamaya çalışırlar. Neden bu mağazanın kazanç marjı diğerlerinden çok yüksek? Neden bu ilacın yan etkileri diğer emsal ilaçlara göre çok daha az? Neden bazı müşteriler şirketin web sitesinde daha fazla zaman geçiriyorlar? gibi sorular aslında varyansla ilgilidir. Yüksek varyansa sahip bir değişken gözlemler hakkında farklılıkları ele verir, bu sayede veri bilimciler gelecek çıktıları anlamak için bunları kullanırlar.Burada μ popülasyon ortalamasını temsil etmektedir.\n",
    "\n",
    "Varyansın hesaplanması ile ilgili iki gariplik var. Neden farkın karesi alınıyor ve neden n ‘e değilde (n-1)’e bölünüyor.\n",
    "\n",
    "İlk soruya cevap olarak, ortalamaya göre sadece fakları alınsaydı toplamı sıfır olurdu çünkü yarısı negatif, yarısı pozitif olacaktı. Karesini alarak negatif değerleri kullanışlı hale getiriyoruz. Tabi ki mutlak değeri alarak hesaplayabilirdik, bu sayede negatif değerleri kullanabilirdik. Karesini almanın başka matematiksel faydaları var bunu sonra tartışacağız. Neden n-1 aldığımızın cevabı ise yanlılıkla (bias) alakalı olduğundan şimdilik tartışmasına girmiyoruz. _(sanırım Sample grup olunca n-1, tüm populasyon olunca n alıyorduk, ondan.)_"
   ]
  },
  {
   "cell_type": "code",
   "execution_count": 7,
   "metadata": {},
   "outputs": [
    {
     "name": "stdout",
     "output_type": "stream",
     "text": [
      "Numpy variance:  92.5\n",
      "Pandas variance:  92.5\n"
     ]
    }
   ],
   "source": [
    "print(\"Numpy variance: \", np.var(df[\"age\"], ddof=1))    # “Delta Degrees of Freedom”: the divisor used in the calculation is N - ddof, where N represents the number of elements. By default ddof is zero.\n",
    "print(\"Pandas variance: \", df[\"age\"].var())    ## variance neyi ifade ediyor?"
   ]
  },
  {
   "cell_type": "markdown",
   "metadata": {},
   "source": [
    "### standard deviation\n",
    "![Standard Deviation](std.jpg)\n",
    "Değişkenliği ölçmekte en çok kullanılan göstergelerden birisi varyansın karekökünün alınmasıdır, buna standart sapma adını veririz."
   ]
  },
  {
   "cell_type": "code",
   "execution_count": 8,
   "metadata": {},
   "outputs": [
    {
     "data": {
      "text/plain": [
       "9.617692030835672"
      ]
     },
     "execution_count": 8,
     "metadata": {},
     "output_type": "execute_result"
    }
   ],
   "source": [
    "np.std(df[\"age\"], ddof=1)    # popülasyon için ddof=0 idi, default değeri zaten"
   ]
  },
  {
   "cell_type": "markdown",
   "metadata": {},
   "source": [
    "### standard error\n",
    "![Standard Error](ste.jpg)\n",
    "Verideki değişkenliğin tespitinde sıklıkla kullanılan diğer bir gösterge ise standart hatadır. Standart hata örneklem ortalamasının belirsizliğinin bir ölçüsüdür. Standart sapma bize varyans hakkında bilgi verirken, standart hata bize ortalama hakkında bilgi verir.\n",
    "\n",
    "Anket sonuçları standart hata kullanımı için güzel bir örnektir. Genellikle hata marjı olarak bilinir. Örneğin bir anket sonucu %44 ‘ün X ‘i desteklediğini söyler ve %3 standart hata olabileceğini söyler. Diğer bir deyişle seçim bittiğinde sonuçlar %41 ile %47 arasında olabilir demektir. Standart hata ne kadar küçük olursa ortalamanın bize daha kesin ölçüldüğünü anlatır.\n",
    "\n",
    "Standart hata, standart sapmanın gözlem sayısının kareköküne bölünmesiyle bulunur:"
   ]
  },
  {
   "cell_type": "code",
   "execution_count": 9,
   "metadata": {},
   "outputs": [
    {
     "data": {
      "text/plain": [
       "3.4003676271838605"
      ]
     },
     "execution_count": 9,
     "metadata": {},
     "output_type": "execute_result"
    }
   ],
   "source": [
    "np.std(df[\"age\"], ddof=1) / np.sqrt(len(df[\"age\"]))"
   ]
  },
  {
   "cell_type": "code",
   "execution_count": 10,
   "metadata": {},
   "outputs": [
    {
     "data": {
      "image/png": "[encoded data removed]",
      "text/plain": [
       "<Figure size 432x288 with 2 Axes>"
      ]
     },
     "metadata": {
      "needs_background": "light"
     },
     "output_type": "display_data"
    },
    {
     "name": "stdout",
     "output_type": "stream",
     "text": [
      "Max values :\n",
      " high_var    412.680945\n",
      "low_var      99.239425\n",
      "dtype: float64\n",
      "\n",
      "Min values :\n",
      " high_var   -344.597227\n",
      "low_var      24.116685\n",
      "dtype: float64\n"
     ]
    }
   ],
   "source": [
    "import matplotlib.pyplot as plt\n",
    "\n",
    "pop = pd.DataFrame()\n",
    "\n",
    "# Ortalaması 60, standart sapması 10 ve 100 olan iki değişkenin oluşturulması\n",
    "pop[\"high_var\"] = np.random.normal(60, 100, 10000)\n",
    "pop[\"low_var\"] = np.random.normal(60, 10, 10000)\n",
    "\n",
    "pop.hist(layout=(2,1), sharex=True, color=\"gray\")    # sharex: share the x axis\n",
    "plt.xlabel(\"Random Values\", fontsize=14)\n",
    "plt.show()\n",
    "\n",
    "print(\"Max values :\\n\", pop.max())\n",
    "print(\"\\nMin values :\\n\", pop.min())"
   ]
  },
  {
   "cell_type": "code",
   "execution_count": 11,
   "metadata": {
    "scrolled": false
   },
   "outputs": [
    {
     "data": {
      "image/png": "[encoded data removed]",
      "text/plain": [
       "<Figure size 432x288 with 2 Axes>"
      ]
     },
     "metadata": {
      "needs_background": "light"
     },
     "output_type": "display_data"
    },
    {
     "name": "stdout",
     "output_type": "stream",
     "text": [
      "Mean values:\n",
      " high_var    57.908259\n",
      "low_var     57.648223\n",
      "dtype: float64\n",
      "\n",
      "Standard Deviation:\n",
      " high_var    99.511053\n",
      "low_var     10.996306\n",
      "dtype: float64\n"
     ]
    }
   ],
   "source": [
    "# şimdi yukarıdaki popülasyondan 100'er örnek alacağız\n",
    "sample = pd.DataFrame()\n",
    "sample[\"high_var\"] = np.random.choice(pop[\"high_var\"], 100)   # 100 adet rastgele seçim\n",
    "sample[\"low_var\"] = np.random.choice(pop[\"low_var\"], 100)\n",
    "\n",
    "sample.hist(color=\"teal\", layout=(1,2))\n",
    "plt.show()\n",
    "\n",
    "print(\"Mean values:\\n\", sample.mean())\n",
    "print(\"\\nStandard Deviation:\\n\", sample.std(ddof=1))"
   ]
  },
  {
   "cell_type": "markdown",
   "metadata": {},
   "source": [
    "Örneklem popülasyondan rastgele seçildiği için, kodu her seferinde tekrar çalıştırabilir ve yeni örneklem üzerinde deneyebilirsiniz. Birkaç kere denemenizi tavsiye ederiz. Düşük değişkenliğe sahip örneklemin popülasyon ortalamasına ve standart sapmasına, yüksek değişkenliğe sahip örneklemden daha yakın olduğunu göreceksiniz.\n",
    "\n",
    "Popülasyondan her örneklem seçildiğinde, dağılımın en uç noktalarından değerler (outlier) çekme ihtimalimiz var. En uç noktalardan değer almak örneklemin ortalamasını popülasyon ortalamasından uzaklaştırabilir. Bu yüzden yüksek değişkenlikli değişkenlerin düşüklere göre ortalamadan uzaklaşma potansiyelleri daha fazladır. Bu sorunu mümkün olduğunca örneklem sayısını artırarak giderebiliriz. Bunu ilerde detaylı bir şekilde tartışacağız."
   ]
  },
  {
   "cell_type": "markdown",
   "metadata": {},
   "source": [
    "## alıştırma"
   ]
  },
  {
   "cell_type": "code",
   "execution_count": 12,
   "metadata": {},
   "outputs": [
    {
     "name": "stdout",
     "output_type": "stream",
     "text": [
      "<class 'pandas.core.frame.DataFrame'>\n",
      "RangeIndex: 200 entries, 0 to 199\n",
      "Data columns (total 3 columns):\n",
      " #   Column  Non-Null Count  Dtype  \n",
      "---  ------  --------------  -----  \n",
      " 0   Gender  200 non-null    object \n",
      " 1   Weight  200 non-null    float64\n",
      " 2   Height  200 non-null    float64\n",
      "dtypes: float64(2), object(1)\n",
      "memory usage: 4.0+ KB\n"
     ]
    }
   ],
   "source": [
    "# pandas ve numpy'ı yukarıda import etmiştik.\n",
    "data = pd.DataFrame()\n",
    "data[\"Gender\"] = [\"male\"]*100 + [\"female\"]*100\n",
    "data[\"Weight\"] = np.append(np.random.normal(69,8,100), np.random.normal(64,5,100))\n",
    "data[\"Height\"] = np.append(np.random.normal(195,25,100), np.random.normal(166,15,100))\n",
    "data.info()    # verinin yapısı ile ilgili bilgi edinme"
   ]
  },
  {
   "cell_type": "code",
   "execution_count": 30,
   "metadata": {
    "scrolled": false
   },
   "outputs": [
    {
     "data": {
      "text/html": [
       "<div>\n",
       "<style scoped>\n",
       "    .dataframe tbody tr th:only-of-type {\n",
       "        vertical-align: middle;\n",
       "    }\n",
       "\n",
       "    .dataframe tbody tr th {\n",
       "        vertical-align: top;\n",
       "    }\n",
       "\n",
       "    .dataframe thead th {\n",
       "        text-align: right;\n",
       "    }\n",
       "</style>\n",
       "<table border=\"1\" class=\"dataframe\">\n",
       "  <thead>\n",
       "    <tr style=\"text-align: right;\">\n",
       "      <th></th>\n",
       "      <th>Gender</th>\n",
       "      <th>Weight</th>\n",
       "      <th>Height</th>\n",
       "    </tr>\n",
       "  </thead>\n",
       "  <tbody>\n",
       "    <tr>\n",
       "      <th>0</th>\n",
       "      <td>male</td>\n",
       "      <td>68.827353</td>\n",
       "      <td>185.932870</td>\n",
       "    </tr>\n",
       "    <tr>\n",
       "      <th>1</th>\n",
       "      <td>male</td>\n",
       "      <td>71.597365</td>\n",
       "      <td>207.338065</td>\n",
       "    </tr>\n",
       "    <tr>\n",
       "      <th>2</th>\n",
       "      <td>male</td>\n",
       "      <td>67.939299</td>\n",
       "      <td>176.423618</td>\n",
       "    </tr>\n",
       "  </tbody>\n",
       "</table>\n",
       "</div>"
      ],
      "text/plain": [
       "  Gender     Weight      Height\n",
       "0   male  68.827353  185.932870\n",
       "1   male  71.597365  207.338065\n",
       "2   male  67.939299  176.423618"
      ]
     },
     "execution_count": 30,
     "metadata": {},
     "output_type": "execute_result"
    }
   ],
   "source": [
    "data.head(3)    # ilk \"n\" satır. boş bırakırsan default olarak n=5 alıyor."
   ]
  },
  {
   "cell_type": "code",
   "execution_count": 32,
   "metadata": {},
   "outputs": [
    {
     "data": {
      "text/html": [
       "<div>\n",
       "<style scoped>\n",
       "    .dataframe tbody tr th:only-of-type {\n",
       "        vertical-align: middle;\n",
       "    }\n",
       "\n",
       "    .dataframe tbody tr th {\n",
       "        vertical-align: top;\n",
       "    }\n",
       "\n",
       "    .dataframe thead th {\n",
       "        text-align: right;\n",
       "    }\n",
       "</style>\n",
       "<table border=\"1\" class=\"dataframe\">\n",
       "  <thead>\n",
       "    <tr style=\"text-align: right;\">\n",
       "      <th></th>\n",
       "      <th>Gender</th>\n",
       "      <th>Weight</th>\n",
       "      <th>Height</th>\n",
       "    </tr>\n",
       "  </thead>\n",
       "  <tbody>\n",
       "    <tr>\n",
       "      <th>0</th>\n",
       "      <td>male</td>\n",
       "      <td>68.827353</td>\n",
       "      <td>185.932870</td>\n",
       "    </tr>\n",
       "    <tr>\n",
       "      <th>1</th>\n",
       "      <td>male</td>\n",
       "      <td>71.597365</td>\n",
       "      <td>207.338065</td>\n",
       "    </tr>\n",
       "    <tr>\n",
       "      <th>2</th>\n",
       "      <td>male</td>\n",
       "      <td>67.939299</td>\n",
       "      <td>176.423618</td>\n",
       "    </tr>\n",
       "    <tr>\n",
       "      <th>3</th>\n",
       "      <td>male</td>\n",
       "      <td>70.765775</td>\n",
       "      <td>217.117748</td>\n",
       "    </tr>\n",
       "    <tr>\n",
       "      <th>4</th>\n",
       "      <td>male</td>\n",
       "      <td>60.927788</td>\n",
       "      <td>196.415362</td>\n",
       "    </tr>\n",
       "    <tr>\n",
       "      <th>5</th>\n",
       "      <td>male</td>\n",
       "      <td>75.045004</td>\n",
       "      <td>184.268998</td>\n",
       "    </tr>\n",
       "    <tr>\n",
       "      <th>6</th>\n",
       "      <td>male</td>\n",
       "      <td>71.441212</td>\n",
       "      <td>171.517343</td>\n",
       "    </tr>\n",
       "    <tr>\n",
       "      <th>7</th>\n",
       "      <td>male</td>\n",
       "      <td>77.711843</td>\n",
       "      <td>255.066294</td>\n",
       "    </tr>\n",
       "    <tr>\n",
       "      <th>8</th>\n",
       "      <td>male</td>\n",
       "      <td>73.512429</td>\n",
       "      <td>197.456928</td>\n",
       "    </tr>\n",
       "    <tr>\n",
       "      <th>9</th>\n",
       "      <td>male</td>\n",
       "      <td>69.043735</td>\n",
       "      <td>204.658964</td>\n",
       "    </tr>\n",
       "  </tbody>\n",
       "</table>\n",
       "</div>"
      ],
      "text/plain": [
       "  Gender     Weight      Height\n",
       "0   male  68.827353  185.932870\n",
       "1   male  71.597365  207.338065\n",
       "2   male  67.939299  176.423618\n",
       "3   male  70.765775  217.117748\n",
       "4   male  60.927788  196.415362\n",
       "5   male  75.045004  184.268998\n",
       "6   male  71.441212  171.517343\n",
       "7   male  77.711843  255.066294\n",
       "8   male  73.512429  197.456928\n",
       "9   male  69.043735  204.658964"
      ]
     },
     "execution_count": 32,
     "metadata": {},
     "output_type": "execute_result"
    }
   ],
   "source": [
    "data.head(-190)    # negatif değer: son \"n\" satır hariç hepsi"
   ]
  },
  {
   "cell_type": "code",
   "execution_count": 33,
   "metadata": {
    "scrolled": true
   },
   "outputs": [
    {
     "data": {
      "text/html": [
       "<div>\n",
       "<style scoped>\n",
       "    .dataframe tbody tr th:only-of-type {\n",
       "        vertical-align: middle;\n",
       "    }\n",
       "\n",
       "    .dataframe tbody tr th {\n",
       "        vertical-align: top;\n",
       "    }\n",
       "\n",
       "    .dataframe thead th {\n",
       "        text-align: right;\n",
       "    }\n",
       "</style>\n",
       "<table border=\"1\" class=\"dataframe\">\n",
       "  <thead>\n",
       "    <tr style=\"text-align: right;\">\n",
       "      <th></th>\n",
       "      <th>Gender</th>\n",
       "      <th>Weight</th>\n",
       "      <th>Height</th>\n",
       "    </tr>\n",
       "  </thead>\n",
       "  <tbody>\n",
       "    <tr>\n",
       "      <th>195</th>\n",
       "      <td>female</td>\n",
       "      <td>67.665967</td>\n",
       "      <td>181.335032</td>\n",
       "    </tr>\n",
       "    <tr>\n",
       "      <th>196</th>\n",
       "      <td>female</td>\n",
       "      <td>62.473033</td>\n",
       "      <td>142.958875</td>\n",
       "    </tr>\n",
       "    <tr>\n",
       "      <th>197</th>\n",
       "      <td>female</td>\n",
       "      <td>58.066929</td>\n",
       "      <td>185.944309</td>\n",
       "    </tr>\n",
       "    <tr>\n",
       "      <th>198</th>\n",
       "      <td>female</td>\n",
       "      <td>64.538536</td>\n",
       "      <td>169.210008</td>\n",
       "    </tr>\n",
       "    <tr>\n",
       "      <th>199</th>\n",
       "      <td>female</td>\n",
       "      <td>57.711723</td>\n",
       "      <td>180.868215</td>\n",
       "    </tr>\n",
       "  </tbody>\n",
       "</table>\n",
       "</div>"
      ],
      "text/plain": [
       "     Gender     Weight      Height\n",
       "195  female  67.665967  181.335032\n",
       "196  female  62.473033  142.958875\n",
       "197  female  58.066929  185.944309\n",
       "198  female  64.538536  169.210008\n",
       "199  female  57.711723  180.868215"
      ]
     },
     "execution_count": 33,
     "metadata": {},
     "output_type": "execute_result"
    }
   ],
   "source": [
    "data.tail()    # son n satır. default n=5"
   ]
  },
  {
   "cell_type": "code",
   "execution_count": 39,
   "metadata": {
    "scrolled": true
   },
   "outputs": [
    {
     "data": {
      "text/html": [
       "<div>\n",
       "<style scoped>\n",
       "    .dataframe tbody tr th:only-of-type {\n",
       "        vertical-align: middle;\n",
       "    }\n",
       "\n",
       "    .dataframe tbody tr th {\n",
       "        vertical-align: top;\n",
       "    }\n",
       "\n",
       "    .dataframe thead th {\n",
       "        text-align: right;\n",
       "    }\n",
       "</style>\n",
       "<table border=\"1\" class=\"dataframe\">\n",
       "  <thead>\n",
       "    <tr style=\"text-align: right;\">\n",
       "      <th></th>\n",
       "      <th>Gender</th>\n",
       "      <th>Weight</th>\n",
       "      <th>Height</th>\n",
       "    </tr>\n",
       "  </thead>\n",
       "  <tbody>\n",
       "    <tr>\n",
       "      <th>189</th>\n",
       "      <td>female</td>\n",
       "      <td>57.007078</td>\n",
       "      <td>150.258029</td>\n",
       "    </tr>\n",
       "    <tr>\n",
       "      <th>190</th>\n",
       "      <td>female</td>\n",
       "      <td>64.508308</td>\n",
       "      <td>160.294277</td>\n",
       "    </tr>\n",
       "    <tr>\n",
       "      <th>191</th>\n",
       "      <td>female</td>\n",
       "      <td>62.299499</td>\n",
       "      <td>162.541536</td>\n",
       "    </tr>\n",
       "    <tr>\n",
       "      <th>192</th>\n",
       "      <td>female</td>\n",
       "      <td>70.244616</td>\n",
       "      <td>158.127348</td>\n",
       "    </tr>\n",
       "    <tr>\n",
       "      <th>193</th>\n",
       "      <td>female</td>\n",
       "      <td>73.706144</td>\n",
       "      <td>163.735447</td>\n",
       "    </tr>\n",
       "    <tr>\n",
       "      <th>194</th>\n",
       "      <td>female</td>\n",
       "      <td>67.491441</td>\n",
       "      <td>183.354130</td>\n",
       "    </tr>\n",
       "    <tr>\n",
       "      <th>195</th>\n",
       "      <td>female</td>\n",
       "      <td>67.665967</td>\n",
       "      <td>181.335032</td>\n",
       "    </tr>\n",
       "    <tr>\n",
       "      <th>196</th>\n",
       "      <td>female</td>\n",
       "      <td>62.473033</td>\n",
       "      <td>142.958875</td>\n",
       "    </tr>\n",
       "    <tr>\n",
       "      <th>197</th>\n",
       "      <td>female</td>\n",
       "      <td>58.066929</td>\n",
       "      <td>185.944309</td>\n",
       "    </tr>\n",
       "    <tr>\n",
       "      <th>198</th>\n",
       "      <td>female</td>\n",
       "      <td>64.538536</td>\n",
       "      <td>169.210008</td>\n",
       "    </tr>\n",
       "    <tr>\n",
       "      <th>199</th>\n",
       "      <td>female</td>\n",
       "      <td>57.711723</td>\n",
       "      <td>180.868215</td>\n",
       "    </tr>\n",
       "  </tbody>\n",
       "</table>\n",
       "</div>"
      ],
      "text/plain": [
       "     Gender     Weight      Height\n",
       "189  female  57.007078  150.258029\n",
       "190  female  64.508308  160.294277\n",
       "191  female  62.299499  162.541536\n",
       "192  female  70.244616  158.127348\n",
       "193  female  73.706144  163.735447\n",
       "194  female  67.491441  183.354130\n",
       "195  female  67.665967  181.335032\n",
       "196  female  62.473033  142.958875\n",
       "197  female  58.066929  185.944309\n",
       "198  female  64.538536  169.210008\n",
       "199  female  57.711723  180.868215"
      ]
     },
     "execution_count": 39,
     "metadata": {},
     "output_type": "execute_result"
    }
   ],
   "source": [
    "data.tail(-189)    # ilk n satır hariç son kalanlar"
   ]
  },
  {
   "cell_type": "code",
   "execution_count": 58,
   "metadata": {
    "scrolled": true
   },
   "outputs": [
    {
     "name": "stdout",
     "output_type": "stream",
     "text": [
      "Height mean:  180.38583729499663\n",
      "Weight standard dev:  6.591886161073934\n"
     ]
    }
   ],
   "source": [
    "print(\"Height mean: \", data.Height.mean())\n",
    "print(\"Weight standard dev: \", data[\"Weight\"].std())    # remember: it works for both dot and bracket notation"
   ]
  },
  {
   "cell_type": "code",
   "execution_count": 64,
   "metadata": {},
   "outputs": [
    {
     "name": "stdout",
     "output_type": "stream",
     "text": [
      "Ağırlık ortalaması: 66.47\n"
     ]
    }
   ],
   "source": [
    "# Ağırlık verilerinin içinde yer alan boşlukların (NaN), verilerin ortalaması ile doldurulması/değiştirilmesi\n",
    "w_mean = data.Weight.mean()\n",
    "data[\"Weight\"].fillna(w_mean)\n",
    "print(f\"Ağırlık ortalaması: {w_mean:.2f}\")"
   ]
  }
 ],
 "metadata": {
  "kernelspec": {
   "display_name": "Python 3",
   "language": "python",
   "name": "python3"
  },
  "language_info": {
   "codemirror_mode": {
    "name": "ipython",
    "version": 3
   },
   "file_extension": ".py",
   "mimetype": "text/x-python",
   "name": "python",
   "nbconvert_exporter": "python",
   "pygments_lexer": "ipython3",
   "version": "3.8.2"
  }
 },
 "nbformat": 4,
 "nbformat_minor": 4
}

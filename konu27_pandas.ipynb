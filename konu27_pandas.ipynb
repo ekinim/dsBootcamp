{
 "cells": [
  {
   "cell_type": "markdown",
   "metadata": {},
   "source": [
    "## Data Frame"
   ]
  },
  {
   "cell_type": "code",
   "execution_count": 1,
   "metadata": {},
   "outputs": [],
   "source": [
    "import pandas as pd\n",
    "import numpy as np\n",
    "import warnings\n",
    "warnings.filterwarnings(\"ignore\")"
   ]
  },
  {
   "cell_type": "code",
   "execution_count": 9,
   "metadata": {},
   "outputs": [
    {
     "data": {
      "text/html": [
       "<div>\n",
       "<style scoped>\n",
       "    .dataframe tbody tr th:only-of-type {\n",
       "        vertical-align: middle;\n",
       "    }\n",
       "\n",
       "    .dataframe tbody tr th {\n",
       "        vertical-align: top;\n",
       "    }\n",
       "\n",
       "    .dataframe thead th {\n",
       "        text-align: right;\n",
       "    }\n",
       "</style>\n",
       "<table border=\"1\" class=\"dataframe\">\n",
       "  <thead>\n",
       "    <tr style=\"text-align: right;\">\n",
       "      <th></th>\n",
       "      <th>Ad</th>\n",
       "      <th>Nüfus</th>\n",
       "      <th>Kod</th>\n",
       "    </tr>\n",
       "  </thead>\n",
       "  <tbody>\n",
       "    <tr>\n",
       "      <th>0</th>\n",
       "      <td>İstanbul</td>\n",
       "      <td>150229231</td>\n",
       "      <td>34</td>\n",
       "    </tr>\n",
       "    <tr>\n",
       "      <th>1</th>\n",
       "      <td>Ankara</td>\n",
       "      <td>5445026</td>\n",
       "      <td>06</td>\n",
       "    </tr>\n",
       "    <tr>\n",
       "      <th>2</th>\n",
       "      <td>İzmir</td>\n",
       "      <td>4279677</td>\n",
       "      <td>35</td>\n",
       "    </tr>\n",
       "    <tr>\n",
       "      <th>3</th>\n",
       "      <td>Bursa</td>\n",
       "      <td>2936803</td>\n",
       "      <td>16</td>\n",
       "    </tr>\n",
       "    <tr>\n",
       "      <th>4</th>\n",
       "      <td>Antalya</td>\n",
       "      <td>2364396</td>\n",
       "      <td>07</td>\n",
       "    </tr>\n",
       "  </tbody>\n",
       "</table>\n",
       "</div>"
      ],
      "text/plain": [
       "         Ad      Nüfus Kod\n",
       "0  İstanbul  150229231  34\n",
       "1    Ankara    5445026  06\n",
       "2     İzmir    4279677  35\n",
       "3     Bursa    2936803  16\n",
       "4   Antalya    2364396  07"
      ]
     },
     "execution_count": 9,
     "metadata": {},
     "output_type": "execute_result"
    }
   ],
   "source": [
    "df1 = pd.DataFrame({\"Ad\":[\"İstanbul\", \"Ankara\", \"İzmir\", \"Bursa\", \"Antalya\"], \n",
    "                   \"Nüfus\":[150229231, 5445026, 4279677, 2936803, 2364396],\n",
    "                   \"Kod\":[\"34\", \"06\", \"35\", \"16\", \"07\"]\n",
    "                  })\n",
    "df1\n",
    "# Kolonlar(Değişkenler/Variables)\n",
    "# Satırlar(Gözlemler/Observations)"
   ]
  },
  {
   "cell_type": "code",
   "execution_count": 15,
   "metadata": {},
   "outputs": [
    {
     "data": {
      "text/html": [
       "<div>\n",
       "<style scoped>\n",
       "    .dataframe tbody tr th:only-of-type {\n",
       "        vertical-align: middle;\n",
       "    }\n",
       "\n",
       "    .dataframe tbody tr th {\n",
       "        vertical-align: top;\n",
       "    }\n",
       "\n",
       "    .dataframe thead th {\n",
       "        text-align: right;\n",
       "    }\n",
       "</style>\n",
       "<table border=\"1\" class=\"dataframe\">\n",
       "  <thead>\n",
       "    <tr style=\"text-align: right;\">\n",
       "      <th></th>\n",
       "      <th>0</th>\n",
       "      <th>1</th>\n",
       "      <th>2</th>\n",
       "      <th>3</th>\n",
       "    </tr>\n",
       "  </thead>\n",
       "  <tbody>\n",
       "    <tr>\n",
       "      <th>0</th>\n",
       "      <td>0</td>\n",
       "      <td>1</td>\n",
       "      <td>2</td>\n",
       "      <td>3</td>\n",
       "    </tr>\n",
       "    <tr>\n",
       "      <th>1</th>\n",
       "      <td>4</td>\n",
       "      <td>5</td>\n",
       "      <td>6</td>\n",
       "      <td>7</td>\n",
       "    </tr>\n",
       "  </tbody>\n",
       "</table>\n",
       "</div>"
      ],
      "text/plain": [
       "   0  1  2  3\n",
       "0  0  1  2  3\n",
       "1  4  5  6  7"
      ]
     },
     "execution_count": 15,
     "metadata": {},
     "output_type": "execute_result"
    }
   ],
   "source": [
    "dizi1 = np.array([[0,1,2,3],[4,5,6,7]])\n",
    "df2 = pd.DataFrame(dizi1)\n",
    "df2"
   ]
  },
  {
   "cell_type": "code",
   "execution_count": 18,
   "metadata": {},
   "outputs": [
    {
     "data": {
      "text/html": [
       "<div>\n",
       "<style scoped>\n",
       "    .dataframe tbody tr th:only-of-type {\n",
       "        vertical-align: middle;\n",
       "    }\n",
       "\n",
       "    .dataframe tbody tr th {\n",
       "        vertical-align: top;\n",
       "    }\n",
       "\n",
       "    .dataframe thead th {\n",
       "        text-align: right;\n",
       "    }\n",
       "</style>\n",
       "<table border=\"1\" class=\"dataframe\">\n",
       "  <thead>\n",
       "    <tr style=\"text-align: right;\">\n",
       "      <th></th>\n",
       "      <th>Column 1</th>\n",
       "      <th>Column 2</th>\n",
       "      <th>Column 3</th>\n",
       "      <th>Column 4</th>\n",
       "    </tr>\n",
       "  </thead>\n",
       "  <tbody>\n",
       "    <tr>\n",
       "      <th>Row 1</th>\n",
       "      <td>0</td>\n",
       "      <td>1</td>\n",
       "      <td>2</td>\n",
       "      <td>3</td>\n",
       "    </tr>\n",
       "    <tr>\n",
       "      <th>Row 2</th>\n",
       "      <td>4</td>\n",
       "      <td>5</td>\n",
       "      <td>6</td>\n",
       "      <td>7</td>\n",
       "    </tr>\n",
       "  </tbody>\n",
       "</table>\n",
       "</div>"
      ],
      "text/plain": [
       "       Column 1  Column 2  Column 3  Column 4\n",
       "Row 1         0         1         2         3\n",
       "Row 2         4         5         6         7"
      ]
     },
     "execution_count": 18,
     "metadata": {},
     "output_type": "execute_result"
    }
   ],
   "source": [
    "df2.columns = [\"Column 1\", \"Column 2\", \"Column 3\", \"Column 4\"]\n",
    "df2.index = [\"Row 1\", \"Row 2\"]\n",
    "# veya   df2.pd.DataFrame(dizi1, columns=[\"Column 1\", ....], index=[\"Row 1\", ....])\n",
    "df2"
   ]
  },
  {
   "cell_type": "code",
   "execution_count": 20,
   "metadata": {},
   "outputs": [
    {
     "data": {
      "text/html": [
       "<div>\n",
       "<style scoped>\n",
       "    .dataframe tbody tr th:only-of-type {\n",
       "        vertical-align: middle;\n",
       "    }\n",
       "\n",
       "    .dataframe tbody tr th {\n",
       "        vertical-align: top;\n",
       "    }\n",
       "\n",
       "    .dataframe thead th {\n",
       "        text-align: right;\n",
       "    }\n",
       "</style>\n",
       "<table border=\"1\" class=\"dataframe\">\n",
       "  <thead>\n",
       "    <tr style=\"text-align: right;\">\n",
       "      <th></th>\n",
       "      <th>Column 1</th>\n",
       "      <th>Column 2</th>\n",
       "    </tr>\n",
       "  </thead>\n",
       "  <tbody>\n",
       "    <tr>\n",
       "      <th>Row 1</th>\n",
       "      <td>9</td>\n",
       "      <td>5</td>\n",
       "    </tr>\n",
       "    <tr>\n",
       "      <th>Row 2</th>\n",
       "      <td>8</td>\n",
       "      <td>4</td>\n",
       "    </tr>\n",
       "    <tr>\n",
       "      <th>Row 3</th>\n",
       "      <td>7</td>\n",
       "      <td>3</td>\n",
       "    </tr>\n",
       "    <tr>\n",
       "      <th>Row 4</th>\n",
       "      <td>6</td>\n",
       "      <td>2</td>\n",
       "    </tr>\n",
       "  </tbody>\n",
       "</table>\n",
       "</div>"
      ],
      "text/plain": [
       "       Column 1  Column 2\n",
       "Row 1         9         5\n",
       "Row 2         8         4\n",
       "Row 3         7         3\n",
       "Row 4         6         2"
      ]
     },
     "execution_count": 20,
     "metadata": {},
     "output_type": "execute_result"
    }
   ],
   "source": [
    "# boş veri çerçevesi oluşturup sonradan da ekleyebiliriz.\n",
    "df3 = pd.DataFrame()\n",
    "df3[\"Column 1\"] = [9,8,7,6]\n",
    "df3[\"Column 2\"] = [5,4,3,2]\n",
    "df3.index = [\"Row 1\", \"Row 2\", \"Row 3\", \"Row 4\"]\n",
    "df3"
   ]
  },
  {
   "cell_type": "markdown",
   "metadata": {},
   "source": [
    "**Bu kısmı anlamadım:<br>**\n",
    "\"Pep8 ile ilgili küçük bir not: Muhtemelen iki yanında boşluk olan ” = “ i değer atama için, “==” i ise karşılaştırma için kullanıyorsunuz. Python'da, okunabilirliği geliştirmek ve argumanlar atamalarını değişken atamalarından ayırt etmeyi kolaylaştırmak için “=” in iki yanında boşluk kullanılmaması alışkanlığı yerleşmiştir.\""
   ]
  },
  {
   "cell_type": "code",
   "execution_count": 25,
   "metadata": {},
   "outputs": [
    {
     "data": {
      "text/html": [
       "<div>\n",
       "<style scoped>\n",
       "    .dataframe tbody tr th:only-of-type {\n",
       "        vertical-align: middle;\n",
       "    }\n",
       "\n",
       "    .dataframe tbody tr th {\n",
       "        vertical-align: top;\n",
       "    }\n",
       "\n",
       "    .dataframe thead th {\n",
       "        text-align: right;\n",
       "    }\n",
       "</style>\n",
       "<table border=\"1\" class=\"dataframe\">\n",
       "  <thead>\n",
       "    <tr style=\"text-align: right;\">\n",
       "      <th></th>\n",
       "    </tr>\n",
       "    <tr>\n",
       "      <th>Kod</th>\n",
       "    </tr>\n",
       "  </thead>\n",
       "  <tbody>\n",
       "    <tr>\n",
       "      <th>FR</th>\n",
       "    </tr>\n",
       "    <tr>\n",
       "      <th>GE</th>\n",
       "    </tr>\n",
       "    <tr>\n",
       "      <th>US</th>\n",
       "    </tr>\n",
       "    <tr>\n",
       "      <th>UK</th>\n",
       "    </tr>\n",
       "    <tr>\n",
       "      <th>CN</th>\n",
       "    </tr>\n",
       "  </tbody>\n",
       "</table>\n",
       "</div>"
      ],
      "text/plain": [
       "Empty DataFrame\n",
       "Columns: []\n",
       "Index: [FR, GE, US, UK, CN]"
      ]
     },
     "execution_count": 25,
     "metadata": {},
     "output_type": "execute_result"
    }
   ],
   "source": [
    "ulke_kod = ['FR', 'GE', 'US', 'UK', 'CN']\n",
    "ulkeler = pd.DataFrame(index=ulke_kod)\n",
    "ulkeler.index.name = \"Kod\"\n",
    "ulkeler"
   ]
  },
  {
   "cell_type": "code",
   "execution_count": 38,
   "metadata": {},
   "outputs": [
    {
     "data": {
      "text/html": [
       "<div>\n",
       "<style scoped>\n",
       "    .dataframe tbody tr th:only-of-type {\n",
       "        vertical-align: middle;\n",
       "    }\n",
       "\n",
       "    .dataframe tbody tr th {\n",
       "        vertical-align: top;\n",
       "    }\n",
       "\n",
       "    .dataframe thead th {\n",
       "        text-align: right;\n",
       "    }\n",
       "</style>\n",
       "<table border=\"1\" class=\"dataframe\">\n",
       "  <thead>\n",
       "    <tr style=\"text-align: right;\">\n",
       "      <th></th>\n",
       "      <th>Ülke</th>\n",
       "      <th>Nüfus</th>\n",
       "      <th>Toplam Gelir</th>\n",
       "      <th>Kıta</th>\n",
       "      <th>Yaşam Süresi</th>\n",
       "      <th>Yıl</th>\n",
       "    </tr>\n",
       "    <tr>\n",
       "      <th>Kod</th>\n",
       "      <th></th>\n",
       "      <th></th>\n",
       "      <th></th>\n",
       "      <th></th>\n",
       "      <th></th>\n",
       "      <th></th>\n",
       "    </tr>\n",
       "  </thead>\n",
       "  <tbody>\n",
       "    <tr>\n",
       "      <th>FR</th>\n",
       "      <td>Fransa</td>\n",
       "      <td>61083916</td>\n",
       "      <td>2657213249384</td>\n",
       "      <td>Avrupa</td>\n",
       "      <td>80.657</td>\n",
       "      <td>2007</td>\n",
       "    </tr>\n",
       "    <tr>\n",
       "      <th>GE</th>\n",
       "      <td>Almanya</td>\n",
       "      <td>82400996</td>\n",
       "      <td>3439953462907</td>\n",
       "      <td>Avrupa</td>\n",
       "      <td>79.406</td>\n",
       "      <td>2007</td>\n",
       "    </tr>\n",
       "    <tr>\n",
       "      <th>US</th>\n",
       "      <td>ABD</td>\n",
       "      <td>301139947</td>\n",
       "      <td>14477635000000</td>\n",
       "      <td>Amerika</td>\n",
       "      <td>78.242</td>\n",
       "      <td>2007</td>\n",
       "    </tr>\n",
       "    <tr>\n",
       "      <th>UK</th>\n",
       "      <td>İngiltere</td>\n",
       "      <td>60776238</td>\n",
       "      <td>3074359743897</td>\n",
       "      <td>Avrupa</td>\n",
       "      <td>79.425</td>\n",
       "      <td>2007</td>\n",
       "    </tr>\n",
       "    <tr>\n",
       "      <th>CN</th>\n",
       "      <td>Çin</td>\n",
       "      <td>1318683096</td>\n",
       "      <td>3552182311652</td>\n",
       "      <td>Asya</td>\n",
       "      <td>72.961</td>\n",
       "      <td>2007</td>\n",
       "    </tr>\n",
       "  </tbody>\n",
       "</table>\n",
       "</div>"
      ],
      "text/plain": [
       "          Ülke       Nüfus    Toplam Gelir     Kıta  Yaşam Süresi   Yıl\n",
       "Kod                                                                    \n",
       "FR      Fransa    61083916   2657213249384   Avrupa        80.657  2007\n",
       "GE     Almanya    82400996   3439953462907   Avrupa        79.406  2007\n",
       "US         ABD   301139947  14477635000000  Amerika        78.242  2007\n",
       "UK   İngiltere    60776238   3074359743897   Avrupa        79.425  2007\n",
       "CN         Çin  1318683096   3552182311652     Asya        72.961  2007"
      ]
     },
     "execution_count": 38,
     "metadata": {},
     "output_type": "execute_result"
    }
   ],
   "source": [
    "ulkeler[\"Ülke\"] = ['Fransa', 'Almanya', 'ABD', 'İngiltere', 'Çin']\n",
    "ulkeler[\"Nüfus\"] = [61083916, 82400996, 301139947, 60776238, 1318683096]\n",
    "ulkeler[\"Yaşam Süresi\"] = [80.657, 79.406, 78.242 ,79.425, 72.961]\n",
    "ulkeler[\"Toplam Gelir\"] = [2657213249384, 3439953462907, 14477635000000, 3074359743897, 3552182311652]\n",
    "ulkeler[\"Kıta\"] = ['Avrupa', 'Avrupa', 'Amerika', 'Avrupa', 'Asya']\n",
    "## \"Ort. Yaşam Süresi\" ismini değiştirdim fakat yeni bir sütun olarak geldi. Silemedim.\n",
    "## del ulkeler[\"Ort. Yaşam Süresi\"] yazınca oldu. Bu doğru bir yöntem mi? Arkasında bir data falan bıraktı mı? .drop\n",
    "ulkeler[\"Yıl\"] = 2007\n",
    "ulkeler"
   ]
  },
  {
   "cell_type": "code",
   "execution_count": 90,
   "metadata": {
    "scrolled": true
   },
   "outputs": [
    {
     "name": "stdout",
     "output_type": "stream",
     "text": [
      "Kod\n",
      "FR      61083916\n",
      "GE      82400996\n",
      "US     301139947\n",
      "UK      60776238\n",
      "CN    1318683096\n",
      "Name: Nüfus, dtype: int64 \n",
      "\n",
      "Kod\n",
      "FR      61083916\n",
      "GE      82400996\n",
      "US     301139947\n",
      "UK      60776238\n",
      "CN    1318683096\n",
      "Name: Nüfus, dtype: int64\n",
      "Type is:  <class 'pandas.core.series.Series'>\n"
     ]
    }
   ],
   "source": [
    "print(ulkeler[\"Nüfus\"], \"\\n\")    ## dot notation veya bracket notation. ikisi de olur\n",
    "print(ulkeler.Nüfus)             ## fakat sütun isminde boşluk varsa, patlar. [\"bu daha yaygın kullanılıyor\"]\n",
    "## bu altlardaki Name:  kısmını nasıl kaldırıyoruz?\n",
    "print(\"Type is: \", type(ulkeler.Nüfus))\n",
    "\n",
    "# Bu şekilde tek sutundan oluşan dataframe parçası karşımıza Seri (Series) olarak çıkacak.\n",
    "# Bu seri aynı zamanda tek boyutlu bir dizidir."
   ]
  },
  {
   "cell_type": "code",
   "execution_count": 99,
   "metadata": {},
   "outputs": [
    {
     "name": "stdout",
     "output_type": "stream",
     "text": [
      "          Nüfus\n",
      "Kod            \n",
      "FR     61083916\n",
      "GE     82400996\n",
      "US    301139947\n",
      "UK     60776238\n",
      "CN   1318683096 \n",
      "\n",
      "Type is:  <class 'pandas.core.frame.DataFrame'>\n"
     ]
    }
   ],
   "source": [
    "print(ulkeler[[\"Nüfus\"]], \"\\n\")\n",
    "print(\"Type is: \", type(ulkeler[[\"Nüfus\"]]))\n",
    "## series.Series olmasıyla frame.DataFrame olması arasında ne fark var?"
   ]
  },
  {
   "cell_type": "code",
   "execution_count": 69,
   "metadata": {
    "scrolled": true
   },
   "outputs": [
    {
     "data": {
      "text/html": [
       "<div>\n",
       "<style scoped>\n",
       "    .dataframe tbody tr th:only-of-type {\n",
       "        vertical-align: middle;\n",
       "    }\n",
       "\n",
       "    .dataframe tbody tr th {\n",
       "        vertical-align: top;\n",
       "    }\n",
       "\n",
       "    .dataframe thead th {\n",
       "        text-align: right;\n",
       "    }\n",
       "</style>\n",
       "<table border=\"1\" class=\"dataframe\">\n",
       "  <thead>\n",
       "    <tr style=\"text-align: right;\">\n",
       "      <th></th>\n",
       "      <th>Ülke</th>\n",
       "      <th>Nüfus</th>\n",
       "      <th>Toplam Gelir</th>\n",
       "      <th>Kıta</th>\n",
       "      <th>Yaşam Süresi</th>\n",
       "      <th>Yıl</th>\n",
       "      <th>Kişi Başı Gelir</th>\n",
       "    </tr>\n",
       "    <tr>\n",
       "      <th>Kod</th>\n",
       "      <th></th>\n",
       "      <th></th>\n",
       "      <th></th>\n",
       "      <th></th>\n",
       "      <th></th>\n",
       "      <th></th>\n",
       "      <th></th>\n",
       "    </tr>\n",
       "  </thead>\n",
       "  <tbody>\n",
       "    <tr>\n",
       "      <th>FR</th>\n",
       "      <td>Fransa</td>\n",
       "      <td>61083916</td>\n",
       "      <td>2657213249384</td>\n",
       "      <td>Avrupa</td>\n",
       "      <td>80.657</td>\n",
       "      <td>2007</td>\n",
       "      <td>43501</td>\n",
       "    </tr>\n",
       "    <tr>\n",
       "      <th>GE</th>\n",
       "      <td>Almanya</td>\n",
       "      <td>82400996</td>\n",
       "      <td>3439953462907</td>\n",
       "      <td>Avrupa</td>\n",
       "      <td>79.406</td>\n",
       "      <td>2007</td>\n",
       "      <td>41746</td>\n",
       "    </tr>\n",
       "    <tr>\n",
       "      <th>US</th>\n",
       "      <td>ABD</td>\n",
       "      <td>301139947</td>\n",
       "      <td>14477635000000</td>\n",
       "      <td>Amerika</td>\n",
       "      <td>78.242</td>\n",
       "      <td>2007</td>\n",
       "      <td>48076</td>\n",
       "    </tr>\n",
       "    <tr>\n",
       "      <th>UK</th>\n",
       "      <td>İngiltere</td>\n",
       "      <td>60776238</td>\n",
       "      <td>3074359743897</td>\n",
       "      <td>Avrupa</td>\n",
       "      <td>79.425</td>\n",
       "      <td>2007</td>\n",
       "      <td>50584</td>\n",
       "    </tr>\n",
       "    <tr>\n",
       "      <th>CN</th>\n",
       "      <td>Çin</td>\n",
       "      <td>1318683096</td>\n",
       "      <td>3552182311652</td>\n",
       "      <td>Asya</td>\n",
       "      <td>72.961</td>\n",
       "      <td>2007</td>\n",
       "      <td>2693</td>\n",
       "    </tr>\n",
       "  </tbody>\n",
       "</table>\n",
       "</div>"
      ],
      "text/plain": [
       "          Ülke       Nüfus    Toplam Gelir     Kıta  Yaşam Süresi   Yıl  \\\n",
       "Kod                                                                       \n",
       "FR      Fransa    61083916   2657213249384   Avrupa        80.657  2007   \n",
       "GE     Almanya    82400996   3439953462907   Avrupa        79.406  2007   \n",
       "US         ABD   301139947  14477635000000  Amerika        78.242  2007   \n",
       "UK   İngiltere    60776238   3074359743897   Avrupa        79.425  2007   \n",
       "CN         Çin  1318683096   3552182311652     Asya        72.961  2007   \n",
       "\n",
       "     Kişi Başı Gelir  \n",
       "Kod                   \n",
       "FR             43501  \n",
       "GE             41746  \n",
       "US             48076  \n",
       "UK             50584  \n",
       "CN              2693  "
      ]
     },
     "execution_count": 69,
     "metadata": {},
     "output_type": "execute_result"
    }
   ],
   "source": [
    "ulkeler[\"Kişi Başı Gelir\"] = (ulkeler[\"Toplam Gelir\"] / ulkeler.Nüfus).astype(int)    # işlem yaparak yeni sütun oluşturma\n",
    "ulkeler"
   ]
  },
  {
   "cell_type": "markdown",
   "metadata": {},
   "source": [
    "## Satır/Sütun Seçme"
   ]
  },
  {
   "cell_type": "code",
   "execution_count": 101,
   "metadata": {
    "scrolled": true
   },
   "outputs": [
    {
     "data": {
      "text/html": [
       "<div>\n",
       "<style scoped>\n",
       "    .dataframe tbody tr th:only-of-type {\n",
       "        vertical-align: middle;\n",
       "    }\n",
       "\n",
       "    .dataframe tbody tr th {\n",
       "        vertical-align: top;\n",
       "    }\n",
       "\n",
       "    .dataframe thead th {\n",
       "        text-align: right;\n",
       "    }\n",
       "</style>\n",
       "<table border=\"1\" class=\"dataframe\">\n",
       "  <thead>\n",
       "    <tr style=\"text-align: right;\">\n",
       "      <th></th>\n",
       "      <th>Ülke</th>\n",
       "    </tr>\n",
       "    <tr>\n",
       "      <th>Kod</th>\n",
       "      <th></th>\n",
       "    </tr>\n",
       "  </thead>\n",
       "  <tbody>\n",
       "    <tr>\n",
       "      <th>FR</th>\n",
       "      <td>Fransa</td>\n",
       "    </tr>\n",
       "    <tr>\n",
       "      <th>GE</th>\n",
       "      <td>Almanya</td>\n",
       "    </tr>\n",
       "    <tr>\n",
       "      <th>US</th>\n",
       "      <td>ABD</td>\n",
       "    </tr>\n",
       "    <tr>\n",
       "      <th>UK</th>\n",
       "      <td>İngiltere</td>\n",
       "    </tr>\n",
       "    <tr>\n",
       "      <th>CN</th>\n",
       "      <td>Çin</td>\n",
       "    </tr>\n",
       "  </tbody>\n",
       "</table>\n",
       "</div>"
      ],
      "text/plain": [
       "          Ülke\n",
       "Kod           \n",
       "FR      Fransa\n",
       "GE     Almanya\n",
       "US         ABD\n",
       "UK   İngiltere\n",
       "CN         Çin"
      ]
     },
     "execution_count": 101,
     "metadata": {},
     "output_type": "execute_result"
    }
   ],
   "source": [
    "ulkeler[[\"Ülke\"]]\n",
    "# Bu tek sütunu seri ya da dizi almak istemiyorsak, yine veri çerçevesinde tutmak istiyorsak iki köşeli parantez kullanmalıyız."
   ]
  },
  {
   "cell_type": "code",
   "execution_count": 95,
   "metadata": {
    "scrolled": true
   },
   "outputs": [
    {
     "data": {
      "text/plain": [
       "Kod\n",
       "FR       Fransa\n",
       "GE      Almanya\n",
       "US          ABD\n",
       "UK    İngiltere\n",
       "CN          Çin\n",
       "Name: Ülke, dtype: object"
      ]
     },
     "execution_count": 95,
     "metadata": {},
     "output_type": "execute_result"
    }
   ],
   "source": [
    "ulkeler[\"Ülke\"]"
   ]
  },
  {
   "cell_type": "code",
   "execution_count": 105,
   "metadata": {},
   "outputs": [
    {
     "data": {
      "text/html": [
       "<div>\n",
       "<style scoped>\n",
       "    .dataframe tbody tr th:only-of-type {\n",
       "        vertical-align: middle;\n",
       "    }\n",
       "\n",
       "    .dataframe tbody tr th {\n",
       "        vertical-align: top;\n",
       "    }\n",
       "\n",
       "    .dataframe thead th {\n",
       "        text-align: right;\n",
       "    }\n",
       "</style>\n",
       "<table border=\"1\" class=\"dataframe\">\n",
       "  <thead>\n",
       "    <tr style=\"text-align: right;\">\n",
       "      <th></th>\n",
       "      <th>Ülke</th>\n",
       "      <th>Yaşam Süresi</th>\n",
       "    </tr>\n",
       "    <tr>\n",
       "      <th>Kod</th>\n",
       "      <th></th>\n",
       "      <th></th>\n",
       "    </tr>\n",
       "  </thead>\n",
       "  <tbody>\n",
       "    <tr>\n",
       "      <th>FR</th>\n",
       "      <td>Fransa</td>\n",
       "      <td>80.657</td>\n",
       "    </tr>\n",
       "    <tr>\n",
       "      <th>GE</th>\n",
       "      <td>Almanya</td>\n",
       "      <td>79.406</td>\n",
       "    </tr>\n",
       "    <tr>\n",
       "      <th>US</th>\n",
       "      <td>ABD</td>\n",
       "      <td>78.242</td>\n",
       "    </tr>\n",
       "    <tr>\n",
       "      <th>UK</th>\n",
       "      <td>İngiltere</td>\n",
       "      <td>79.425</td>\n",
       "    </tr>\n",
       "    <tr>\n",
       "      <th>CN</th>\n",
       "      <td>Çin</td>\n",
       "      <td>72.961</td>\n",
       "    </tr>\n",
       "  </tbody>\n",
       "</table>\n",
       "</div>"
      ],
      "text/plain": [
       "          Ülke  Yaşam Süresi\n",
       "Kod                         \n",
       "FR      Fransa        80.657\n",
       "GE     Almanya        79.406\n",
       "US         ABD        78.242\n",
       "UK   İngiltere        79.425\n",
       "CN         Çin        72.961"
      ]
     },
     "execution_count": 105,
     "metadata": {},
     "output_type": "execute_result"
    }
   ],
   "source": [
    "# Şekil olarak baktığımızda çok fark yokmuş gibi görünse de\n",
    "# sahip oldukları fonksiyonları ve metodları irdelemeye başlayınca farklarını göreceğiz.\n",
    "# Birden fazla sütun seçeceğimiz zaman ise iki köşeli parantez kesinlikle gerekli.\n",
    "\n",
    "ulkeler[[\"Ülke\", \"Yaşam Süresi\"]]"
   ]
  },
  {
   "cell_type": "code",
   "execution_count": 110,
   "metadata": {},
   "outputs": [
    {
     "data": {
      "text/html": [
       "<div>\n",
       "<style scoped>\n",
       "    .dataframe tbody tr th:only-of-type {\n",
       "        vertical-align: middle;\n",
       "    }\n",
       "\n",
       "    .dataframe tbody tr th {\n",
       "        vertical-align: top;\n",
       "    }\n",
       "\n",
       "    .dataframe thead th {\n",
       "        text-align: right;\n",
       "    }\n",
       "</style>\n",
       "<table border=\"1\" class=\"dataframe\">\n",
       "  <thead>\n",
       "    <tr style=\"text-align: right;\">\n",
       "      <th></th>\n",
       "      <th>Ülke</th>\n",
       "      <th>Nüfus</th>\n",
       "      <th>Toplam Gelir</th>\n",
       "      <th>Kıta</th>\n",
       "      <th>Yaşam Süresi</th>\n",
       "      <th>Yıl</th>\n",
       "      <th>Kişi Başı Gelir</th>\n",
       "    </tr>\n",
       "    <tr>\n",
       "      <th>Kod</th>\n",
       "      <th></th>\n",
       "      <th></th>\n",
       "      <th></th>\n",
       "      <th></th>\n",
       "      <th></th>\n",
       "      <th></th>\n",
       "      <th></th>\n",
       "    </tr>\n",
       "  </thead>\n",
       "  <tbody>\n",
       "    <tr>\n",
       "      <th>US</th>\n",
       "      <td>ABD</td>\n",
       "      <td>301139947</td>\n",
       "      <td>14477635000000</td>\n",
       "      <td>Amerika</td>\n",
       "      <td>78.242</td>\n",
       "      <td>2007</td>\n",
       "      <td>48076</td>\n",
       "    </tr>\n",
       "    <tr>\n",
       "      <th>UK</th>\n",
       "      <td>İngiltere</td>\n",
       "      <td>60776238</td>\n",
       "      <td>3074359743897</td>\n",
       "      <td>Avrupa</td>\n",
       "      <td>79.425</td>\n",
       "      <td>2007</td>\n",
       "      <td>50584</td>\n",
       "    </tr>\n",
       "  </tbody>\n",
       "</table>\n",
       "</div>"
      ],
      "text/plain": [
       "          Ülke      Nüfus    Toplam Gelir     Kıta  Yaşam Süresi   Yıl  \\\n",
       "Kod                                                                      \n",
       "US         ABD  301139947  14477635000000  Amerika        78.242  2007   \n",
       "UK   İngiltere   60776238   3074359743897   Avrupa        79.425  2007   \n",
       "\n",
       "     Kişi Başı Gelir  \n",
       "Kod                   \n",
       "US             48076  \n",
       "UK             50584  "
      ]
     },
     "execution_count": 110,
     "metadata": {},
     "output_type": "execute_result"
    }
   ],
   "source": [
    "ulkeler[2:4]"
   ]
  },
  {
   "cell_type": "code",
   "execution_count": 114,
   "metadata": {},
   "outputs": [
    {
     "data": {
      "text/html": [
       "<div>\n",
       "<style scoped>\n",
       "    .dataframe tbody tr th:only-of-type {\n",
       "        vertical-align: middle;\n",
       "    }\n",
       "\n",
       "    .dataframe tbody tr th {\n",
       "        vertical-align: top;\n",
       "    }\n",
       "\n",
       "    .dataframe thead th {\n",
       "        text-align: right;\n",
       "    }\n",
       "</style>\n",
       "<table border=\"1\" class=\"dataframe\">\n",
       "  <thead>\n",
       "    <tr style=\"text-align: right;\">\n",
       "      <th></th>\n",
       "      <th>Ülke</th>\n",
       "      <th>Nüfus</th>\n",
       "      <th>Toplam Gelir</th>\n",
       "      <th>Kıta</th>\n",
       "      <th>Yaşam Süresi</th>\n",
       "      <th>Yıl</th>\n",
       "      <th>Kişi Başı Gelir</th>\n",
       "    </tr>\n",
       "    <tr>\n",
       "      <th>Kod</th>\n",
       "      <th></th>\n",
       "      <th></th>\n",
       "      <th></th>\n",
       "      <th></th>\n",
       "      <th></th>\n",
       "      <th></th>\n",
       "      <th></th>\n",
       "    </tr>\n",
       "  </thead>\n",
       "  <tbody>\n",
       "    <tr>\n",
       "      <th>GE</th>\n",
       "      <td>Almanya</td>\n",
       "      <td>82400996</td>\n",
       "      <td>3439953462907</td>\n",
       "      <td>Avrupa</td>\n",
       "      <td>79.406</td>\n",
       "      <td>2007</td>\n",
       "      <td>41746</td>\n",
       "    </tr>\n",
       "  </tbody>\n",
       "</table>\n",
       "</div>"
      ],
      "text/plain": [
       "        Ülke     Nüfus   Toplam Gelir    Kıta  Yaşam Süresi   Yıl  \\\n",
       "Kod                                                                 \n",
       "GE   Almanya  82400996  3439953462907  Avrupa        79.406  2007   \n",
       "\n",
       "     Kişi Başı Gelir  \n",
       "Kod                   \n",
       "GE             41746  "
      ]
     },
     "execution_count": 114,
     "metadata": {},
     "output_type": "execute_result"
    }
   ],
   "source": [
    "ulkeler.loc[[\"GE\"]]"
   ]
  },
  {
   "cell_type": "code",
   "execution_count": 115,
   "metadata": {},
   "outputs": [
    {
     "data": {
      "text/plain": [
       "Ülke                     Almanya\n",
       "Nüfus                   82400996\n",
       "Toplam Gelir       3439953462907\n",
       "Kıta                      Avrupa\n",
       "Yaşam Süresi              79.406\n",
       "Yıl                         2007\n",
       "Kişi Başı Gelir            41746\n",
       "Name: GE, dtype: object"
      ]
     },
     "execution_count": 115,
     "metadata": {},
     "output_type": "execute_result"
    }
   ],
   "source": [
    "ulkeler.loc[\"GE\"]"
   ]
  },
  {
   "cell_type": "code",
   "execution_count": 127,
   "metadata": {},
   "outputs": [
    {
     "ename": "SyntaxError",
     "evalue": "invalid syntax (<ipython-input-127-c9a231202577>, line 1)",
     "output_type": "error",
     "traceback": [
      "\u001b[1;36m  File \u001b[1;32m\"<ipython-input-127-c9a231202577>\"\u001b[1;36m, line \u001b[1;32m1\u001b[0m\n\u001b[1;33m    ulkeler.loc[[:, \"Yaşam Süresi\"]]    # DataFrame olmadı\u001b[0m\n\u001b[1;37m                 ^\u001b[0m\n\u001b[1;31mSyntaxError\u001b[0m\u001b[1;31m:\u001b[0m invalid syntax\n"
     ]
    }
   ],
   "source": [
    "ulkeler.loc[[:, \"Yaşam Süresi\"]]    # DataFrame olmadı"
   ]
  },
  {
   "cell_type": "code",
   "execution_count": 124,
   "metadata": {},
   "outputs": [
    {
     "data": {
      "text/plain": [
       "Kod\n",
       "FR    80.657\n",
       "GE    79.406\n",
       "US    78.242\n",
       "UK    79.425\n",
       "CN    72.961\n",
       "Name: Yaşam Süresi, dtype: float64"
      ]
     },
     "execution_count": 124,
     "metadata": {},
     "output_type": "execute_result"
    }
   ],
   "source": [
    "ulkeler.loc[:, \"Yaşam Süresi\"]"
   ]
  },
  {
   "cell_type": "code",
   "execution_count": 125,
   "metadata": {},
   "outputs": [
    {
     "data": {
      "text/plain": [
       "82400996"
      ]
     },
     "execution_count": 125,
     "metadata": {},
     "output_type": "execute_result"
    }
   ],
   "source": [
    "ulkeler.loc[\"GE\", \"Nüfus\"]    # almanya'nın nüfusunu seçtik"
   ]
  },
  {
   "cell_type": "code",
   "execution_count": 134,
   "metadata": {},
   "outputs": [
    {
     "data": {
      "text/html": [
       "<div>\n",
       "<style scoped>\n",
       "    .dataframe tbody tr th:only-of-type {\n",
       "        vertical-align: middle;\n",
       "    }\n",
       "\n",
       "    .dataframe tbody tr th {\n",
       "        vertical-align: top;\n",
       "    }\n",
       "\n",
       "    .dataframe thead th {\n",
       "        text-align: right;\n",
       "    }\n",
       "</style>\n",
       "<table border=\"1\" class=\"dataframe\">\n",
       "  <thead>\n",
       "    <tr style=\"text-align: right;\">\n",
       "      <th></th>\n",
       "      <th>Nüfus</th>\n",
       "      <th>Toplam Gelir</th>\n",
       "    </tr>\n",
       "    <tr>\n",
       "      <th>Kod</th>\n",
       "      <th></th>\n",
       "      <th></th>\n",
       "    </tr>\n",
       "  </thead>\n",
       "  <tbody>\n",
       "    <tr>\n",
       "      <th>US</th>\n",
       "      <td>301139947</td>\n",
       "      <td>14477635000000</td>\n",
       "    </tr>\n",
       "    <tr>\n",
       "      <th>UK</th>\n",
       "      <td>60776238</td>\n",
       "      <td>3074359743897</td>\n",
       "    </tr>\n",
       "  </tbody>\n",
       "</table>\n",
       "</div>"
      ],
      "text/plain": [
       "         Nüfus    Toplam Gelir\n",
       "Kod                           \n",
       "US   301139947  14477635000000\n",
       "UK    60776238   3074359743897"
      ]
     },
     "execution_count": 134,
     "metadata": {},
     "output_type": "execute_result"
    }
   ],
   "source": [
    "ulkeler.iloc[2:4,1:3]"
   ]
  },
  {
   "cell_type": "markdown",
   "metadata": {},
   "source": [
    "## Koşullu Seçim"
   ]
  },
  {
   "cell_type": "code",
   "execution_count": null,
   "metadata": {},
   "outputs": [],
   "source": []
  }
 ],
 "metadata": {
  "kernelspec": {
   "display_name": "Python 3",
   "language": "python",
   "name": "python3"
  },
  "language_info": {
   "codemirror_mode": {
    "name": "ipython",
    "version": 3
   },
   "file_extension": ".py",
   "mimetype": "text/x-python",
   "name": "python",
   "nbconvert_exporter": "python",
   "pygments_lexer": "ipython3",
   "version": "3.8.1"
  }
 },
 "nbformat": 4,
 "nbformat_minor": 4
}
